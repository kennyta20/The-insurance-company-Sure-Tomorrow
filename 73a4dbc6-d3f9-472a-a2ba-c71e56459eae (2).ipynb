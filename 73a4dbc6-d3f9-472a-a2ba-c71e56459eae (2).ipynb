{
 "cells": [
  {
   "cell_type": "markdown",
   "metadata": {},
   "source": [
    "# Description"
   ]
  },
  {
   "cell_type": "markdown",
   "metadata": {},
   "source": [
    "The insurance company Sure Tomorrow wants to address several tasks using machine learning and has asked you to evaluate the feasibility of these tasks:\n",
    "\n",
    "-Task 1: Identify customers who are similar to a given customer. This will help the company's agents with marketing efforts.\n",
    "\n",
    "-Task 2: Predict the likelihood that a new customer will receive an insurance benefit. Can a predictive model perform better than a dummy model?\n",
    "\n",
    "-Task 3: Predict the number of insurance benefits a new customer might receive using a linear regression model.\n",
    "\n",
    "-Task 4: Protect customers' personal data without affecting the model from the previous task. It is necessary to develop a data transformation algorithm that makes it difficult to retrieve personal information if the data falls into the wrong hands. This process is known as data masking or obfuscation. However, the data must be protected in such a way that the quality of the machine learning models is not impacted. It is not required to select the best model; demonstrating that the algorithm works correctly will suffice.\n"
   ]
  },
  {
   "cell_type": "markdown",
   "metadata": {},
   "source": [
    "# Data Preprocessing and Exploration\n",
    "\n",
    "## Initialization"
   ]
  },
  {
   "cell_type": "code",
   "execution_count": 47,
   "metadata": {},
   "outputs": [
    {
     "name": "stdout",
     "output_type": "stream",
     "text": [
      "\u001b[33mWARNING: Ignoring invalid distribution -cikit-learn (/opt/conda/envs/python3/lib/python3.9/site-packages)\u001b[0m\u001b[33m\n",
      "\u001b[0mRequirement already satisfied: scikit-learn in /opt/conda/envs/python3/lib/python3.9/site-packages (0.24.1)\n",
      "Collecting scikit-learn\n",
      "  Using cached scikit_learn-1.6.0-cp39-cp39-manylinux_2_17_x86_64.manylinux2014_x86_64.whl.metadata (18 kB)\n",
      "Requirement already satisfied: numpy>=1.19.5 in /opt/conda/envs/python3/lib/python3.9/site-packages (from scikit-learn) (1.21.2)\n",
      "Requirement already satisfied: scipy>=1.6.0 in /opt/conda/envs/python3/lib/python3.9/site-packages (from scikit-learn) (1.10.1)\n",
      "Requirement already satisfied: joblib>=1.2.0 in /opt/conda/envs/python3/lib/python3.9/site-packages (from scikit-learn) (1.4.2)\n",
      "Requirement already satisfied: threadpoolctl>=3.1.0 in /opt/conda/envs/python3/lib/python3.9/site-packages (from scikit-learn) (3.5.0)\n",
      "Using cached scikit_learn-1.6.0-cp39-cp39-manylinux_2_17_x86_64.manylinux2014_x86_64.whl (13.5 MB)\n",
      "\u001b[33mWARNING: Ignoring invalid distribution -cikit-learn (/opt/conda/envs/python3/lib/python3.9/site-packages)\u001b[0m\u001b[33m\n",
      "\u001b[0mInstalling collected packages: scikit-learn\n",
      "  Attempting uninstall: scikit-learn\n",
      "    Found existing installation: scikit-learn 0.24.1\n",
      "    Uninstalling scikit-learn-0.24.1:\n",
      "\u001b[31mERROR: Could not install packages due to an OSError: [Errno 13] Permission denied: 'COPYING'\n",
      "Consider using the `--user` option or check the permissions.\n",
      "\u001b[0m\u001b[31m\n",
      "\u001b[0mNote: you may need to restart the kernel to use updated packages.\n"
     ]
    }
   ],
   "source": [
    "pip install scikit-learn --upgrade"
   ]
  },
  {
   "cell_type": "code",
   "execution_count": 48,
   "metadata": {},
   "outputs": [],
   "source": [
    "import numpy as np\n",
    "import pandas as pd\n",
    "\n",
    "import seaborn as sns\n",
    "\n",
    "import matplotlib.pyplot as plt\n",
    "\n",
    "import math\n",
    "\n",
    "import sklearn.linear_model\n",
    "import sklearn.metrics\n",
    "import sklearn.neighbors\n",
    "import sklearn.preprocessing\n",
    "\n",
    "\n",
    "from sklearn.model_selection import train_test_split\n",
    "\n",
    "from IPython.display import display\n",
    "\n",
    "from sklearn.neighbors import NearestNeighbors\n",
    "\n",
    "from sklearn.preprocessing import MaxAbsScaler\n",
    "\n",
    "from sklearn.metrics import mean_squared_error, r2_score\n",
    "\n",
    "from sklearn.linear_model import LinearRegression"
   ]
  },
  {
   "cell_type": "markdown",
   "metadata": {},
   "source": [
    "## Data Loading"
   ]
  },
  {
   "cell_type": "markdown",
   "metadata": {},
   "source": [
    "Load the data and perform a basic review to ensure there are no obvious issues."
   ]
  },
  {
   "cell_type": "code",
   "execution_count": 49,
   "metadata": {},
   "outputs": [],
   "source": [
    "df = pd.read_csv('/datasets/insurance_us.csv')"
   ]
  },
  {
   "cell_type": "markdown",
   "metadata": {},
   "source": [
    "We rename the columns to make the code more consistent with its style."
   ]
  },
  {
   "cell_type": "code",
   "execution_count": 50,
   "metadata": {},
   "outputs": [],
   "source": [
    "df = df.rename(columns={'Gender': 'gender', 'Age': 'age', 'Salary': 'income', 'Family members': 'family_members', 'Insurance benefits': 'insurance_benefits'})"
   ]
  },
  {
   "cell_type": "code",
   "execution_count": 51,
   "metadata": {},
   "outputs": [
    {
     "data": {
      "text/html": [
       "<div>\n",
       "<style scoped>\n",
       "    .dataframe tbody tr th:only-of-type {\n",
       "        vertical-align: middle;\n",
       "    }\n",
       "\n",
       "    .dataframe tbody tr th {\n",
       "        vertical-align: top;\n",
       "    }\n",
       "\n",
       "    .dataframe thead th {\n",
       "        text-align: right;\n",
       "    }\n",
       "</style>\n",
       "<table border=\"1\" class=\"dataframe\">\n",
       "  <thead>\n",
       "    <tr style=\"text-align: right;\">\n",
       "      <th></th>\n",
       "      <th>gender</th>\n",
       "      <th>age</th>\n",
       "      <th>income</th>\n",
       "      <th>family_members</th>\n",
       "      <th>insurance_benefits</th>\n",
       "    </tr>\n",
       "  </thead>\n",
       "  <tbody>\n",
       "    <tr>\n",
       "      <th>4663</th>\n",
       "      <td>0</td>\n",
       "      <td>37.0</td>\n",
       "      <td>37800.0</td>\n",
       "      <td>1</td>\n",
       "      <td>0</td>\n",
       "    </tr>\n",
       "    <tr>\n",
       "      <th>418</th>\n",
       "      <td>1</td>\n",
       "      <td>33.0</td>\n",
       "      <td>22000.0</td>\n",
       "      <td>1</td>\n",
       "      <td>0</td>\n",
       "    </tr>\n",
       "    <tr>\n",
       "      <th>913</th>\n",
       "      <td>1</td>\n",
       "      <td>39.0</td>\n",
       "      <td>38500.0</td>\n",
       "      <td>1</td>\n",
       "      <td>0</td>\n",
       "    </tr>\n",
       "    <tr>\n",
       "      <th>592</th>\n",
       "      <td>0</td>\n",
       "      <td>27.0</td>\n",
       "      <td>43700.0</td>\n",
       "      <td>1</td>\n",
       "      <td>0</td>\n",
       "    </tr>\n",
       "    <tr>\n",
       "      <th>4938</th>\n",
       "      <td>1</td>\n",
       "      <td>37.0</td>\n",
       "      <td>55700.0</td>\n",
       "      <td>1</td>\n",
       "      <td>0</td>\n",
       "    </tr>\n",
       "    <tr>\n",
       "      <th>4084</th>\n",
       "      <td>1</td>\n",
       "      <td>40.0</td>\n",
       "      <td>37400.0</td>\n",
       "      <td>2</td>\n",
       "      <td>0</td>\n",
       "    </tr>\n",
       "    <tr>\n",
       "      <th>3711</th>\n",
       "      <td>1</td>\n",
       "      <td>30.0</td>\n",
       "      <td>43000.0</td>\n",
       "      <td>0</td>\n",
       "      <td>0</td>\n",
       "    </tr>\n",
       "    <tr>\n",
       "      <th>1398</th>\n",
       "      <td>0</td>\n",
       "      <td>37.0</td>\n",
       "      <td>21700.0</td>\n",
       "      <td>1</td>\n",
       "      <td>0</td>\n",
       "    </tr>\n",
       "    <tr>\n",
       "      <th>4944</th>\n",
       "      <td>1</td>\n",
       "      <td>39.0</td>\n",
       "      <td>39000.0</td>\n",
       "      <td>0</td>\n",
       "      <td>0</td>\n",
       "    </tr>\n",
       "    <tr>\n",
       "      <th>2970</th>\n",
       "      <td>1</td>\n",
       "      <td>32.0</td>\n",
       "      <td>17100.0</td>\n",
       "      <td>3</td>\n",
       "      <td>0</td>\n",
       "    </tr>\n",
       "  </tbody>\n",
       "</table>\n",
       "</div>"
      ],
      "text/plain": [
       "      gender   age   income  family_members  insurance_benefits\n",
       "4663       0  37.0  37800.0               1                   0\n",
       "418        1  33.0  22000.0               1                   0\n",
       "913        1  39.0  38500.0               1                   0\n",
       "592        0  27.0  43700.0               1                   0\n",
       "4938       1  37.0  55700.0               1                   0\n",
       "4084       1  40.0  37400.0               2                   0\n",
       "3711       1  30.0  43000.0               0                   0\n",
       "1398       0  37.0  21700.0               1                   0\n",
       "4944       1  39.0  39000.0               0                   0\n",
       "2970       1  32.0  17100.0               3                   0"
      ]
     },
     "execution_count": 51,
     "metadata": {},
     "output_type": "execute_result"
    }
   ],
   "source": [
    "df.sample(10)"
   ]
  },
  {
   "cell_type": "code",
   "execution_count": 52,
   "metadata": {},
   "outputs": [
    {
     "name": "stdout",
     "output_type": "stream",
     "text": [
      "<class 'pandas.core.frame.DataFrame'>\n",
      "RangeIndex: 5000 entries, 0 to 4999\n",
      "Data columns (total 5 columns):\n",
      " #   Column              Non-Null Count  Dtype  \n",
      "---  ------              --------------  -----  \n",
      " 0   gender              5000 non-null   int64  \n",
      " 1   age                 5000 non-null   float64\n",
      " 2   income              5000 non-null   float64\n",
      " 3   family_members      5000 non-null   int64  \n",
      " 4   insurance_benefits  5000 non-null   int64  \n",
      "dtypes: float64(2), int64(3)\n",
      "memory usage: 195.4 KB\n"
     ]
    }
   ],
   "source": [
    "df.info()"
   ]
  },
  {
   "cell_type": "code",
   "execution_count": 53,
   "metadata": {},
   "outputs": [],
   "source": [
    "df['age'] = df['age'].astype(int)"
   ]
  },
  {
   "cell_type": "code",
   "execution_count": 54,
   "metadata": {},
   "outputs": [
    {
     "name": "stdout",
     "output_type": "stream",
     "text": [
      "<class 'pandas.core.frame.DataFrame'>\n",
      "RangeIndex: 5000 entries, 0 to 4999\n",
      "Data columns (total 5 columns):\n",
      " #   Column              Non-Null Count  Dtype  \n",
      "---  ------              --------------  -----  \n",
      " 0   gender              5000 non-null   int64  \n",
      " 1   age                 5000 non-null   int64  \n",
      " 2   income              5000 non-null   float64\n",
      " 3   family_members      5000 non-null   int64  \n",
      " 4   insurance_benefits  5000 non-null   int64  \n",
      "dtypes: float64(1), int64(4)\n",
      "memory usage: 195.4 KB\n"
     ]
    }
   ],
   "source": [
    "# We verify that the conversion was successfully completed\n",
    "df.info()"
   ]
  },
  {
   "cell_type": "code",
   "execution_count": 55,
   "metadata": {},
   "outputs": [
    {
     "data": {
      "text/html": [
       "<div>\n",
       "<style scoped>\n",
       "    .dataframe tbody tr th:only-of-type {\n",
       "        vertical-align: middle;\n",
       "    }\n",
       "\n",
       "    .dataframe tbody tr th {\n",
       "        vertical-align: top;\n",
       "    }\n",
       "\n",
       "    .dataframe thead th {\n",
       "        text-align: right;\n",
       "    }\n",
       "</style>\n",
       "<table border=\"1\" class=\"dataframe\">\n",
       "  <thead>\n",
       "    <tr style=\"text-align: right;\">\n",
       "      <th></th>\n",
       "      <th>gender</th>\n",
       "      <th>age</th>\n",
       "      <th>income</th>\n",
       "      <th>family_members</th>\n",
       "      <th>insurance_benefits</th>\n",
       "    </tr>\n",
       "  </thead>\n",
       "  <tbody>\n",
       "    <tr>\n",
       "      <th>count</th>\n",
       "      <td>5000.000000</td>\n",
       "      <td>5000.000000</td>\n",
       "      <td>5000.000000</td>\n",
       "      <td>5000.000000</td>\n",
       "      <td>5000.000000</td>\n",
       "    </tr>\n",
       "    <tr>\n",
       "      <th>mean</th>\n",
       "      <td>0.499000</td>\n",
       "      <td>30.952800</td>\n",
       "      <td>39916.360000</td>\n",
       "      <td>1.194200</td>\n",
       "      <td>0.148000</td>\n",
       "    </tr>\n",
       "    <tr>\n",
       "      <th>std</th>\n",
       "      <td>0.500049</td>\n",
       "      <td>8.440807</td>\n",
       "      <td>9900.083569</td>\n",
       "      <td>1.091387</td>\n",
       "      <td>0.463183</td>\n",
       "    </tr>\n",
       "    <tr>\n",
       "      <th>min</th>\n",
       "      <td>0.000000</td>\n",
       "      <td>18.000000</td>\n",
       "      <td>5300.000000</td>\n",
       "      <td>0.000000</td>\n",
       "      <td>0.000000</td>\n",
       "    </tr>\n",
       "    <tr>\n",
       "      <th>25%</th>\n",
       "      <td>0.000000</td>\n",
       "      <td>24.000000</td>\n",
       "      <td>33300.000000</td>\n",
       "      <td>0.000000</td>\n",
       "      <td>0.000000</td>\n",
       "    </tr>\n",
       "    <tr>\n",
       "      <th>50%</th>\n",
       "      <td>0.000000</td>\n",
       "      <td>30.000000</td>\n",
       "      <td>40200.000000</td>\n",
       "      <td>1.000000</td>\n",
       "      <td>0.000000</td>\n",
       "    </tr>\n",
       "    <tr>\n",
       "      <th>75%</th>\n",
       "      <td>1.000000</td>\n",
       "      <td>37.000000</td>\n",
       "      <td>46600.000000</td>\n",
       "      <td>2.000000</td>\n",
       "      <td>0.000000</td>\n",
       "    </tr>\n",
       "    <tr>\n",
       "      <th>max</th>\n",
       "      <td>1.000000</td>\n",
       "      <td>65.000000</td>\n",
       "      <td>79000.000000</td>\n",
       "      <td>6.000000</td>\n",
       "      <td>5.000000</td>\n",
       "    </tr>\n",
       "  </tbody>\n",
       "</table>\n",
       "</div>"
      ],
      "text/plain": [
       "            gender          age        income  family_members  \\\n",
       "count  5000.000000  5000.000000   5000.000000     5000.000000   \n",
       "mean      0.499000    30.952800  39916.360000        1.194200   \n",
       "std       0.500049     8.440807   9900.083569        1.091387   \n",
       "min       0.000000    18.000000   5300.000000        0.000000   \n",
       "25%       0.000000    24.000000  33300.000000        0.000000   \n",
       "50%       0.000000    30.000000  40200.000000        1.000000   \n",
       "75%       1.000000    37.000000  46600.000000        2.000000   \n",
       "max       1.000000    65.000000  79000.000000        6.000000   \n",
       "\n",
       "       insurance_benefits  \n",
       "count         5000.000000  \n",
       "mean             0.148000  \n",
       "std              0.463183  \n",
       "min              0.000000  \n",
       "25%              0.000000  \n",
       "50%              0.000000  \n",
       "75%              0.000000  \n",
       "max              5.000000  "
      ]
     },
     "execution_count": 55,
     "metadata": {},
     "output_type": "execute_result"
    }
   ],
   "source": [
    "df.describe()"
   ]
  },
  {
   "cell_type": "code",
   "execution_count": 56,
   "metadata": {},
   "outputs": [
    {
     "name": "stdout",
     "output_type": "stream",
     "text": [
      "Numero de valores duplicados Data set : 153\n",
      "      gender  age   income  family_members  insurance_benefits\n",
      "281        1   39  48100.0               1                   0\n",
      "488        1   24  32900.0               1                   0\n",
      "513        0   31  37400.0               2                   0\n",
      "718        1   22  32600.0               1                   0\n",
      "785        0   20  35800.0               0                   0\n",
      "...      ...  ...      ...             ...                 ...\n",
      "4793       1   24  37800.0               0                   0\n",
      "4902       1   35  38700.0               1                   0\n",
      "4935       1   19  32700.0               0                   0\n",
      "4945       1   21  45800.0               0                   0\n",
      "4965       0   22  40100.0               1                   0\n",
      "\n",
      "[153 rows x 5 columns]\n"
     ]
    }
   ],
   "source": [
    "#Busqueda de valores duplicados y eliminación ellos\n",
    "\n",
    "list_dataset = [df]\n",
    "\n",
    "df.name = 'Data set'\n",
    "\n",
    "for i in list_dataset:\n",
    "    duplicate = i.duplicated().sum()\n",
    "    print('Numero de valores duplicados', i.name, ':', duplicate)\n",
    "duplicated_rows = df[df.duplicated()]\n",
    "print(duplicated_rows)\n"
   ]
  },
  {
   "cell_type": "code",
   "execution_count": 57,
   "metadata": {},
   "outputs": [
    {
     "name": "stdout",
     "output_type": "stream",
     "text": [
      "Número de registros después de eliminar duplicados: 4847\n",
      "Numero de valores duplicados Data set : 0\n"
     ]
    }
   ],
   "source": [
    "df = df.drop_duplicates().reset_index(drop=True)\n",
    "\n",
    "# Verificar si los duplicados han sido eliminados\n",
    "print('Número de registros después de eliminar duplicados:', len(df))\n",
    "duplicated_rows = df[df.duplicated()]\n",
    "\n",
    "list_dataset = [df]\n",
    "\n",
    "df.name = 'Data set'\n",
    "\n",
    "for i in list_dataset:\n",
    "    duplicate = i.duplicated().sum()\n",
    "    print('Numero de valores duplicados', i.name, ':', duplicate)"
   ]
  },
  {
   "cell_type": "markdown",
   "metadata": {},
   "source": [
    "Se encontro varios valores duplicados por lo cual se procedera a la eliminación de estos valores con el fin de \n",
    "que el algoritmo no busque clientes similares considerando un mismo cliente varias veces. Esto puede resultar en que el cliente duplicado aparezca como \"el más similar\" a sí mismo varias veces, ocupando espacio que podría usarse para identificar otros clientes relevantes.\n",
    "\n",
    "Los duplicados pueden sesgar los cálculos de similitud, haciendo que los clientes con más duplicados tengan mayor peso en el análisis. Esto no refleja la realidad de los datos, ya que no hay una razón válida para dar mayor importancia a los registros duplicados."
   ]
  },
  {
   "cell_type": "code",
   "execution_count": 58,
   "metadata": {},
   "outputs": [
    {
     "data": {
      "text/plain": [
       "gender                0\n",
       "age                   0\n",
       "income                0\n",
       "family_members        0\n",
       "insurance_benefits    0\n",
       "dtype: int64"
      ]
     },
     "execution_count": 58,
     "metadata": {},
     "output_type": "execute_result"
    }
   ],
   "source": [
    "#Verificación de valores faltantes\n",
    "df.isnull().sum()"
   ]
  },
  {
   "cell_type": "code",
   "execution_count": 59,
   "metadata": {},
   "outputs": [],
   "source": [
    "def hist(data, variables=['age', 'income'], name='', bins=10):\n",
    "    \"\"\"\n",
    "    Crea histograma para las variables continuas.\n",
    "    \n",
    "    Args:\n",
    "        data(pd.DataFrame): DataFrame con las variables.\n",
    "        variables (list):Lista de nombres de columnas para las variables.\n",
    "        name(str): Título para el conjunto de datos.\n",
    "        bins(int): Número de bins para los histogramas.\n",
    "    \"\"\"\n",
    "    "
   ]
  },
  {
   "cell_type": "code",
   "execution_count": 60,
   "metadata": {},
   "outputs": [],
   "source": [
    "def hist_continuous(data, variables=['gender', 'age', 'income', 'family_members'], region_name='', bins=10):\n",
    "    \"\"\"\n",
    "    Crea histogramas para variables continuas.\n",
    "\n",
    "    Args:\n",
    "        data (pd.DataFrame): DataFrame con las variables.\n",
    "        variables (list): Lista de nombres de columnas para las variables continuas.\n",
    "        region_name (str): Título opcional para el conjunto de datos.\n",
    "        bins (int): Número de bins para los histogramas.\n",
    "    \"\"\"\n",
    "    n_vars = len (variables)\n",
    "    rows = (n_vars + 1) // 2\n",
    "    cols = 2\n",
    "    count = 1\n",
    "    \n",
    "    fig, axes = plt. subplots(rows, cols, figsize=(10, rows * 3))\n",
    "    axes = axes.flatten()\n",
    "    \n",
    "    for idx, var in enumerate(variables):\n",
    "        ax = axes[idx]\n",
    "        ax.hist(data[var], bins=bins, edgecolor='black', linewidth=0.8)\n",
    "        ax.set_title(var)\n",
    "        ax.set_xlabel('Value')\n",
    "        ax.set_ylabel('Frequency')\n",
    "    \n",
    "    for idx in range(len(variables), len (axes)):\n",
    "        axes[idx].axis('off')\n",
    "        plt.tight_layout(rect=[0, 0, 1, 0.95])\n",
    "        plt.show()\n",
    "    \n",
    "  "
   ]
  },
  {
   "cell_type": "code",
   "execution_count": 61,
   "metadata": {},
   "outputs": [
    {
     "data": {
      "image/png": "[encoded data removed]",
      "text/plain": [
       "<Figure size 1000x600 with 4 Axes>"
      ]
     },
     "metadata": {},
     "output_type": "display_data"
    }
   ],
   "source": [
    "hist_continuous(df, variables=['gender', 'age', 'income', 'family_members'], region_name='Histogramas de Variables Continuas', bins=20)\n"
   ]
  },
  {
   "cell_type": "code",
   "execution_count": 62,
   "metadata": {},
   "outputs": [
    {
     "data": {
      "text/plain": [
       "count    4847.000000\n",
       "mean        0.498453\n",
       "std         0.500049\n",
       "min         0.000000\n",
       "25%         0.000000\n",
       "50%         0.000000\n",
       "75%         1.000000\n",
       "max         1.000000\n",
       "Name: gender, dtype: float64"
      ]
     },
     "execution_count": 62,
     "metadata": {},
     "output_type": "execute_result"
    }
   ],
   "source": [
    "df['gender'].describe()"
   ]
  },
  {
   "cell_type": "code",
   "execution_count": 63,
   "metadata": {},
   "outputs": [
    {
     "data": {
      "text/plain": [
       "count    4847.000000\n",
       "mean       31.023932\n",
       "std         8.487995\n",
       "min        18.000000\n",
       "25%        24.000000\n",
       "50%        30.000000\n",
       "75%        37.000000\n",
       "max        65.000000\n",
       "Name: age, dtype: float64"
      ]
     },
     "execution_count": 63,
     "metadata": {},
     "output_type": "execute_result"
    }
   ],
   "source": [
    "df['age'].describe()"
   ]
  },
  {
   "cell_type": "code",
   "execution_count": 64,
   "metadata": {},
   "outputs": [
    {
     "data": {
      "text/plain": [
       "count     4847.000000\n",
       "mean     39895.811842\n",
       "std       9972.953985\n",
       "min       5300.000000\n",
       "25%      33200.000000\n",
       "50%      40200.000000\n",
       "75%      46600.000000\n",
       "max      79000.000000\n",
       "Name: income, dtype: float64"
      ]
     },
     "execution_count": 64,
     "metadata": {},
     "output_type": "execute_result"
    }
   ],
   "source": [
    "df['income'].describe()"
   ]
  },
  {
   "cell_type": "code",
   "execution_count": 65,
   "metadata": {},
   "outputs": [
    {
     "data": {
      "text/plain": [
       "count    4847.000000\n",
       "mean        1.203425\n",
       "std         1.098664\n",
       "min         0.000000\n",
       "25%         0.000000\n",
       "50%         1.000000\n",
       "75%         2.000000\n",
       "max         6.000000\n",
       "Name: family_members, dtype: float64"
      ]
     },
     "execution_count": 65,
     "metadata": {},
     "output_type": "execute_result"
    }
   ],
   "source": [
    "df['family_members'].describe()"
   ]
  },
  {
   "cell_type": "markdown",
   "metadata": {},
   "source": [
    "The variable age shows a range from 18 to 65 years with a mean of 31 years, which is reasonable and does not present clearly extreme values. Income has a wide range from 5300 to 79000 with a mean of 39900, and although there is a slight skew toward higher values, the incomes seem plausible in the economic context, although the maximum values could be analyzed further. The variable family_members ranges from 0 to 6, with most data concentrated between 0 and 2, and 6 being a potential outlier depending on the context. Overall, no obvious anomalies are observed, but it would be prudent to validate the extremes of income and family_members using methods such as the interquartile range (IQR)."
   ]
  },
  {
   "cell_type": "markdown",
   "metadata": {},
   "source": [
    "## Exploratory Data Analysis"
   ]
  },
  {
   "cell_type": "markdown",
   "metadata": {},
   "source": [
    "Let's quickly check for potential customer groups by observing the pair plot."
   ]
  },
  {
   "cell_type": "code",
   "execution_count": 66,
   "metadata": {},
   "outputs": [
    {
     "data": {
      "image/png": "[encoded data removed]",
      "text/plain": [
       "<Figure size 1200x1200 with 30 Axes>"
      ]
     },
     "metadata": {},
     "output_type": "display_data"
    }
   ],
   "source": [
    "g = sns.pairplot(df, kind='hist')\n",
    "g.fig.set_size_inches(12, 12)"
   ]
  },
  {
   "cell_type": "markdown",
   "metadata": {},
   "source": [
    "Agreed, it’s a bit challenging to detect obvious groups (clusters) as it’s difficult to combine multiple variables simultaneously (to analyze multivariate distributions). That’s where AI and ML can be quite useful."
   ]
  },
  {
   "cell_type": "markdown",
   "metadata": {},
   "source": [
    "# Task 1. Similar Customers\n"
   ]
  },
  {
   "cell_type": "markdown",
   "metadata": {},
   "source": [
    "In ML terms, it is necessary to develop a procedure that returns the k-nearest neighbors (objects) for a given object based on the distance between the objects.\n",
    "To solve the task, we can test different distance metrics."
   ]
  },
  {
   "cell_type": "markdown",
   "metadata": {},
   "source": [
    "Write a function that returns the k-nearest neighbors for an \n",
    "𝑛\n",
    "𝑡\n",
    "ℎ\n",
    "n \n",
    "th\n",
    "  object based on a specified distance metric. The number of insurance benefits received should not be considered when performing this task.\n",
    "\n",
    "You can use an existing implementation of the kNN algorithm from scikit-learn (see the link) or your own implementation.\n",
    "\n",
    "Test it for four combinations of two cases:\n",
    "\n",
    "Scaling\n",
    "\n",
    "The data is not scaled\n",
    "The data is scaled using the MaxAbsScaler\n",
    "Distance Metrics\n",
    "\n",
    "Euclidean\n",
    "Manhattan\n",
    "Answer these questions:\n",
    "\n",
    "Does the fact that the data is not scaled affect the kNN algorithm? If so, how does it manifest?\n",
    "How similar are the results when using the Manhattan distance metric (regardless of scaling)?\n",
    "\n",
    "\n",
    "\n",
    "\n",
    "\n"
   ]
  },
  {
   "cell_type": "code",
   "execution_count": 67,
   "metadata": {},
   "outputs": [],
   "source": [
    "feature_names = ['gender', 'age', 'income', 'family_members']"
   ]
  },
  {
   "cell_type": "code",
   "execution_count": 68,
   "metadata": {},
   "outputs": [],
   "source": [
    "def get_knn(df, n, k, metric):\n",
    "    \n",
    "    \"\"\"\n",
    "    Devuelve los k vecinos más cercanos\n",
    "\n",
    "    :param df: DataFrame de pandas utilizado para encontrar objetos similares dentro del mismo lugar    :param n: número de objetos para los que se buscan los vecinos más cercanos    :param k: número de vecinos más cercanos a devolver\n",
    "    :param métrica: nombre de la métrica de distancia    \"\"\"\n",
    "\n",
    "    nbrs = NearestNeighbors(n_neighbors=k + 1, metric=metric)\n",
    "    nbrs.fit(df[feature_names])\n",
    "    nbrs_distances, nbrs_indices = nbrs.kneighbors([df.iloc[n][feature_names]], k, return_distance=True)\n",
    "    \n",
    "    df_res = pd.concat([\n",
    "        df.iloc[nbrs_indices[0]], \n",
    "        pd.DataFrame(nbrs_distances.T, index=nbrs_indices[0], columns=['distance'])\n",
    "        ], axis=1)\n",
    "    \n",
    "    return df_res\n",
    "\n"
   ]
  },
  {
   "cell_type": "markdown",
   "metadata": {},
   "source": [
    "Escalar datos."
   ]
  },
  {
   "cell_type": "code",
   "execution_count": 69,
   "metadata": {},
   "outputs": [],
   "source": [
    "feature_names = ['gender', 'age', 'income', 'family_members']\n",
    "\n",
    "\n",
    "def scale_data(df, feature_names):\n",
    "    \"\"\"\n",
    "    Scale the data using MaxAbsScaler.\n",
    "    \n",
    "    :param df: DataFraem original\n",
    "    :param feature_names: Column names to scale\n",
    "    :return: DataFrame Scaling\n",
    "    \"\"\"\n",
    "    transformer_mas = sklearn.preprocessing.MaxAbsScaler().fit(df[feature_names].to_numpy())\n",
    "    df_scaled = df.copy()\n",
    "    df_scaled.loc[:, feature_names] = transformer_mas.transform(df[feature_names].to_numpy())\n",
    "    return df_scaled"
   ]
  },
  {
   "cell_type": "markdown",
   "metadata": {},
   "source": [
    "Now, let's retrieve similar records for a given one, for each combination."
   ]
  },
  {
   "cell_type": "code",
   "execution_count": 70,
   "metadata": {},
   "outputs": [],
   "source": [
    "df_scaled = scale_data(df, feature_names)"
   ]
  },
  {
   "cell_type": "code",
   "execution_count": 71,
   "metadata": {},
   "outputs": [],
   "source": [
    "n = 10\n",
    "k = 5"
   ]
  },
  {
   "cell_type": "code",
   "execution_count": 72,
   "metadata": {},
   "outputs": [
    {
     "name": "stdout",
     "output_type": "stream",
     "text": [
      "Unscaled, Euclidean metric:\n",
      "      gender  age   income  family_members  insurance_benefits  distance\n",
      "10         1   25  36600.0               1                   0  0.000000\n",
      "3924       1   25  36600.0               2                   0  1.000000\n",
      "3169       1   26  36600.0               2                   0  1.414214\n",
      "2007       1   26  36600.0               0                   0  1.414214\n",
      "1919       0   24  36600.0               0                   0  1.732051\n"
     ]
    }
   ],
   "source": [
    "#Unscaled, Euclidean metric.\n",
    "print(\"Unscaled, Euclidean metric:\")\n",
    "result_euclidean = get_knn(df, n, k, metric='euclidean')\n",
    "print(result_euclidean)"
   ]
  },
  {
   "cell_type": "code",
   "execution_count": 73,
   "metadata": {},
   "outputs": [
    {
     "name": "stdout",
     "output_type": "stream",
     "text": [
      "\n",
      "Unscaled, Manhattan metric:\n",
      "      gender  age   income  family_members  insurance_benefits  distance\n",
      "10         1   25  36600.0               1                   0       0.0\n",
      "3924       1   25  36600.0               2                   0       1.0\n",
      "3169       1   26  36600.0               2                   0       2.0\n",
      "2007       1   26  36600.0               0                   0       2.0\n",
      "1919       0   24  36600.0               0                   0       3.0\n"
     ]
    }
   ],
   "source": [
    "# Unscaled, Manhattan metric\n",
    "print(\"\\nUnscaled, Manhattan metric:\")\n",
    "result_manhattan = get_knn(df, n, k, metric='manhattan')\n",
    "print(result_manhattan)\n"
   ]
  },
  {
   "cell_type": "code",
   "execution_count": 74,
   "metadata": {},
   "outputs": [
    {
     "name": "stdout",
     "output_type": "stream",
     "text": [
      "\n",
      "Scaled, Euclidean metric:\n",
      "      gender       age    income  family_members  insurance_benefits  distance\n",
      "10       1.0  0.384615  0.463291        0.166667                   0  0.000000\n",
      "4243     1.0  0.384615  0.473418        0.166667                   0  0.010127\n",
      "1374     1.0  0.369231  0.464557        0.166667                   0  0.015437\n",
      "756      1.0  0.369231  0.462025        0.166667                   0  0.015437\n",
      "2219     1.0  0.400000  0.455696        0.166667                   0  0.017157\n"
     ]
    }
   ],
   "source": [
    "# Scaled, Euclidean metric\n",
    "print(\"\\nScaled, Euclidean metric:\")\n",
    "result_scaled_euclidean = get_knn(df_scaled, n, k, metric='euclidean')\n",
    "print(result_scaled_euclidean)"
   ]
  },
  {
   "cell_type": "code",
   "execution_count": 75,
   "metadata": {},
   "outputs": [
    {
     "name": "stdout",
     "output_type": "stream",
     "text": [
      "\n",
      "Scaled, Manhattan metric:\n",
      "      gender       age    income  family_members  insurance_benefits  distance\n",
      "10       1.0  0.384615  0.463291        0.166667                   0  0.000000\n",
      "4243     1.0  0.384615  0.473418        0.166667                   0  0.010127\n",
      "1374     1.0  0.369231  0.464557        0.166667                   0  0.016650\n",
      "756      1.0  0.369231  0.462025        0.166667                   0  0.016650\n",
      "2219     1.0  0.400000  0.455696        0.166667                   0  0.022980\n"
     ]
    }
   ],
   "source": [
    "# Scaled, Manhattan metric \n",
    "print(\"\\nScaled, Manhattan metric:\")\n",
    "result_scaled_manhattan = get_knn(df_scaled, n, k, metric='manhattan')\n",
    "print(result_scaled_manhattan)"
   ]
  },
  {
   "cell_type": "markdown",
   "metadata": {},
   "source": [
    "Answers to the Questions"
   ]
  },
  {
   "cell_type": "markdown",
   "metadata": {},
   "source": [
    "**Does the fact that the data is not scaled affect the kNN algorithm? If so, how does it manifest?**\n",
    "\n",
    "The fact that the data is not scaled significantly affects the kNN algorithm because features with larger numerical values, such as income, will dominate the distance calculation, while features with smaller values, like gender, will have a negligible impact. This happens because kNN uses metrics such as Euclidean or Manhattan distance, which directly depend on the magnitudes of the features. Without scaling, the algorithm prioritizes dimensions with larger ranges, which biases the results and makes it difficult to identify truly similar neighbors. By scaling the data, all features contribute equally, improving the accuracy and representativeness of the nearest neighbors.\n",
    "\n"
   ]
  },
  {
   "cell_type": "markdown",
   "metadata": {},
   "source": [
    "**How similar are the results when using the Manhattan distance metric (regardless of scaling)?**\n",
    "\n",
    "The results when using the Manhattan distance metric depend significantly on whether the data is scaled or not. Without scaling, features with different magnitudes (e.g., income versus age) disproportionately impact the calculated distances, which can lead to biased results favoring variables with larger values. When the data is scaled using MaxAbsScaler, each feature contributes more equally to the calculated distances, improving the accuracy and interpretability of the nearest neighbors. Although the indices of the neighbors may vary, scaling ensures a fair and more balanced representation, making the results more robust and reliable when comparing disparate attributes."
   ]
  },
  {
   "cell_type": "markdown",
   "metadata": {},
   "source": [
    "# Task 2: Is it likely that the customer will receive an insurance benefit?"
   ]
  },
  {
   "cell_type": "markdown",
   "metadata": {},
   "source": [
    "In machine learning terms, this can be considered a binary classification task."
   ]
  },
  {
   "cell_type": "markdown",
   "metadata": {},
   "source": [
    "With a value of insurance_benefits greater than zero as the target, evaluate whether the kNN classification approach can perform better than the dummy model.\n",
    "\n",
    "Instructions:\n",
    "\n",
    "Build a classifier based on kNN and measure its quality using the F1 metric for \n",
    "𝑘\n",
    "=\n",
    "1\n",
    "…\n",
    "10\n",
    "k=1…10 for both the original and scaled data. It would be interesting to observe how \n",
    "𝑘\n",
    "k can influence the evaluation metric and whether scaling the data makes any difference. You can use an existing implementation of the kNN classification algorithm from scikit-learn (see the link) or your own implementation.\n",
    "\n",
    "Build a dummy model which, in this case, is simply a random model. It should return \"1\" with a certain probability. Test the model with four probability values: 0, the probability of paying any insurance benefit, 0.5, and 1.\n",
    "The probability of paying any insurance benefit can be defined as:\n",
    "\n",
    "𝑃\n",
    "{\n",
    "insurance benefit received\n",
    "}\n",
    "=\n",
    "number of customers who received any insurance benefit\n",
    "total number of customers\n",
    ".\n",
    "P{insurance benefit received}= \n",
    "total number of customers\n",
    "number of customers who received any insurance benefit\n",
    "​\n",
    " .\n",
    "Split all data into training/testing stages while respecting a 70:30 ratio."
   ]
  },
  {
   "cell_type": "code",
   "execution_count": 76,
   "metadata": {},
   "outputs": [],
   "source": [
    "# Calculate the target.\n",
    "df['insurance_benefits_received'] = (df['insurance_benefits']>0).astype(int)"
   ]
  },
  {
   "cell_type": "code",
   "execution_count": 77,
   "metadata": {},
   "outputs": [
    {
     "name": "stdout",
     "output_type": "stream",
     "text": [
      "0    0.883846\n",
      "1    0.116154\n",
      "Name: insurance_benefits_received, dtype: float64\n"
     ]
    }
   ],
   "source": [
    "# Check class imbalance with value_counts()\n",
    "\n",
    "print(df['insurance_benefits_received'].value_counts(normalize=True))"
   ]
  },
  {
   "cell_type": "markdown",
   "metadata": {},
   "source": [
    "The class imbalance shows that 88.38% of customers have not received insurance benefits, while only 11.62% have. This imbalance can cause machine learning models to bias their predictions toward the majority class (0), resulting in low sensitivity for the minority class (1). This is problematic if detecting customers who receive benefits is important for the business. Moreover, metrics like accuracy can be misleading in this context, so metrics like F1-score or recall are more appropriate.\n",
    "\n",
    "To address this imbalance, it is essential to apply techniques such as oversampling, undersampling, or class weighting to improve the model's ability to correctly identify both classes."
   ]
  },
  {
   "cell_type": "code",
   "execution_count": 78,
   "metadata": {},
   "outputs": [],
   "source": [
    "features_names = ['gender', 'age', 'income', 'family_members']\n",
    "X = df[features_names]\n",
    "y = df['insurance_benefits_received']\n",
    "\n",
    "X_train, X_test, y_train, y_test = train_test_split(X, y, test_size=0.3, random_state=42)"
   ]
  },
  {
   "cell_type": "code",
   "execution_count": 79,
   "metadata": {},
   "outputs": [],
   "source": [
    "def eval_classifier(y_true, y_pred):\n",
    "    \n",
    "    f1_score = sklearn.metrics.f1_score(y_true, y_pred)\n",
    "    print(f'F1: {f1_score:.2f}')\n",
    "    \n",
    "\n",
    "    cm = sklearn.metrics.confusion_matrix(y_true, y_pred, normalize='all')\n",
    "    print('Confusion Matrix')\n",
    "    print(cm)\n"
   ]
  },
  {
   "cell_type": "code",
   "execution_count": 80,
   "metadata": {},
   "outputs": [],
   "source": [
    "def rnd_model_predict(P, size, seed=42):\n",
    "\n",
    "    rng = np.random.default_rng(seed=seed)\n",
    "    return rng.binomial(n=1, p=P, size=size)"
   ]
  },
  {
   "cell_type": "code",
   "execution_count": 81,
   "metadata": {},
   "outputs": [
    {
     "name": "stdout",
     "output_type": "stream",
     "text": [
      "Probability: 0.00\n",
      "F1: 0.00\n",
      "Confusion Matrix\n",
      "[[0.89140893 0.        ]\n",
      " [0.10859107 0.        ]]\n",
      "\n",
      "Probability: 0.12\n",
      "F1: 0.12\n",
      "Confusion Matrix\n",
      "[[0.78487973 0.10652921]\n",
      " [0.09484536 0.0137457 ]]\n",
      "\n",
      "Probability: 0.50\n",
      "F1: 0.17\n",
      "Confusion Matrix\n",
      "[[0.44604811 0.44536082]\n",
      " [0.05841924 0.05017182]]\n",
      "\n",
      "Probability: 1.00\n",
      "F1: 0.20\n",
      "Confusion Matrix\n",
      "[[0.         0.89140893]\n",
      " [0.         0.10859107]]\n",
      "\n"
     ]
    }
   ],
   "source": [
    "for P in [0, df['insurance_benefits_received'].mean(), 0.5, 1]:\n",
    "\n",
    "    print(f'Probability: {P:.2f}')\n",
    "    y_pred_rnd = rnd_model_predict(P, size=len(y_test))\n",
    "        \n",
    "    eval_classifier(y_test, y_pred_rnd)\n",
    "    \n",
    "    print()\n",
    "    \n"
   ]
  },
  {
   "cell_type": "markdown",
   "metadata": {},
   "source": [
    "The results show the evaluation of the dummy model for different probabilities of predicting a positive value (1). When the probability is 0.00, the model always predicts the majority class (0), achieving an F1 score of 0.00 and a confusion matrix where no positive cases are identified. For a probability of 0.12 (matching the actual proportion of the positive class), the F1 score slightly improves to 0.12, although it still performs poorly in detecting positive cases.\n",
    "\n",
    "With a probability of 0.50, the model predicts both classes almost randomly, achieving an F1 score of 0.17 but with greater confusion between the classes, as observed in the confusion matrix. Finally, with a probability of 1.00, the model always predicts the positive class (1), achieving an F1 score of 0.20 but failing to correctly identify the majority class.\n",
    "\n",
    "This highlights that a random model has limited performance and that a more sophisticated approach like KNN could be more effective, especially considering the class imbalance."
   ]
  },
  {
   "cell_type": "markdown",
   "metadata": {},
   "source": [
    "# Task 3: Regression (with Linear Regression)"
   ]
  },
  {
   "cell_type": "markdown",
   "metadata": {},
   "source": [
    "With 'insurance_benefits' as the target, evaluate the RMSE of a linear regression model."
   ]
  },
  {
   "cell_type": "markdown",
   "metadata": {},
   "source": [
    "Build your own implementation of linear regression. To do this, recall how the solution to the linear regression task is formulated in terms of Linear Algebra (LA). Check the RMSE for both the original and scaled data. Can you observe any difference in the RMSE between these two cases?\n",
    "\n",
    "Let’s denote:\n",
    "\n",
    "𝑋\n",
    "X: feature matrix; each row is a case, each column is a feature, and the first column consists of ones\n",
    "𝑦\n",
    "y: target (a vector)\n",
    "𝑦\n",
    "^\n",
    "y\n",
    "^\n",
    "​\n",
    " : estimated target (a vector)\n",
    "𝑤\n",
    "w: weight vector\n",
    "The linear regression task in matrix language can be formulated as:\n",
    "\n",
    "𝑦\n",
    "=\n",
    "𝑋\n",
    "𝑤\n",
    "y=Xw\n",
    "The training objective is to find \n",
    "𝑤\n",
    "w that minimizes the L2 distance (MSE) between \n",
    "𝑋\n",
    "𝑤\n",
    "Xw and \n",
    "𝑦\n",
    "y:\n",
    "\n",
    "min\n",
    "⁡\n",
    "𝑤\n",
    "𝑑\n",
    "2\n",
    "(\n",
    "𝑋\n",
    "𝑤\n",
    ",\n",
    "𝑦\n",
    ")\n",
    "or\n",
    "min\n",
    "⁡\n",
    "𝑤\n",
    "MSE\n",
    "(\n",
    "𝑋\n",
    "𝑤\n",
    ",\n",
    "𝑦\n",
    ")\n",
    "w\n",
    "min\n",
    "​\n",
    " d \n",
    "2\n",
    "​\n",
    " (Xw,y)or \n",
    "w\n",
    "min\n",
    "​\n",
    " MSE(Xw,y)\n",
    "There seems to be an analytical solution to the above:\n",
    "\n",
    "𝑤\n",
    "=\n",
    "(\n",
    "𝑋\n",
    "𝑇\n",
    "𝑋\n",
    ")\n",
    "−\n",
    "1\n",
    "𝑋\n",
    "𝑇\n",
    "𝑦\n",
    "w=(X \n",
    "T\n",
    " X) \n",
    "−1\n",
    " X \n",
    "T\n",
    " y\n",
    "The formula above can be used to find the weights \n",
    "𝑤\n",
    "w, which can then be used to calculate the predicted values:\n",
    "\n",
    "𝑦\n",
    "^\n",
    "=\n",
    "𝑋\n",
    "val\n",
    "𝑤\n",
    "y\n",
    "^\n",
    "​\n",
    " =X \n",
    "val\n",
    "​\n",
    " w\n",
    "Split all data into training/testing stages with a 70:30 ratio. Use the RMSE metric to evaluate the model."
   ]
  },
  {
   "cell_type": "code",
   "execution_count": 82,
   "metadata": {},
   "outputs": [],
   "source": [
    "class MyLinearRegression:\n",
    "    \n",
    "    def __init__(self):\n",
    "        \n",
    "        self.weights = None\n",
    "    \n",
    "    def fit(self, X, y):\n",
    "        \n",
    "        \n",
    "        X2 = np.append(np.ones([len(X), 1]), X, axis=1)\n",
    "        self.weights = np.linalg.inv(X2.T @ X2) @ X2.T @ y\n",
    "        \n",
    "\n",
    "    def predict(self, X):\n",
    "        \n",
    "        \n",
    "        X2 = np.append(np.ones([len(X), 1]), X, axis=1)\n",
    "        y_pred = X2 @ self.weights\n",
    "        \n",
    "        return y_pred"
   ]
  },
  {
   "cell_type": "code",
   "execution_count": 83,
   "metadata": {},
   "outputs": [],
   "source": [
    "def eval_regressor(y_true, y_pred):\n",
    "    \n",
    "    rmse = math.sqrt(sklearn.metrics.mean_squared_error(y_true, y_pred))\n",
    "    print(f'RMSE: {rmse:.2f}')\n",
    "    \n",
    "    r2_score = math.sqrt(sklearn.metrics.r2_score(y_true, y_pred))\n",
    "    print(f'R2: {r2_score:.2f}')    "
   ]
  },
  {
   "cell_type": "code",
   "execution_count": 84,
   "metadata": {},
   "outputs": [
    {
     "name": "stdout",
     "output_type": "stream",
     "text": [
      "[-9.77366729e-01  3.58042291e-02  1.95594888e-02  5.85336165e-07\n",
      " -1.21618420e-02]\n",
      "RMSE: 0.36\n",
      "R2: 0.66\n"
     ]
    }
   ],
   "source": [
    "np.random.seed(42)\n",
    "X = df[['age', 'gender', 'income', 'family_members']].to_numpy()\n",
    "y = df['insurance_benefits'].to_numpy()\n",
    "\n",
    "X_train, X_test, y_train, y_test = train_test_split(X, y, test_size=0.3, random_state=12345)\n",
    "\n",
    "lr = MyLinearRegression()\n",
    "\n",
    "lr.fit(X_train, y_train)\n",
    "print(lr.weights)\n",
    "\n",
    "y_test_pred = lr.predict(X_test)\n",
    "eval_regressor(y_test, y_test_pred)"
   ]
  },
  {
   "cell_type": "markdown",
   "metadata": {},
   "source": [
    "The results show that the linear regression model has acceptable performance, with an RMSE of 0.36, indicating a low average error, and an R² of 0.66, meaning that the model explains 66% of the variability in the data. However, due to the class imbalance in the data, it is important to assess whether the model might be biased and consider additional optimizations to improve accuracy in specific contexts."
   ]
  },
  {
   "cell_type": "markdown",
   "metadata": {},
   "source": [
    "# Task 4: Data Obfuscation"
   ]
  },
  {
   "cell_type": "markdown",
   "metadata": {},
   "source": [
    "The best way to obfuscate the data is by multiplying the numerical features (which can be represented as the matrix \n",
    "𝑋\n",
    "X) by an invertible matrix \n",
    "𝑃\n",
    "P:\n",
    "\n",
    "𝑋\n",
    "′\n",
    "=\n",
    "𝑋\n",
    "×\n",
    "𝑃\n",
    "X \n",
    "′\n",
    " =X×P\n",
    "Try this and check how the feature values look after the transformation. By the way, the property of invertibility is important here, so ensure that \n",
    "𝑃\n",
    "P is indeed invertible.\n",
    "\n",
    "You can review the lesson \"Matrices and Matrix Operations -> Matrix Multiplication\" to recall the rule for matrix multiplication and its implementation with NumPy."
   ]
  },
  {
   "cell_type": "code",
   "execution_count": 88,
   "metadata": {},
   "outputs": [],
   "source": [
    "personal_info_column_list = ['gender', 'age', 'income', 'family_members']\n",
    "df_pn = df[personal_info_column_list]"
   ]
  },
  {
   "cell_type": "code",
   "execution_count": 89,
   "metadata": {},
   "outputs": [],
   "source": [
    "X = df_pn.to_numpy()"
   ]
  },
  {
   "cell_type": "markdown",
   "metadata": {},
   "source": [
    "GeGenerate a Random Matrix \n",
    "𝑃\n"
   ]
  },
  {
   "cell_type": "code",
   "execution_count": 90,
   "metadata": {},
   "outputs": [],
   "source": [
    "rng = np.random.default_rng(seed=42)\n",
    "P = rng.random(size=(X.shape[1], X.shape[1]))"
   ]
  },
  {
   "cell_type": "markdown",
   "metadata": {},
   "source": [
    "Check if Matrix \n",
    "𝑃 is Invertible"
   ]
  },
  {
   "cell_type": "code",
   "execution_count": 91,
   "metadata": {},
   "outputs": [
    {
     "name": "stdout",
     "output_type": "stream",
     "text": [
      "The matrix P is invertible, determinant.: 0.24\n"
     ]
    }
   ],
   "source": [
    "det_P = np.linalg.det(P)\n",
    "if det_P != 0:\n",
    "    print(f\"The matrix P is invertible, determinant.: {det_P:.2f}\")\n",
    "else:\n",
    "    print(\"The matrix P is not invertible\")"
   ]
  },
  {
   "cell_type": "markdown",
   "metadata": {},
   "source": [
    "The result indicates that the matrix P is invertible because its determinant is 0.24, a non-zero value. This means it is possible to perform linear transformations on the data with P and then recover the original data using the inverse matrix. Invertibility is crucial in this context to ensure that the obfuscation is reversible."
   ]
  },
  {
   "cell_type": "markdown",
   "metadata": {},
   "source": [
    "Transform the Original Data"
   ]
  },
  {
   "cell_type": "code",
   "execution_count": 92,
   "metadata": {},
   "outputs": [
    {
     "name": "stdout",
     "output_type": "stream",
     "text": [
      "Transformed Data (First 5 Rows):\n",
      "[[ 6359.71527314 22380.40467609 18424.09074184 46000.69669016]\n",
      " [ 4873.29406479 17160.36702982 14125.78076133 35253.45577301]\n",
      " [ 2693.11742928  9486.397744    7808.83156024 19484.86063067]\n",
      " [ 5345.60393712 18803.22720286 15479.14837264 38663.06186284]\n",
      " [ 3347.17673462 11782.82928336  9699.99894205 24211.27337753]]\n"
     ]
    }
   ],
   "source": [
    "X_transformed = X @ P\n",
    "print(\"Transformed Data (First 5 Rows):\")\n",
    "print(X_transformed[:5])"
   ]
  },
  {
   "cell_type": "markdown",
   "metadata": {},
   "source": [
    "Can you guess the age or income of the customers after the transformation?"
   ]
  },
  {
   "cell_type": "markdown",
   "metadata": {},
   "source": [
    "No, after the transformation, the feature values are completely different and have no evident relationship with the original data, so it is not possible to guess them directly."
   ]
  },
  {
   "cell_type": "markdown",
   "metadata": {},
   "source": [
    "Can you recover the original data from X if you know P?\n",
    "Try verifying this through calculations by moving P from the right side of the previous formula to the left. In this case, the rules of matrix multiplication are really useful."
   ]
  },
  {
   "cell_type": "code",
   "execution_count": 93,
   "metadata": {},
   "outputs": [
    {
     "name": "stdout",
     "output_type": "stream",
     "text": [
      "\n",
      "Recovered Data (First 5 Rows):\n",
      "[[ 1.00000000e+00  4.10000000e+01  4.96000000e+04  1.00000000e+00]\n",
      " [-4.47363596e-12  4.60000000e+01  3.80000000e+04  1.00000000e+00]\n",
      " [-2.51586878e-12  2.90000000e+01  2.10000000e+04  9.52452315e-13]\n",
      " [-4.84498208e-12  2.10000000e+01  4.17000000e+04  2.00000000e+00]\n",
      " [ 1.00000000e+00  2.80000000e+01  2.61000000e+04 -1.01990740e-13]]\n"
     ]
    }
   ],
   "source": [
    "P_inv = np.linalg.inv(P)\n",
    "X_recovered = X_transformed @ P_inv\n",
    "print(\"\\nRecovered Data (First 5 Rows):\")\n",
    "print(X_recovered[:5])"
   ]
  },
  {
   "cell_type": "markdown",
   "metadata": {},
   "source": [
    "Yes, using the inverse matrix of 𝑃, it is possible to recover the original data with high precision, as demonstrated in the example above."
   ]
  },
  {
   "cell_type": "markdown",
   "metadata": {},
   "source": [
    "Show the three cases for some customers:\n",
    "\n",
    "-Original data\n",
    "\n",
    "-Transformed data\n",
    "\n",
    "-Inverted (recovered) data"
   ]
  },
  {
   "cell_type": "code",
   "execution_count": 94,
   "metadata": {},
   "outputs": [
    {
     "name": "stdout",
     "output_type": "stream",
     "text": [
      "\n",
      "Data Comparison (First 5 Rows):\n",
      "Original: [1.00e+00 4.10e+01 4.96e+04 1.00e+00]\n",
      "Transformed: [ 6359.71527314 22380.40467609 18424.09074184 46000.69669016]\n",
      "Recovered: [1.00e+00 4.10e+01 4.96e+04 1.00e+00]\n",
      "Original: [0.0e+00 4.6e+01 3.8e+04 1.0e+00]\n",
      "Transformed: [ 4873.29406479 17160.36702982 14125.78076133 35253.45577301]\n",
      "Recovered: [-4.47363596e-12  4.60000000e+01  3.80000000e+04  1.00000000e+00]\n",
      "Original: [    0.    29. 21000.     0.]\n",
      "Transformed: [ 2693.11742928  9486.397744    7808.83156024 19484.86063067]\n",
      "Recovered: [-2.51586878e-12  2.90000000e+01  2.10000000e+04  9.52452315e-13]\n",
      "Original: [0.00e+00 2.10e+01 4.17e+04 2.00e+00]\n",
      "Transformed: [ 5345.60393712 18803.22720286 15479.14837264 38663.06186284]\n",
      "Recovered: [-4.84498208e-12  2.10000000e+01  4.17000000e+04  2.00000000e+00]\n",
      "Original: [1.00e+00 2.80e+01 2.61e+04 0.00e+00]\n",
      "Transformed: [ 3347.17673462 11782.82928336  9699.99894205 24211.27337753]\n",
      "Recovered: [ 1.0000000e+00  2.8000000e+01  2.6100000e+04 -1.0199074e-13]\n"
     ]
    }
   ],
   "source": [
    "print(\"\\nData Comparison (First 5 Rows):\")\n",
    "for i in range(5):\n",
    "    print(f\"Original: {X[i]}\")\n",
    "    print(f\"Transformed: {X_transformed[i]}\")\n",
    "    print(f\"Recovered: {X_recovered[i]}\")"
   ]
  },
  {
   "cell_type": "markdown",
   "metadata": {},
   "source": [
    "The comparison of the data shows that the transformed values are obtained by multiplying the original features by an invertible matrix, making it difficult to identify the original meaning of the data. However, when applying the inverse matrix, the recovered values are practically identical to the original ones, with slight differences due to the limited numerical precision of computational calculations. This confirms that transformation with an invertible matrix is effective for obfuscating data without losing the ability to recover it, which is useful for protecting sensitive information while preserving analytical utility."
   ]
  },
  {
   "cell_type": "markdown",
   "metadata": {},
   "source": [
    "**Surely, you can see that some values are not exactly the same as the original data. What could be the reason for this?**"
   ]
  },
  {
   "cell_type": "markdown",
   "metadata": {},
   "source": [
    "The reason why some recovered values are not exactly the same as the original data lies in the limitations of numerical precision inherent to computational calculations. During the transformation and recovery processes, operations such as matrix multiplication and inverse calculations can introduce small differences due to how computers represent floating-point numbers. These differences, although minimal, are inevitable in complex mathematical operations and do not indicate errors in the procedure but rather technical limitations of computational arithmetic."
   ]
  },
  {
   "cell_type": "markdown",
   "metadata": {},
   "source": [
    "## Proof that Data Obfuscation Can Work with Linear Regression"
   ]
  },
  {
   "cell_type": "markdown",
   "metadata": {},
   "source": [
    "In this project, the regression task has been solved using linear regression. Your next task is to demonstrate analytically that the obfuscation method will not affect linear regression in terms of predicted values, meaning the predicted values will remain the same. Can you believe it? Well, you don’t have to believe it—you have to prove it!"
   ]
  },
  {
   "cell_type": "markdown",
   "metadata": {},
   "source": [
    "So, the data is obfuscated, and now we have \n",
    "𝑋\n",
    "×\n",
    "𝑃\n",
    "X×P instead of just \n",
    "𝑋\n",
    "X. Consequently, there are different weights \n",
    "𝑤\n",
    "𝑃\n",
    "w \n",
    "P\n",
    "​\n",
    "  defined as:\n",
    "\n",
    "𝑤\n",
    "=\n",
    "(\n",
    "𝑋\n",
    "𝑇\n",
    "𝑋\n",
    ")\n",
    "−\n",
    "1\n",
    "𝑋\n",
    "𝑇\n",
    "𝑦\n",
    "⇒\n",
    "𝑤\n",
    "𝑃\n",
    "=\n",
    "[\n",
    "(\n",
    "𝑋\n",
    "𝑃\n",
    ")\n",
    "𝑇\n",
    "𝑋\n",
    "𝑃\n",
    "]\n",
    "−\n",
    "1\n",
    "(\n",
    "𝑋\n",
    "𝑃\n",
    ")\n",
    "𝑇\n",
    "𝑦\n",
    "w=(X \n",
    "T\n",
    " X) \n",
    "−1\n",
    " X \n",
    "T\n",
    " y⇒w \n",
    "P\n",
    "​\n",
    " =[(XP) \n",
    "T\n",
    " XP] \n",
    "−1\n",
    " (XP) \n",
    "T\n",
    " y\n",
    "How would \n",
    "𝑤\n",
    "w and \n",
    "𝑤\n",
    "𝑃\n",
    "w \n",
    "P\n",
    "​\n",
    "  relate to each other if we simplified the formula for \n",
    "𝑤\n",
    "𝑃\n",
    "w \n",
    "P\n",
    "​\n",
    "  above?\n",
    "\n",
    "What would the predicted values be with \n",
    "𝑤\n",
    "𝑃\n",
    "w \n",
    "P\n",
    "​\n",
    " ?\n",
    "\n",
    "What does this mean for the quality of linear regression if it is measured using RMSE?\n",
    "\n",
    "Check Appendix B: Properties of Matrices at the end of the notebook. You will find very useful formulas there!\n",
    "\n",
    "No need to write code in this section; an analytical explanation is sufficient."
   ]
  },
  {
   "cell_type": "markdown",
   "metadata": {},
   "source": [
    "**Answer**"
   ]
  },
  {
   "cell_type": "markdown",
   "metadata": {},
   "source": [
    "1.Starting from the formula for the weights with obfuscation:\n",
    "𝑤\n",
    "𝑃\n",
    "=\n",
    "[\n",
    "(\n",
    "𝑋\n",
    "𝑃\n",
    ")\n",
    "𝑇\n",
    "(\n",
    "𝑋\n",
    "𝑃\n",
    ")\n",
    "]\n",
    "−\n",
    "1\n",
    "(\n",
    "𝑋\n",
    "𝑃\n",
    ")\n",
    "𝑇\n",
    "𝑦\n",
    "w \n",
    "P\n",
    "​\n",
    " =[(XP) \n",
    "T\n",
    " (XP)] \n",
    "−1\n",
    " (XP) \n",
    "T\n",
    " y\n",
    "Expanding and simplifying:\n",
    "\n",
    "(\n",
    "𝑋\n",
    "𝑃\n",
    ")\n",
    "𝑇\n",
    "=\n",
    "𝑃\n",
    "𝑇\n",
    "𝑋\n",
    "𝑇\n",
    "(XP) \n",
    "T\n",
    " =P \n",
    "T\n",
    " X \n",
    "T\n",
    " \n",
    "Thus:\n",
    "\n",
    "𝑤\n",
    "𝑃\n",
    "=\n",
    "[\n",
    "(\n",
    "𝑃\n",
    "𝑇\n",
    "𝑋\n",
    "𝑇\n",
    "𝑋\n",
    "𝑃\n",
    ")\n",
    "]\n",
    "−\n",
    "1\n",
    "(\n",
    "𝑃\n",
    "𝑇\n",
    "𝑋\n",
    "𝑇\n",
    "𝑦\n",
    ")\n",
    "w \n",
    "P\n",
    "​\n",
    " =[(P \n",
    "T\n",
    " X \n",
    "T\n",
    " XP)] \n",
    "−1\n",
    " (P \n",
    "T\n",
    " X \n",
    "T\n",
    " y)\n",
    "Using the property \n",
    "(\n",
    "𝐴\n",
    "𝐵\n",
    ")\n",
    "−\n",
    "1\n",
    "=\n",
    "𝐵\n",
    "−\n",
    "1\n",
    "𝐴\n",
    "−\n",
    "1\n",
    "(AB) \n",
    "−1\n",
    " =B \n",
    "−1\n",
    " A \n",
    "−1\n",
    " , we can rewrite:\n",
    "\n",
    "𝑤\n",
    "𝑃\n",
    "=\n",
    "𝑃\n",
    "−\n",
    "1\n",
    "(\n",
    "𝑋\n",
    "𝑇\n",
    "𝑋\n",
    ")\n",
    "−\n",
    "1\n",
    "(\n",
    "𝑃\n",
    "𝑇\n",
    ")\n",
    "−\n",
    "1\n",
    "𝑃\n",
    "𝑇\n",
    "𝑋\n",
    "𝑇\n",
    "𝑦\n",
    "w \n",
    "P\n",
    "​\n",
    " =P \n",
    "−1\n",
    " (X \n",
    "T\n",
    " X) \n",
    "−1\n",
    " (P \n",
    "T\n",
    " ) \n",
    "−1\n",
    " P \n",
    "T\n",
    " X \n",
    "T\n",
    " y\n",
    "We know that \n",
    "(\n",
    "𝑃\n",
    "𝑇\n",
    ")\n",
    "−\n",
    "1\n",
    "𝑃\n",
    "𝑇\n",
    "=\n",
    "𝐼\n",
    "(P \n",
    "T\n",
    " ) \n",
    "−1\n",
    " P \n",
    "T\n",
    " =I, so:\n",
    "\n",
    "𝑤\n",
    "𝑃\n",
    "=\n",
    "𝑃\n",
    "−\n",
    "1\n",
    "(\n",
    "𝑋\n",
    "𝑇\n",
    "𝑋\n",
    ")\n",
    "−\n",
    "1\n",
    "𝑋\n",
    "𝑇\n",
    "𝑦\n",
    "w \n",
    "P\n",
    "​\n",
    " =P \n",
    "−1\n",
    " (X \n",
    "T\n",
    " X) \n",
    "−1\n",
    " X \n",
    "T\n",
    " y\n",
    "Since:\n",
    "\n",
    "𝑤\n",
    "=\n",
    "(\n",
    "𝑋\n",
    "𝑇\n",
    "𝑋\n",
    ")\n",
    "−\n",
    "1\n",
    "𝑋\n",
    "𝑇\n",
    "𝑦\n",
    "w=(X \n",
    "T\n",
    " X) \n",
    "−1\n",
    " X \n",
    "T\n",
    " y\n",
    "We substitute:\n",
    "\n",
    "𝑤\n",
    "𝑃\n",
    "=\n",
    "𝑃\n",
    "−\n",
    "1\n",
    "𝑤\n",
    "w \n",
    "P\n",
    "​\n",
    " =P \n",
    "−1\n",
    " w\n",
    "Therefore, the new weights \n",
    "𝑤\n",
    "𝑃\n",
    "w \n",
    "P\n",
    "​\n",
    "  are related to the original weights \n",
    "𝑤\n",
    "w through the inverse matrix \n",
    "𝑃\n",
    "−\n",
    "1\n",
    "P \n",
    "−1\n",
    " ."
   ]
  },
  {
   "cell_type": "markdown",
   "metadata": {},
   "source": [
    "2.Predicted Values with \n",
    "𝑤\n",
    "𝑃\n",
    "w \n",
    "P\n",
    "​\n",
    " :\n",
    "The predicted values with the obfuscated weights \n",
    "𝑤\n",
    "𝑃\n",
    "w \n",
    "P\n",
    "​\n",
    "  are:\n",
    "𝑦\n",
    "^\n",
    "′\n",
    "=\n",
    "𝑋\n",
    "𝑃\n",
    "𝑤\n",
    "𝑃\n",
    "y\n",
    "^\n",
    "​\n",
    "  \n",
    "′\n",
    " =XPw \n",
    "P\n",
    "​\n",
    " \n",
    "Substituting \n",
    "𝑤\n",
    "𝑃\n",
    "=\n",
    "𝑃\n",
    "−\n",
    "1\n",
    "𝑤\n",
    "w \n",
    "P\n",
    "​\n",
    " =P \n",
    "−1\n",
    " w:\n",
    "\n",
    "𝑦\n",
    "^\n",
    "′\n",
    "=\n",
    "𝑋\n",
    "𝑃\n",
    "𝑃\n",
    "−\n",
    "1\n",
    "𝑤\n",
    "y\n",
    "^\n",
    "​\n",
    "  \n",
    "′\n",
    " =XPP \n",
    "−1\n",
    " w\n",
    "Using the property \n",
    "𝑃\n",
    "𝑃\n",
    "−\n",
    "1\n",
    "=\n",
    "𝐼\n",
    "PP \n",
    "−1\n",
    " =I:\n",
    "\n",
    "𝑦\n",
    "^\n",
    "′\n",
    "=\n",
    "𝑋\n",
    "𝑤\n",
    "y\n",
    "^\n",
    "​\n",
    "  \n",
    "′\n",
    " =Xw\n",
    "This demonstrates that the predicted values with \n",
    "𝑤\n",
    "𝑃\n",
    "w \n",
    "P\n",
    "​\n",
    "  are identical to the predicted values with \n",
    "𝑤\n",
    "w, meaning the transformation does not affect the predicted values."
   ]
  },
  {
   "cell_type": "markdown",
   "metadata": {},
   "source": [
    "3. Impact on Linear Regression Quality (Measured by RMSE):\n",
    "The quality of linear regression, measured by RMSE (Root Mean Squared Error), depends solely on the difference between the actual values \n",
    "𝑦\n",
    "y and the predicted values \n",
    "𝑦\n",
    "^\n",
    "y\n",
    "^\n",
    "​\n",
    " :\n",
    "𝑅\n",
    "𝑀\n",
    "𝑆\n",
    "𝐸\n",
    "=\n",
    "1\n",
    "𝑛\n",
    "∑\n",
    "𝑖\n",
    "=\n",
    "1\n",
    "𝑛\n",
    "(\n",
    "𝑦\n",
    "𝑖\n",
    "−\n",
    "𝑦\n",
    "^\n",
    "𝑖\n",
    ")\n",
    "2\n",
    "RMSE= \n",
    "n\n",
    "1\n",
    "​\n",
    "  \n",
    "i=1\n",
    "∑\n",
    "n\n",
    "​\n",
    " (y \n",
    "i\n",
    "​\n",
    " − \n",
    "y\n",
    "^\n",
    "​\n",
    "  \n",
    "i\n",
    "​\n",
    " ) \n",
    "2\n",
    " \n",
    "​\n",
    " \n",
    "Since the predicted values \n",
    "𝑦\n",
    "^\n",
    "′\n",
    "y\n",
    "^\n",
    "​\n",
    "  \n",
    "′\n",
    "  with obfuscation are identical to the original predicted values \n",
    "𝑦\n",
    "^\n",
    "y\n",
    "^\n",
    "​\n",
    " , the RMSE does not change. Therefore:\n",
    "\n",
    "The model's quality is invariant under the transformation \n",
    "𝑋\n",
    "→\n",
    "𝑋\n",
    "𝑃\n",
    "X→XP, as long as \n",
    "𝑃\n",
    "P is invertible. The transformation only affects the interpretation of the weights, not the model's performance."
   ]
  },
  {
   "cell_type": "markdown",
   "metadata": {},
   "source": [
    "## Linear Regression Test with Data Obfuscation"
   ]
  },
  {
   "cell_type": "markdown",
   "metadata": {},
   "source": [
    "Now, let’s test whether linear regression can work computationally with the chosen obfuscation transformation. Build a procedure or a class that executes linear regression, optionally with obfuscation. You can use a linear regression implementation from scikit-learn or your own implementation. Run linear regression for both the original and obfuscated data, compare the predicted values, and evaluate the RMSE and \n",
    "𝑅\n",
    "2\n",
    "R \n",
    "2\n",
    "  metrics. Are there any differences?"
   ]
  },
  {
   "cell_type": "markdown",
   "metadata": {},
   "source": [
    "**Procedure**\n",
    "\n",
    "1.Create a square matrix 𝑃 of random numbers.\n",
    "\n",
    "\n",
    "2.Check if it is invertible. If not, repeat the first step until you obtain an invertible matrix.\n",
    "<¡your comment here!>\n",
    "\n",
    "\n",
    "3.Use \n",
    "𝑋\n",
    "𝑃\n",
    "XP as the new feature matrix (obfuscated)."
   ]
  },
  {
   "cell_type": "code",
   "execution_count": 96,
   "metadata": {},
   "outputs": [],
   "source": [
    "rng = np.random.default_rng(seed=42)\n",
    "while True:\n",
    "    P = rng.random(size=(X_train.shape[1], X_train.shape[1]))\n",
    "    if np.linalg.det(P) != 0:\n",
    "        break\n",
    "        \n",
    "X_train_obfuscated = X_train @ P\n",
    "X_test_obfuscated = X_test @ P\n",
    "\n"
   ]
  },
  {
   "cell_type": "code",
   "execution_count": 97,
   "metadata": {},
   "outputs": [],
   "source": [
    "# Linear regression with original data\n",
    "model_original = LinearRegression()\n",
    "model_original.fit(X_train, y_train)\n",
    "y_pred_original = model_original.predict(X_test)"
   ]
  },
  {
   "cell_type": "code",
   "execution_count": 98,
   "metadata": {},
   "outputs": [],
   "source": [
    "# Linear regression with obfuscated data\n",
    "model_obfuscated = LinearRegression()\n",
    "model_obfuscated.fit(X_train_obfuscated, y_train)\n",
    "y_pred_obfuscated = model_obfuscated.predict(X_test_obfuscated)"
   ]
  },
  {
   "cell_type": "code",
   "execution_count": 101,
   "metadata": {},
   "outputs": [],
   "source": [
    "# Calculate metrics\n",
    "def eval_regressor(y_true, y_pred):\n",
    "    rmse = np.sqrt(sklearn.metrics.mean_squared_error(y_true, y_pred))\n",
    "    r2 = sklearn.metrics.r2_score(y_true, y_pred)\n",
    "    print(f\"RMSE: {rmse: .2f}, R2: {r2: .2f}\")\n",
    "    return rmse, r2"
   ]
  },
  {
   "cell_type": "code",
   "execution_count": 103,
   "metadata": {},
   "outputs": [
    {
     "name": "stdout",
     "output_type": "stream",
     "text": [
      "Results with original data:\n",
      "RMSE:  0.36, R2:  0.43\n",
      "\n",
      "Results with obfuscated data:\n",
      "RMSE:  0.36, R2:  0.43\n",
      "\n",
      "Maximum difference between original and obfuscated predictions:\n",
      "1.25910393222739e-12\n"
     ]
    }
   ],
   "source": [
    "print(\"Results with original data:\")\n",
    "eval_regressor(y_test, y_pred_original)\n",
    "\n",
    "print(\"\\nResults with obfuscated data:\")\n",
    "eval_regressor(y_test, y_pred_obfuscated)\n",
    "\n",
    "# Comparar predicciones\n",
    "print(\"\\nMaximum difference between original and obfuscated predictions:\")\n",
    "print(np.max(np.abs(y_pred_original - y_pred_obfuscated)))"
   ]
  },
  {
   "cell_type": "markdown",
   "metadata": {},
   "source": [
    "The results show that data obfuscation does not affect the performance of linear regression in terms of the evaluated metrics (RMSE and \n",
    "𝑅\n",
    "2\n",
    "R \n",
    "2\n",
    " ). Both the original and obfuscated data produce identical values for these metrics, confirming that transformation using an invertible matrix preserves the relationships between variables. The maximum difference between original and obfuscated predictions is practically negligible (on the order of \n",
    "1\n",
    "0\n",
    "−\n",
    "12\n",
    "10 \n",
    "−12\n",
    " ), which is due to numerical precision limitations. This demonstrates that obfuscation is a valid technique for protecting data without compromising model quality."
   ]
  },
  {
   "cell_type": "markdown",
   "metadata": {},
   "source": [
    "# Conclusions"
   ]
  },
  {
   "cell_type": "markdown",
   "metadata": {},
   "source": [
    "# Data Preprocessing"
   ]
  },
  {
   "cell_type": "markdown",
   "metadata": {},
   "source": [
    "The insurance company Sure Tomorrow aims to implement machine learning solutions to address various tasks while ensuring the protection of customers' personal information through a data masking process. This method involves transforming the data to make it difficult to retrieve sensitive information in case it falls into the wrong hands, without compromising the quality of predictive models. During the analysis, 153 duplicate records were identified that could skew machine learning results and were therefore removed to ensure analysis integrity. Additionally, the data was carefully evaluated to ensure no significant outliers were present, although some outliers in income and family members were flagged for further validation."
   ]
  },
  {
   "cell_type": "markdown",
   "metadata": {},
   "source": [
    "# 1.Similar Customers"
   ]
  },
  {
   "cell_type": "markdown",
   "metadata": {},
   "source": [
    "Data scaling is essential for the proper performance of the kNN algorithm since features with larger values, such as income, can dominate the calculated distances and bias the results, especially when using metrics like Euclidean or Manhattan. Scaling ensures an equitable contribution from all features, improving the precision and representativeness of the nearest neighbors. Additionally, although the Manhattan metric is sensitive to unscaled values, scaling balances the contributions of the different variables, ensuring fairer and more reliable results. Therefore, proper preprocessing, such as scaling, is crucial to avoid distortions in distance-based analyses."
   ]
  },
  {
   "cell_type": "markdown",
   "metadata": {},
   "source": [
    "# 2.Is it Likely That the Customer Will Receive an Insurance Benefit?"
   ]
  },
  {
   "cell_type": "markdown",
   "metadata": {},
   "source": [
    "The results of the dummy model show that its performance is limited, especially in scenarios with class imbalance. Although adjusting the probability slightly improves the F1-score, this model fails to achieve adequate performance in identifying both classes in a balanced way. This highlights the need to use more sophisticated models, such as kNN, which can better handle class imbalance and provide greater accuracy in detecting positive cases, thereby improving the practical utility of the analysis."
   ]
  },
  {
   "cell_type": "markdown",
   "metadata": {},
   "source": [
    "# 3.Regression (with Linear Regression)"
   ]
  },
  {
   "cell_type": "markdown",
   "metadata": {},
   "source": [
    "The results of the linear regression model are acceptable, with a low RMSE of 0.36, indicating a reduced average error, and an \n",
    "𝑅\n",
    "2 of 0.66, showing that the model explains 66% of the variability in the data. However, considering the class imbalance in the data, it is advisable to explore further improvements and adjustments to optimize performance in specific scenarios and ensure greater precision and fairness in the predictions."
   ]
  },
  {
   "cell_type": "markdown",
   "metadata": {},
   "source": [
    "# 4.Data Obfuscation"
   ]
  },
  {
   "cell_type": "markdown",
   "metadata": {},
   "source": [
    "The comparison of original, transformed, and recovered data demonstrates that obfuscation using invertible matrices is effective in protecting sensitive information without compromising analytical utility. Although the recovered data is nearly identical to the original, small discrepancies arise due to numerical precision limitations inherent to computational calculations, such as floating-point operations. These differences are minimal and do not affect the process's functionality, confirming that the technique is suitable for preserving data security and analytical quality."
   ]
  }
 ],
 "metadata": {
  "ExecuteTimeLog": [
   {
    "duration": 2358,
    "start_time": "2024-12-02T14:53:51.267Z"
   },
   {
    "duration": 2156,
    "start_time": "2024-12-02T14:54:08.696Z"
   },
   {
    "duration": 2757,
    "start_time": "2024-12-02T14:54:20.247Z"
   },
   {
    "duration": 3,
    "start_time": "2024-12-02T14:59:12.397Z"
   },
   {
    "duration": 10,
    "start_time": "2024-12-02T14:59:14.508Z"
   },
   {
    "duration": 12,
    "start_time": "2024-12-02T15:00:29.204Z"
   },
   {
    "duration": 9,
    "start_time": "2024-12-02T15:00:42.457Z"
   },
   {
    "duration": 4,
    "start_time": "2024-12-02T15:04:13.982Z"
   },
   {
    "duration": 9,
    "start_time": "2024-12-02T15:04:14.605Z"
   },
   {
    "duration": 8,
    "start_time": "2024-12-02T15:04:15.540Z"
   },
   {
    "duration": 2,
    "start_time": "2024-12-02T15:04:15.994Z"
   },
   {
    "duration": 4,
    "start_time": "2024-12-02T15:04:59.263Z"
   },
   {
    "duration": 2,
    "start_time": "2024-12-02T15:04:59.903Z"
   },
   {
    "duration": 9,
    "start_time": "2024-12-02T15:05:09.615Z"
   },
   {
    "duration": 3,
    "start_time": "2024-12-02T15:13:21.458Z"
   },
   {
    "duration": 9,
    "start_time": "2024-12-02T15:13:22.192Z"
   },
   {
    "duration": 3,
    "start_time": "2024-12-02T15:13:22.856Z"
   },
   {
    "duration": 9,
    "start_time": "2024-12-02T15:13:23.065Z"
   },
   {
    "duration": 10,
    "start_time": "2024-12-02T15:13:23.233Z"
   },
   {
    "duration": 3,
    "start_time": "2024-12-02T15:13:23.709Z"
   },
   {
    "duration": 8,
    "start_time": "2024-12-02T15:13:24.141Z"
   },
   {
    "duration": 16,
    "start_time": "2024-12-02T15:13:32.683Z"
   },
   {
    "duration": 300,
    "start_time": "2024-12-02T15:22:55.758Z"
   },
   {
    "duration": 5,
    "start_time": "2024-12-02T15:23:02.079Z"
   },
   {
    "duration": 9,
    "start_time": "2024-12-02T15:25:06.263Z"
   },
   {
    "duration": 10,
    "start_time": "2024-12-02T15:29:49.323Z"
   },
   {
    "duration": 6,
    "start_time": "2024-12-02T15:30:51.423Z"
   },
   {
    "duration": 8,
    "start_time": "2024-12-02T15:31:05.474Z"
   },
   {
    "duration": 16,
    "start_time": "2024-12-02T15:31:30.773Z"
   },
   {
    "duration": 3,
    "start_time": "2024-12-02T16:11:32.160Z"
   },
   {
    "duration": 9,
    "start_time": "2024-12-02T16:11:32.807Z"
   },
   {
    "duration": 3,
    "start_time": "2024-12-02T16:11:33.217Z"
   },
   {
    "duration": 9,
    "start_time": "2024-12-02T16:11:33.401Z"
   },
   {
    "duration": 10,
    "start_time": "2024-12-02T16:11:33.744Z"
   },
   {
    "duration": 3,
    "start_time": "2024-12-02T16:11:33.971Z"
   },
   {
    "duration": 10,
    "start_time": "2024-12-02T16:11:34.233Z"
   },
   {
    "duration": 17,
    "start_time": "2024-12-02T16:11:34.571Z"
   },
   {
    "duration": 12,
    "start_time": "2024-12-02T16:11:35.144Z"
   },
   {
    "duration": 9,
    "start_time": "2024-12-02T16:11:35.421Z"
   },
   {
    "duration": 11,
    "start_time": "2024-12-02T16:14:01.991Z"
   },
   {
    "duration": 5,
    "start_time": "2024-12-02T16:14:16.611Z"
   },
   {
    "duration": 15,
    "start_time": "2024-12-02T16:14:34.873Z"
   },
   {
    "duration": 6,
    "start_time": "2024-12-02T16:46:08.677Z"
   },
   {
    "duration": 3,
    "start_time": "2024-12-02T16:49:27.120Z"
   },
   {
    "duration": 5,
    "start_time": "2024-12-02T16:52:16.247Z"
   },
   {
    "duration": 8,
    "start_time": "2024-12-02T16:53:13.826Z"
   },
   {
    "duration": 9,
    "start_time": "2024-12-02T22:30:20.450Z"
   },
   {
    "duration": 152,
    "start_time": "2024-12-02T22:30:53.331Z"
   },
   {
    "duration": 2620,
    "start_time": "2024-12-02T22:31:08.567Z"
   },
   {
    "duration": 11,
    "start_time": "2024-12-02T22:31:11.191Z"
   },
   {
    "duration": 3,
    "start_time": "2024-12-02T22:31:11.203Z"
   },
   {
    "duration": 18,
    "start_time": "2024-12-02T22:31:11.209Z"
   },
   {
    "duration": 9,
    "start_time": "2024-12-02T22:31:11.228Z"
   },
   {
    "duration": 3,
    "start_time": "2024-12-02T22:31:11.239Z"
   },
   {
    "duration": 8,
    "start_time": "2024-12-02T22:31:11.243Z"
   },
   {
    "duration": 16,
    "start_time": "2024-12-02T22:31:11.252Z"
   },
   {
    "duration": 8,
    "start_time": "2024-12-02T22:31:11.270Z"
   },
   {
    "duration": 8,
    "start_time": "2024-12-02T22:31:11.281Z"
   },
   {
    "duration": 6,
    "start_time": "2024-12-02T22:31:12.143Z"
   },
   {
    "duration": 2,
    "start_time": "2024-12-02T22:31:12.468Z"
   },
   {
    "duration": 4,
    "start_time": "2024-12-02T22:31:12.643Z"
   },
   {
    "duration": 93,
    "start_time": "2024-12-02T22:31:12.845Z"
   },
   {
    "duration": 5,
    "start_time": "2024-12-02T22:31:39.987Z"
   },
   {
    "duration": 3,
    "start_time": "2024-12-02T22:32:04.377Z"
   },
   {
    "duration": 6,
    "start_time": "2024-12-02T22:32:04.986Z"
   },
   {
    "duration": 3,
    "start_time": "2024-12-02T22:32:05.309Z"
   },
   {
    "duration": 8,
    "start_time": "2024-12-02T22:32:05.565Z"
   },
   {
    "duration": 9,
    "start_time": "2024-12-02T22:32:05.755Z"
   },
   {
    "duration": 4,
    "start_time": "2024-12-02T22:32:05.910Z"
   },
   {
    "duration": 9,
    "start_time": "2024-12-02T22:32:06.061Z"
   },
   {
    "duration": 16,
    "start_time": "2024-12-02T22:32:06.209Z"
   },
   {
    "duration": 8,
    "start_time": "2024-12-02T22:32:06.670Z"
   },
   {
    "duration": 8,
    "start_time": "2024-12-02T22:32:06.804Z"
   },
   {
    "duration": 6,
    "start_time": "2024-12-02T22:32:07.161Z"
   },
   {
    "duration": 2,
    "start_time": "2024-12-02T22:32:07.311Z"
   },
   {
    "duration": 4,
    "start_time": "2024-12-02T22:32:07.493Z"
   },
   {
    "duration": 191,
    "start_time": "2024-12-02T22:32:07.677Z"
   },
   {
    "duration": 5,
    "start_time": "2024-12-02T22:32:25.004Z"
   },
   {
    "duration": 5,
    "start_time": "2024-12-02T22:34:09.140Z"
   },
   {
    "duration": 190,
    "start_time": "2024-12-02T22:34:09.377Z"
   },
   {
    "duration": 68,
    "start_time": "2024-12-02T22:34:51.664Z"
   },
   {
    "duration": 7,
    "start_time": "2024-12-02T22:34:58.931Z"
   },
   {
    "duration": 7,
    "start_time": "2024-12-02T22:35:15.713Z"
   },
   {
    "duration": 7,
    "start_time": "2024-12-02T22:37:35.600Z"
   },
   {
    "duration": 6,
    "start_time": "2024-12-02T22:37:35.917Z"
   },
   {
    "duration": 2614,
    "start_time": "2024-12-02T22:38:51.418Z"
   },
   {
    "duration": 2376,
    "start_time": "2024-12-02T23:26:42.828Z"
   },
   {
    "duration": 2710,
    "start_time": "2024-12-02T23:26:47.795Z"
   },
   {
    "duration": 12,
    "start_time": "2024-12-02T23:26:50.507Z"
   },
   {
    "duration": 3,
    "start_time": "2024-12-02T23:26:50.520Z"
   },
   {
    "duration": 11,
    "start_time": "2024-12-02T23:26:50.525Z"
   },
   {
    "duration": 9,
    "start_time": "2024-12-02T23:26:50.538Z"
   },
   {
    "duration": 3,
    "start_time": "2024-12-02T23:26:50.549Z"
   },
   {
    "duration": 36,
    "start_time": "2024-12-02T23:26:50.554Z"
   },
   {
    "duration": 16,
    "start_time": "2024-12-02T23:26:50.592Z"
   },
   {
    "duration": 9,
    "start_time": "2024-12-02T23:26:50.910Z"
   },
   {
    "duration": 8,
    "start_time": "2024-12-02T23:26:51.155Z"
   },
   {
    "duration": 5,
    "start_time": "2024-12-02T23:26:51.511Z"
   },
   {
    "duration": 3,
    "start_time": "2024-12-02T23:26:51.705Z"
   },
   {
    "duration": 4,
    "start_time": "2024-12-02T23:26:52.178Z"
   },
   {
    "duration": 198,
    "start_time": "2024-12-02T23:26:52.383Z"
   },
   {
    "duration": 7,
    "start_time": "2024-12-02T23:26:52.584Z"
   },
   {
    "duration": 7,
    "start_time": "2024-12-02T23:26:52.762Z"
   },
   {
    "duration": 2519,
    "start_time": "2024-12-02T23:26:55.220Z"
   },
   {
    "duration": 381,
    "start_time": "2024-12-02T23:37:42.868Z"
   },
   {
    "duration": 358,
    "start_time": "2024-12-02T23:38:17.902Z"
   },
   {
    "duration": 9,
    "start_time": "2024-12-02T23:38:37.153Z"
   },
   {
    "duration": 8,
    "start_time": "2024-12-02T23:39:04.608Z"
   },
   {
    "duration": 2688,
    "start_time": "2024-12-02T23:41:21.229Z"
   },
   {
    "duration": 2510,
    "start_time": "2024-12-03T01:10:58.700Z"
   },
   {
    "duration": 2896,
    "start_time": "2024-12-03T01:11:01.213Z"
   },
   {
    "duration": 12,
    "start_time": "2024-12-03T01:11:04.111Z"
   },
   {
    "duration": 3,
    "start_time": "2024-12-03T01:11:04.126Z"
   },
   {
    "duration": 12,
    "start_time": "2024-12-03T01:11:04.131Z"
   },
   {
    "duration": 8,
    "start_time": "2024-12-03T01:11:04.145Z"
   },
   {
    "duration": 3,
    "start_time": "2024-12-03T01:11:04.155Z"
   },
   {
    "duration": 8,
    "start_time": "2024-12-03T01:11:04.160Z"
   },
   {
    "duration": 17,
    "start_time": "2024-12-03T01:11:04.170Z"
   },
   {
    "duration": 9,
    "start_time": "2024-12-03T01:11:04.190Z"
   },
   {
    "duration": 45,
    "start_time": "2024-12-03T01:11:04.200Z"
   },
   {
    "duration": 5,
    "start_time": "2024-12-03T01:11:04.246Z"
   },
   {
    "duration": 3,
    "start_time": "2024-12-03T01:11:04.253Z"
   },
   {
    "duration": 5,
    "start_time": "2024-12-03T01:11:04.258Z"
   },
   {
    "duration": 422,
    "start_time": "2024-12-03T01:11:04.265Z"
   },
   {
    "duration": 6,
    "start_time": "2024-12-03T01:11:04.690Z"
   },
   {
    "duration": 8,
    "start_time": "2024-12-03T01:11:04.698Z"
   },
   {
    "duration": 6,
    "start_time": "2024-12-03T01:11:04.708Z"
   },
   {
    "duration": 28,
    "start_time": "2024-12-03T01:11:04.716Z"
   },
   {
    "duration": 2719,
    "start_time": "2024-12-03T01:11:05.000Z"
   },
   {
    "duration": 2,
    "start_time": "2024-12-03T01:11:07.722Z"
   },
   {
    "duration": 7,
    "start_time": "2024-12-03T01:11:07.726Z"
   },
   {
    "duration": 0,
    "start_time": "2024-12-03T01:11:07.735Z"
   },
   {
    "duration": 6,
    "start_time": "2024-12-03T01:11:35.373Z"
   },
   {
    "duration": 3,
    "start_time": "2024-12-03T01:13:29.191Z"
   },
   {
    "duration": 7,
    "start_time": "2024-12-03T01:13:42.621Z"
   },
   {
    "duration": 4,
    "start_time": "2024-12-03T01:13:45.305Z"
   },
   {
    "duration": 8,
    "start_time": "2024-12-03T01:13:45.460Z"
   },
   {
    "duration": 9,
    "start_time": "2024-12-03T01:13:45.838Z"
   },
   {
    "duration": 3,
    "start_time": "2024-12-03T01:13:45.926Z"
   },
   {
    "duration": 9,
    "start_time": "2024-12-03T01:13:46.180Z"
   },
   {
    "duration": 16,
    "start_time": "2024-12-03T01:13:46.463Z"
   },
   {
    "duration": 10,
    "start_time": "2024-12-03T01:13:47.138Z"
   },
   {
    "duration": 8,
    "start_time": "2024-12-03T01:13:47.505Z"
   },
   {
    "duration": 5,
    "start_time": "2024-12-03T01:13:48.274Z"
   },
   {
    "duration": 2,
    "start_time": "2024-12-03T01:13:48.691Z"
   },
   {
    "duration": 4,
    "start_time": "2024-12-03T01:13:49.279Z"
   },
   {
    "duration": 386,
    "start_time": "2024-12-03T01:13:50.124Z"
   },
   {
    "duration": 7,
    "start_time": "2024-12-03T01:13:50.514Z"
   },
   {
    "duration": 7,
    "start_time": "2024-12-03T01:13:50.930Z"
   },
   {
    "duration": 7,
    "start_time": "2024-12-03T01:13:51.178Z"
   },
   {
    "duration": 7,
    "start_time": "2024-12-03T01:13:51.497Z"
   },
   {
    "duration": 2676,
    "start_time": "2024-12-03T01:13:53.639Z"
   },
   {
    "duration": 4,
    "start_time": "2024-12-03T01:13:56.318Z"
   },
   {
    "duration": 6,
    "start_time": "2024-12-03T01:13:56.732Z"
   },
   {
    "duration": 6,
    "start_time": "2024-12-03T01:16:39.073Z"
   },
   {
    "duration": 3,
    "start_time": "2024-12-03T01:16:46.438Z"
   },
   {
    "duration": 4,
    "start_time": "2024-12-03T01:16:50.158Z"
   },
   {
    "duration": 2,
    "start_time": "2024-12-03T01:19:17.927Z"
   },
   {
    "duration": 3,
    "start_time": "2024-12-03T01:19:18.562Z"
   },
   {
    "duration": 9,
    "start_time": "2024-12-03T01:19:19.854Z"
   },
   {
    "duration": 10,
    "start_time": "2024-12-03T01:19:22.052Z"
   },
   {
    "duration": 3,
    "start_time": "2024-12-03T01:30:00.705Z"
   },
   {
    "duration": 8,
    "start_time": "2024-12-03T01:30:03.987Z"
   },
   {
    "duration": 8,
    "start_time": "2024-12-03T01:31:26.790Z"
   },
   {
    "duration": 2,
    "start_time": "2024-12-03T01:31:43.476Z"
   },
   {
    "duration": 280,
    "start_time": "2024-12-03T01:33:02.644Z"
   },
   {
    "duration": 3,
    "start_time": "2024-12-03T01:33:18.075Z"
   },
   {
    "duration": 8,
    "start_time": "2024-12-03T01:33:18.631Z"
   },
   {
    "duration": 3,
    "start_time": "2024-12-03T01:33:19.159Z"
   },
   {
    "duration": 9,
    "start_time": "2024-12-03T01:33:19.296Z"
   },
   {
    "duration": 9,
    "start_time": "2024-12-03T01:33:19.459Z"
   },
   {
    "duration": 4,
    "start_time": "2024-12-03T01:33:19.633Z"
   },
   {
    "duration": 9,
    "start_time": "2024-12-03T01:33:19.776Z"
   },
   {
    "duration": 17,
    "start_time": "2024-12-03T01:33:19.894Z"
   },
   {
    "duration": 9,
    "start_time": "2024-12-03T01:33:20.529Z"
   },
   {
    "duration": 9,
    "start_time": "2024-12-03T01:33:20.712Z"
   },
   {
    "duration": 7,
    "start_time": "2024-12-03T01:33:21.045Z"
   },
   {
    "duration": 2,
    "start_time": "2024-12-03T01:33:21.282Z"
   },
   {
    "duration": 4,
    "start_time": "2024-12-03T01:33:21.487Z"
   },
   {
    "duration": 502,
    "start_time": "2024-12-03T01:33:21.690Z"
   },
   {
    "duration": 8,
    "start_time": "2024-12-03T01:33:22.195Z"
   },
   {
    "duration": 8,
    "start_time": "2024-12-03T01:33:22.206Z"
   },
   {
    "duration": 7,
    "start_time": "2024-12-03T01:33:22.246Z"
   },
   {
    "duration": 6,
    "start_time": "2024-12-03T01:33:22.495Z"
   },
   {
    "duration": 2678,
    "start_time": "2024-12-03T01:33:23.257Z"
   },
   {
    "duration": 8,
    "start_time": "2024-12-03T01:33:25.937Z"
   },
   {
    "duration": 5,
    "start_time": "2024-12-03T01:33:25.947Z"
   },
   {
    "duration": 4,
    "start_time": "2024-12-03T01:33:25.956Z"
   },
   {
    "duration": 10,
    "start_time": "2024-12-03T01:33:26.172Z"
   },
   {
    "duration": 8,
    "start_time": "2024-12-03T01:33:27.559Z"
   },
   {
    "duration": 2,
    "start_time": "2024-12-03T01:33:28.288Z"
   },
   {
    "duration": 25,
    "start_time": "2024-12-03T01:33:28.880Z"
   },
   {
    "duration": 3,
    "start_time": "2024-12-03T01:34:33.909Z"
   },
   {
    "duration": 3,
    "start_time": "2024-12-03T01:34:34.265Z"
   },
   {
    "duration": 9,
    "start_time": "2024-12-03T01:34:34.433Z"
   },
   {
    "duration": 7,
    "start_time": "2024-12-03T01:34:34.783Z"
   },
   {
    "duration": 3,
    "start_time": "2024-12-03T01:34:34.967Z"
   },
   {
    "duration": 9,
    "start_time": "2024-12-03T01:34:35.282Z"
   },
   {
    "duration": 46,
    "start_time": "2024-12-03T01:34:35.348Z"
   },
   {
    "duration": 10,
    "start_time": "2024-12-03T01:34:39.648Z"
   },
   {
    "duration": 44,
    "start_time": "2024-12-03T01:34:59.025Z"
   },
   {
    "duration": 10,
    "start_time": "2024-12-03T01:35:02.040Z"
   },
   {
    "duration": 11,
    "start_time": "2024-12-03T01:35:17.342Z"
   },
   {
    "duration": 20,
    "start_time": "2024-12-03T01:35:41.933Z"
   },
   {
    "duration": 19,
    "start_time": "2024-12-03T01:35:53.456Z"
   },
   {
    "duration": 11,
    "start_time": "2024-12-03T01:35:59.112Z"
   },
   {
    "duration": 2451,
    "start_time": "2024-12-03T15:10:00.413Z"
   },
   {
    "duration": 2742,
    "start_time": "2024-12-03T15:10:02.867Z"
   },
   {
    "duration": 14,
    "start_time": "2024-12-03T15:10:05.610Z"
   },
   {
    "duration": 3,
    "start_time": "2024-12-03T15:10:05.627Z"
   },
   {
    "duration": 11,
    "start_time": "2024-12-03T15:10:05.633Z"
   },
   {
    "duration": 9,
    "start_time": "2024-12-03T15:10:05.645Z"
   },
   {
    "duration": 3,
    "start_time": "2024-12-03T15:10:05.655Z"
   },
   {
    "duration": 8,
    "start_time": "2024-12-03T15:10:05.660Z"
   },
   {
    "duration": 46,
    "start_time": "2024-12-03T15:10:05.669Z"
   },
   {
    "duration": 12,
    "start_time": "2024-12-03T15:10:07.826Z"
   },
   {
    "duration": 9,
    "start_time": "2024-12-03T15:10:08.087Z"
   },
   {
    "duration": 5,
    "start_time": "2024-12-03T15:10:08.630Z"
   },
   {
    "duration": 3,
    "start_time": "2024-12-03T15:10:08.835Z"
   },
   {
    "duration": 4,
    "start_time": "2024-12-03T15:10:09.026Z"
   },
   {
    "duration": 419,
    "start_time": "2024-12-03T15:10:09.289Z"
   },
   {
    "duration": 8,
    "start_time": "2024-12-03T15:10:09.710Z"
   },
   {
    "duration": 8,
    "start_time": "2024-12-03T15:10:09.720Z"
   },
   {
    "duration": 7,
    "start_time": "2024-12-03T15:10:09.920Z"
   },
   {
    "duration": 8,
    "start_time": "2024-12-03T15:10:10.116Z"
   },
   {
    "duration": 2689,
    "start_time": "2024-12-03T15:10:10.884Z"
   },
   {
    "duration": 2,
    "start_time": "2024-12-03T15:10:13.576Z"
   },
   {
    "duration": 4,
    "start_time": "2024-12-03T15:10:13.581Z"
   },
   {
    "duration": 4,
    "start_time": "2024-12-03T15:10:13.587Z"
   },
   {
    "duration": 226,
    "start_time": "2024-12-03T15:10:13.593Z"
   },
   {
    "duration": 9,
    "start_time": "2024-12-03T15:10:13.855Z"
   },
   {
    "duration": 2,
    "start_time": "2024-12-03T15:10:14.289Z"
   },
   {
    "duration": 11,
    "start_time": "2024-12-03T15:10:24.757Z"
   },
   {
    "duration": 12,
    "start_time": "2024-12-03T15:10:26.679Z"
   },
   {
    "duration": 3,
    "start_time": "2024-12-03T15:10:41.558Z"
   },
   {
    "duration": 8,
    "start_time": "2024-12-03T15:10:42.007Z"
   },
   {
    "duration": 7,
    "start_time": "2024-12-03T15:10:44.656Z"
   },
   {
    "duration": 3,
    "start_time": "2024-12-03T15:10:45.134Z"
   },
   {
    "duration": 11,
    "start_time": "2024-12-03T15:10:45.472Z"
   },
   {
    "duration": 12,
    "start_time": "2024-12-03T15:10:45.881Z"
   },
   {
    "duration": 24,
    "start_time": "2024-12-03T15:10:46.103Z"
   },
   {
    "duration": 18,
    "start_time": "2024-12-03T15:10:46.285Z"
   },
   {
    "duration": 5,
    "start_time": "2024-12-03T15:10:48.781Z"
   },
   {
    "duration": 5,
    "start_time": "2024-12-03T15:13:36.798Z"
   },
   {
    "duration": 4,
    "start_time": "2024-12-03T15:14:59.085Z"
   },
   {
    "duration": 6,
    "start_time": "2024-12-03T15:15:54.869Z"
   },
   {
    "duration": 4,
    "start_time": "2024-12-03T15:24:40.234Z"
   },
   {
    "duration": 4,
    "start_time": "2024-12-03T15:25:38.616Z"
   },
   {
    "duration": 5,
    "start_time": "2024-12-03T15:25:39.246Z"
   },
   {
    "duration": 3,
    "start_time": "2024-12-03T15:26:17.348Z"
   },
   {
    "duration": 8,
    "start_time": "2024-12-03T15:26:17.872Z"
   },
   {
    "duration": 4,
    "start_time": "2024-12-03T15:26:18.439Z"
   },
   {
    "duration": 8,
    "start_time": "2024-12-03T15:26:18.612Z"
   },
   {
    "duration": 8,
    "start_time": "2024-12-03T15:26:18.751Z"
   },
   {
    "duration": 4,
    "start_time": "2024-12-03T15:26:19.336Z"
   },
   {
    "duration": 8,
    "start_time": "2024-12-03T15:26:19.843Z"
   },
   {
    "duration": 17,
    "start_time": "2024-12-03T15:26:20.138Z"
   },
   {
    "duration": 9,
    "start_time": "2024-12-03T15:26:20.467Z"
   },
   {
    "duration": 9,
    "start_time": "2024-12-03T15:26:20.736Z"
   },
   {
    "duration": 6,
    "start_time": "2024-12-03T15:26:21.415Z"
   },
   {
    "duration": 3,
    "start_time": "2024-12-03T15:26:21.584Z"
   },
   {
    "duration": 4,
    "start_time": "2024-12-03T15:26:22.279Z"
   },
   {
    "duration": 375,
    "start_time": "2024-12-03T15:26:22.501Z"
   },
   {
    "duration": 6,
    "start_time": "2024-12-03T15:26:23.431Z"
   },
   {
    "duration": 7,
    "start_time": "2024-12-03T15:26:23.604Z"
   },
   {
    "duration": 6,
    "start_time": "2024-12-03T15:26:23.773Z"
   },
   {
    "duration": 6,
    "start_time": "2024-12-03T15:26:23.951Z"
   },
   {
    "duration": 2579,
    "start_time": "2024-12-03T15:26:24.731Z"
   },
   {
    "duration": 4,
    "start_time": "2024-12-03T15:26:27.312Z"
   },
   {
    "duration": 3,
    "start_time": "2024-12-03T15:26:27.319Z"
   },
   {
    "duration": 3,
    "start_time": "2024-12-03T15:26:27.325Z"
   },
   {
    "duration": 9,
    "start_time": "2024-12-03T15:26:27.332Z"
   },
   {
    "duration": 9,
    "start_time": "2024-12-03T15:26:27.342Z"
   },
   {
    "duration": 3,
    "start_time": "2024-12-03T15:26:27.352Z"
   },
   {
    "duration": 11,
    "start_time": "2024-12-03T15:26:27.357Z"
   },
   {
    "duration": 11,
    "start_time": "2024-12-03T15:26:27.551Z"
   },
   {
    "duration": 19,
    "start_time": "2024-12-03T15:26:27.752Z"
   },
   {
    "duration": 18,
    "start_time": "2024-12-03T15:26:27.975Z"
   },
   {
    "duration": 5,
    "start_time": "2024-12-03T15:26:29.736Z"
   },
   {
    "duration": 5,
    "start_time": "2024-12-03T15:26:29.928Z"
   },
   {
    "duration": 6,
    "start_time": "2024-12-03T15:28:37.333Z"
   },
   {
    "duration": 14,
    "start_time": "2024-12-03T15:31:13.594Z"
   },
   {
    "duration": 3,
    "start_time": "2024-12-03T15:31:40.626Z"
   },
   {
    "duration": 7,
    "start_time": "2024-12-03T15:31:41.415Z"
   },
   {
    "duration": 3,
    "start_time": "2024-12-03T15:31:41.778Z"
   },
   {
    "duration": 7,
    "start_time": "2024-12-03T15:31:41.974Z"
   },
   {
    "duration": 10,
    "start_time": "2024-12-03T15:31:42.268Z"
   },
   {
    "duration": 3,
    "start_time": "2024-12-03T15:31:42.451Z"
   },
   {
    "duration": 10,
    "start_time": "2024-12-03T15:31:42.638Z"
   },
   {
    "duration": 17,
    "start_time": "2024-12-03T15:31:43.139Z"
   },
   {
    "duration": 10,
    "start_time": "2024-12-03T15:31:43.535Z"
   },
   {
    "duration": 8,
    "start_time": "2024-12-03T15:31:43.842Z"
   },
   {
    "duration": 6,
    "start_time": "2024-12-03T15:31:44.246Z"
   },
   {
    "duration": 3,
    "start_time": "2024-12-03T15:31:44.370Z"
   },
   {
    "duration": 5,
    "start_time": "2024-12-03T15:31:44.519Z"
   },
   {
    "duration": 374,
    "start_time": "2024-12-03T15:31:44.803Z"
   },
   {
    "duration": 8,
    "start_time": "2024-12-03T15:31:45.179Z"
   },
   {
    "duration": 7,
    "start_time": "2024-12-03T15:31:45.481Z"
   },
   {
    "duration": 7,
    "start_time": "2024-12-03T15:31:45.671Z"
   },
   {
    "duration": 8,
    "start_time": "2024-12-03T15:31:45.868Z"
   },
   {
    "duration": 2784,
    "start_time": "2024-12-03T15:31:46.851Z"
   },
   {
    "duration": 3,
    "start_time": "2024-12-03T15:31:49.638Z"
   },
   {
    "duration": 4,
    "start_time": "2024-12-03T15:31:49.643Z"
   },
   {
    "duration": 3,
    "start_time": "2024-12-03T15:31:49.649Z"
   },
   {
    "duration": 8,
    "start_time": "2024-12-03T15:31:49.654Z"
   },
   {
    "duration": 10,
    "start_time": "2024-12-03T15:31:49.705Z"
   },
   {
    "duration": 3,
    "start_time": "2024-12-03T15:31:49.963Z"
   },
   {
    "duration": 12,
    "start_time": "2024-12-03T15:31:50.251Z"
   },
   {
    "duration": 11,
    "start_time": "2024-12-03T15:31:50.502Z"
   },
   {
    "duration": 20,
    "start_time": "2024-12-03T15:31:51.083Z"
   },
   {
    "duration": 18,
    "start_time": "2024-12-03T15:31:51.270Z"
   },
   {
    "duration": 4,
    "start_time": "2024-12-03T15:31:52.850Z"
   },
   {
    "duration": 4,
    "start_time": "2024-12-03T15:31:53.070Z"
   },
   {
    "duration": 6,
    "start_time": "2024-12-03T15:31:54.243Z"
   },
   {
    "duration": 8,
    "start_time": "2024-12-03T15:31:54.851Z"
   },
   {
    "duration": 6,
    "start_time": "2024-12-03T15:37:13.971Z"
   },
   {
    "duration": 7,
    "start_time": "2024-12-03T15:37:14.201Z"
   },
   {
    "duration": 3,
    "start_time": "2024-12-03T15:37:14.543Z"
   },
   {
    "duration": 4,
    "start_time": "2024-12-03T15:37:23.650Z"
   },
   {
    "duration": 5,
    "start_time": "2024-12-03T15:37:24.532Z"
   },
   {
    "duration": 2537,
    "start_time": "2024-12-03T16:16:32.304Z"
   },
   {
    "duration": 2896,
    "start_time": "2024-12-03T16:16:34.844Z"
   },
   {
    "duration": 66,
    "start_time": "2024-12-03T16:16:37.741Z"
   },
   {
    "duration": 13,
    "start_time": "2024-12-03T16:16:37.808Z"
   },
   {
    "duration": 11,
    "start_time": "2024-12-03T16:16:37.827Z"
   },
   {
    "duration": 9,
    "start_time": "2024-12-03T16:16:37.839Z"
   },
   {
    "duration": 4,
    "start_time": "2024-12-03T16:16:37.849Z"
   },
   {
    "duration": 8,
    "start_time": "2024-12-03T16:16:37.855Z"
   },
   {
    "duration": 16,
    "start_time": "2024-12-03T16:16:37.865Z"
   },
   {
    "duration": 42,
    "start_time": "2024-12-03T16:16:37.882Z"
   },
   {
    "duration": 9,
    "start_time": "2024-12-03T16:16:37.937Z"
   },
   {
    "duration": 5,
    "start_time": "2024-12-03T16:16:37.947Z"
   },
   {
    "duration": 3,
    "start_time": "2024-12-03T16:16:37.954Z"
   },
   {
    "duration": 5,
    "start_time": "2024-12-03T16:16:37.959Z"
   },
   {
    "duration": 380,
    "start_time": "2024-12-03T16:16:37.966Z"
   },
   {
    "duration": 7,
    "start_time": "2024-12-03T16:16:38.348Z"
   },
   {
    "duration": 6,
    "start_time": "2024-12-03T16:16:38.358Z"
   },
   {
    "duration": 7,
    "start_time": "2024-12-03T16:16:38.366Z"
   },
   {
    "duration": 6,
    "start_time": "2024-12-03T16:16:38.375Z"
   },
   {
    "duration": 2657,
    "start_time": "2024-12-03T16:16:38.592Z"
   },
   {
    "duration": 3,
    "start_time": "2024-12-03T16:16:41.251Z"
   },
   {
    "duration": 3,
    "start_time": "2024-12-03T16:16:41.256Z"
   },
   {
    "duration": 3,
    "start_time": "2024-12-03T16:16:41.261Z"
   },
   {
    "duration": 266,
    "start_time": "2024-12-03T16:16:41.266Z"
   },
   {
    "duration": 14,
    "start_time": "2024-12-03T16:16:41.910Z"
   },
   {
    "duration": 5,
    "start_time": "2024-12-03T16:16:42.246Z"
   },
   {
    "duration": 4,
    "start_time": "2024-12-03T16:16:45.529Z"
   },
   {
    "duration": 8,
    "start_time": "2024-12-03T16:16:45.944Z"
   },
   {
    "duration": 8,
    "start_time": "2024-12-03T16:16:47.657Z"
   },
   {
    "duration": 2,
    "start_time": "2024-12-03T16:16:47.873Z"
   },
   {
    "duration": 27,
    "start_time": "2024-12-03T16:16:48.097Z"
   },
   {
    "duration": 12,
    "start_time": "2024-12-03T16:16:48.333Z"
   },
   {
    "duration": 19,
    "start_time": "2024-12-03T16:16:48.843Z"
   },
   {
    "duration": 19,
    "start_time": "2024-12-03T16:16:49.060Z"
   },
   {
    "duration": 4,
    "start_time": "2024-12-03T16:16:50.880Z"
   },
   {
    "duration": 5,
    "start_time": "2024-12-03T16:16:51.329Z"
   },
   {
    "duration": 7,
    "start_time": "2024-12-03T16:16:52.186Z"
   },
   {
    "duration": 8,
    "start_time": "2024-12-03T16:16:52.474Z"
   },
   {
    "duration": 3,
    "start_time": "2024-12-03T16:16:52.868Z"
   },
   {
    "duration": 3,
    "start_time": "2024-12-03T16:16:53.537Z"
   },
   {
    "duration": 6,
    "start_time": "2024-12-03T16:16:54.800Z"
   },
   {
    "duration": 4,
    "start_time": "2024-12-03T16:18:30.056Z"
   },
   {
    "duration": 3,
    "start_time": "2024-12-03T16:19:04.640Z"
   },
   {
    "duration": 267,
    "start_time": "2024-12-03T16:21:39.550Z"
   },
   {
    "duration": 4,
    "start_time": "2024-12-03T16:22:57.521Z"
   },
   {
    "duration": 7,
    "start_time": "2024-12-03T16:22:58.288Z"
   },
   {
    "duration": 3,
    "start_time": "2024-12-03T16:22:58.664Z"
   },
   {
    "duration": 8,
    "start_time": "2024-12-03T16:22:58.824Z"
   },
   {
    "duration": 9,
    "start_time": "2024-12-03T16:22:58.989Z"
   },
   {
    "duration": 3,
    "start_time": "2024-12-03T16:22:59.171Z"
   },
   {
    "duration": 10,
    "start_time": "2024-12-03T16:22:59.340Z"
   },
   {
    "duration": 16,
    "start_time": "2024-12-03T16:22:59.523Z"
   },
   {
    "duration": 10,
    "start_time": "2024-12-03T16:22:59.900Z"
   },
   {
    "duration": 8,
    "start_time": "2024-12-03T16:23:00.060Z"
   },
   {
    "duration": 8,
    "start_time": "2024-12-03T16:23:00.356Z"
   },
   {
    "duration": 2,
    "start_time": "2024-12-03T16:23:00.560Z"
   },
   {
    "duration": 4,
    "start_time": "2024-12-03T16:23:00.918Z"
   },
   {
    "duration": 353,
    "start_time": "2024-12-03T16:23:01.074Z"
   },
   {
    "duration": 7,
    "start_time": "2024-12-03T16:23:01.431Z"
   },
   {
    "duration": 6,
    "start_time": "2024-12-03T16:23:01.463Z"
   },
   {
    "duration": 7,
    "start_time": "2024-12-03T16:23:01.646Z"
   },
   {
    "duration": 7,
    "start_time": "2024-12-03T16:23:01.843Z"
   },
   {
    "duration": 2604,
    "start_time": "2024-12-03T16:23:02.776Z"
   },
   {
    "duration": 5,
    "start_time": "2024-12-03T16:23:05.383Z"
   },
   {
    "duration": 4,
    "start_time": "2024-12-03T16:23:05.390Z"
   },
   {
    "duration": 12,
    "start_time": "2024-12-03T16:23:05.398Z"
   },
   {
    "duration": 8,
    "start_time": "2024-12-03T16:23:05.413Z"
   },
   {
    "duration": 9,
    "start_time": "2024-12-03T16:23:06.547Z"
   },
   {
    "duration": 3,
    "start_time": "2024-12-03T16:23:06.710Z"
   },
   {
    "duration": 11,
    "start_time": "2024-12-03T16:23:06.856Z"
   },
   {
    "duration": 12,
    "start_time": "2024-12-03T16:23:07.059Z"
   },
   {
    "duration": 24,
    "start_time": "2024-12-03T16:23:07.261Z"
   },
   {
    "duration": 19,
    "start_time": "2024-12-03T16:23:07.462Z"
   },
   {
    "duration": 4,
    "start_time": "2024-12-03T16:23:09.102Z"
   },
   {
    "duration": 5,
    "start_time": "2024-12-03T16:23:09.326Z"
   },
   {
    "duration": 6,
    "start_time": "2024-12-03T16:23:09.773Z"
   },
   {
    "duration": 6,
    "start_time": "2024-12-03T16:23:09.985Z"
   },
   {
    "duration": 3,
    "start_time": "2024-12-03T16:23:10.248Z"
   },
   {
    "duration": 3,
    "start_time": "2024-12-03T16:23:10.500Z"
   },
   {
    "duration": 68,
    "start_time": "2024-12-03T16:23:10.694Z"
   },
   {
    "duration": 68,
    "start_time": "2024-12-03T16:27:40.357Z"
   },
   {
    "duration": 5,
    "start_time": "2024-12-03T16:28:19.579Z"
   },
   {
    "duration": 4,
    "start_time": "2024-12-03T16:28:24.155Z"
   },
   {
    "duration": 6,
    "start_time": "2024-12-03T16:28:25.135Z"
   },
   {
    "duration": 7,
    "start_time": "2024-12-03T16:28:25.384Z"
   },
   {
    "duration": 4,
    "start_time": "2024-12-03T16:28:25.662Z"
   },
   {
    "duration": 4,
    "start_time": "2024-12-03T16:28:25.967Z"
   },
   {
    "duration": 69,
    "start_time": "2024-12-03T16:28:26.263Z"
   },
   {
    "duration": 25,
    "start_time": "2024-12-03T16:29:24.857Z"
   },
   {
    "duration": 4,
    "start_time": "2024-12-03T16:30:29.687Z"
   },
   {
    "duration": 3,
    "start_time": "2024-12-03T16:30:36.453Z"
   },
   {
    "duration": 3,
    "start_time": "2024-12-03T16:30:52.914Z"
   },
   {
    "duration": 16,
    "start_time": "2024-12-03T16:31:08.364Z"
   },
   {
    "duration": 7,
    "start_time": "2024-12-03T16:31:08.839Z"
   },
   {
    "duration": 3,
    "start_time": "2024-12-03T16:31:17.073Z"
   },
   {
    "duration": 7,
    "start_time": "2024-12-03T16:31:17.540Z"
   },
   {
    "duration": 4,
    "start_time": "2024-12-03T16:31:18.017Z"
   },
   {
    "duration": 8,
    "start_time": "2024-12-03T16:31:18.327Z"
   },
   {
    "duration": 8,
    "start_time": "2024-12-03T16:31:18.476Z"
   },
   {
    "duration": 4,
    "start_time": "2024-12-03T16:31:18.640Z"
   },
   {
    "duration": 9,
    "start_time": "2024-12-03T16:31:18.758Z"
   },
   {
    "duration": 17,
    "start_time": "2024-12-03T16:31:18.923Z"
   },
   {
    "duration": 9,
    "start_time": "2024-12-03T16:31:19.501Z"
   },
   {
    "duration": 8,
    "start_time": "2024-12-03T16:31:19.672Z"
   },
   {
    "duration": 5,
    "start_time": "2024-12-03T16:31:20.007Z"
   },
   {
    "duration": 3,
    "start_time": "2024-12-03T16:31:20.162Z"
   },
   {
    "duration": 5,
    "start_time": "2024-12-03T16:31:20.322Z"
   },
   {
    "duration": 347,
    "start_time": "2024-12-03T16:31:20.768Z"
   },
   {
    "duration": 7,
    "start_time": "2024-12-03T16:31:21.117Z"
   },
   {
    "duration": 7,
    "start_time": "2024-12-03T16:31:21.125Z"
   },
   {
    "duration": 7,
    "start_time": "2024-12-03T16:31:21.275Z"
   },
   {
    "duration": 7,
    "start_time": "2024-12-03T16:31:21.472Z"
   },
   {
    "duration": 2593,
    "start_time": "2024-12-03T16:31:22.211Z"
   },
   {
    "duration": 2,
    "start_time": "2024-12-03T16:31:24.809Z"
   },
   {
    "duration": 4,
    "start_time": "2024-12-03T16:31:24.813Z"
   },
   {
    "duration": 4,
    "start_time": "2024-12-03T16:31:26.069Z"
   },
   {
    "duration": 8,
    "start_time": "2024-12-03T16:31:26.593Z"
   },
   {
    "duration": 9,
    "start_time": "2024-12-03T16:31:27.107Z"
   },
   {
    "duration": 4,
    "start_time": "2024-12-03T16:31:27.274Z"
   },
   {
    "duration": 13,
    "start_time": "2024-12-03T16:31:27.463Z"
   },
   {
    "duration": 11,
    "start_time": "2024-12-03T16:31:27.819Z"
   },
   {
    "duration": 19,
    "start_time": "2024-12-03T16:31:28.455Z"
   },
   {
    "duration": 18,
    "start_time": "2024-12-03T16:31:28.697Z"
   },
   {
    "duration": 3,
    "start_time": "2024-12-03T16:31:30.381Z"
   },
   {
    "duration": 4,
    "start_time": "2024-12-03T16:31:30.575Z"
   },
   {
    "duration": 6,
    "start_time": "2024-12-03T16:31:32.253Z"
   },
   {
    "duration": 7,
    "start_time": "2024-12-03T16:31:33.388Z"
   },
   {
    "duration": 3,
    "start_time": "2024-12-03T16:31:34.184Z"
   },
   {
    "duration": 3,
    "start_time": "2024-12-03T16:31:34.768Z"
   },
   {
    "duration": 25,
    "start_time": "2024-12-03T16:33:28.746Z"
   },
   {
    "duration": 6,
    "start_time": "2024-12-03T16:34:03.985Z"
   },
   {
    "duration": 3,
    "start_time": "2024-12-03T16:34:04.752Z"
   },
   {
    "duration": 3,
    "start_time": "2024-12-03T16:34:04.960Z"
   },
   {
    "duration": 23,
    "start_time": "2024-12-03T16:34:05.193Z"
   },
   {
    "duration": 5,
    "start_time": "2024-12-03T16:34:11.413Z"
   },
   {
    "duration": 8,
    "start_time": "2024-12-03T16:34:11.594Z"
   },
   {
    "duration": 3,
    "start_time": "2024-12-03T16:34:11.778Z"
   },
   {
    "duration": 3,
    "start_time": "2024-12-03T16:34:11.961Z"
   },
   {
    "duration": 25,
    "start_time": "2024-12-03T16:34:12.395Z"
   },
   {
    "duration": 4,
    "start_time": "2024-12-03T16:34:39.200Z"
   },
   {
    "duration": 2,
    "start_time": "2024-12-03T16:34:40.119Z"
   },
   {
    "duration": 13,
    "start_time": "2024-12-03T16:34:40.394Z"
   },
   {
    "duration": 4,
    "start_time": "2024-12-03T16:38:58.487Z"
   },
   {
    "duration": 5,
    "start_time": "2024-12-03T16:38:58.708Z"
   },
   {
    "duration": 6,
    "start_time": "2024-12-03T16:38:59.185Z"
   },
   {
    "duration": 4,
    "start_time": "2024-12-03T16:38:59.791Z"
   },
   {
    "duration": 3,
    "start_time": "2024-12-03T16:39:00.278Z"
   },
   {
    "duration": 16,
    "start_time": "2024-12-03T16:39:00.953Z"
   },
   {
    "duration": 3,
    "start_time": "2024-12-03T16:39:20.180Z"
   },
   {
    "duration": 3,
    "start_time": "2024-12-03T16:39:20.427Z"
   },
   {
    "duration": 14,
    "start_time": "2024-12-03T16:39:20.642Z"
   },
   {
    "duration": 2339,
    "start_time": "2024-12-03T17:51:54.175Z"
   },
   {
    "duration": 2677,
    "start_time": "2024-12-03T17:51:56.517Z"
   },
   {
    "duration": 13,
    "start_time": "2024-12-03T17:51:59.195Z"
   },
   {
    "duration": 3,
    "start_time": "2024-12-03T17:51:59.210Z"
   },
   {
    "duration": 10,
    "start_time": "2024-12-03T17:51:59.216Z"
   },
   {
    "duration": 9,
    "start_time": "2024-12-03T17:51:59.228Z"
   },
   {
    "duration": 3,
    "start_time": "2024-12-03T17:51:59.238Z"
   },
   {
    "duration": 8,
    "start_time": "2024-12-03T17:51:59.242Z"
   },
   {
    "duration": 17,
    "start_time": "2024-12-03T17:51:59.252Z"
   },
   {
    "duration": 48,
    "start_time": "2024-12-03T17:51:59.271Z"
   },
   {
    "duration": 8,
    "start_time": "2024-12-03T17:51:59.323Z"
   },
   {
    "duration": 6,
    "start_time": "2024-12-03T17:51:59.333Z"
   },
   {
    "duration": 4,
    "start_time": "2024-12-03T17:51:59.341Z"
   },
   {
    "duration": 6,
    "start_time": "2024-12-03T17:51:59.346Z"
   },
   {
    "duration": 454,
    "start_time": "2024-12-03T17:51:59.354Z"
   },
   {
    "duration": 7,
    "start_time": "2024-12-03T17:51:59.811Z"
   },
   {
    "duration": 5,
    "start_time": "2024-12-03T17:51:59.820Z"
   },
   {
    "duration": 6,
    "start_time": "2024-12-03T17:51:59.827Z"
   },
   {
    "duration": 6,
    "start_time": "2024-12-03T17:51:59.834Z"
   },
   {
    "duration": 2652,
    "start_time": "2024-12-03T17:51:59.844Z"
   },
   {
    "duration": 3,
    "start_time": "2024-12-03T17:52:02.498Z"
   },
   {
    "duration": 4,
    "start_time": "2024-12-03T17:52:02.503Z"
   },
   {
    "duration": 4,
    "start_time": "2024-12-03T17:52:02.509Z"
   },
   {
    "duration": 231,
    "start_time": "2024-12-03T17:52:02.515Z"
   },
   {
    "duration": 0,
    "start_time": "2024-12-03T17:52:02.748Z"
   },
   {
    "duration": 0,
    "start_time": "2024-12-03T17:52:02.749Z"
   },
   {
    "duration": 0,
    "start_time": "2024-12-03T17:52:02.750Z"
   },
   {
    "duration": 0,
    "start_time": "2024-12-03T17:52:02.751Z"
   },
   {
    "duration": 0,
    "start_time": "2024-12-03T17:52:02.752Z"
   },
   {
    "duration": 13,
    "start_time": "2024-12-03T17:52:04.337Z"
   },
   {
    "duration": 3,
    "start_time": "2024-12-03T17:52:09.529Z"
   },
   {
    "duration": 15,
    "start_time": "2024-12-03T17:52:09.839Z"
   },
   {
    "duration": 6,
    "start_time": "2024-12-03T17:52:12.997Z"
   },
   {
    "duration": 3,
    "start_time": "2024-12-03T17:52:13.461Z"
   },
   {
    "duration": 13,
    "start_time": "2024-12-03T17:52:13.865Z"
   },
   {
    "duration": 9,
    "start_time": "2024-12-03T17:52:15.220Z"
   },
   {
    "duration": 3,
    "start_time": "2024-12-03T17:52:15.426Z"
   },
   {
    "duration": 12,
    "start_time": "2024-12-03T17:52:15.591Z"
   },
   {
    "duration": 11,
    "start_time": "2024-12-03T17:52:15.887Z"
   },
   {
    "duration": 21,
    "start_time": "2024-12-03T17:52:15.900Z"
   },
   {
    "duration": 23,
    "start_time": "2024-12-03T17:52:16.055Z"
   },
   {
    "duration": 4,
    "start_time": "2024-12-03T17:52:18.959Z"
   },
   {
    "duration": 5,
    "start_time": "2024-12-03T17:52:19.134Z"
   },
   {
    "duration": 6,
    "start_time": "2024-12-03T17:52:20.106Z"
   },
   {
    "duration": 3,
    "start_time": "2024-12-03T17:52:20.472Z"
   },
   {
    "duration": 3,
    "start_time": "2024-12-03T17:52:21.028Z"
   },
   {
    "duration": 13,
    "start_time": "2024-12-03T17:52:21.580Z"
   },
   {
    "duration": 3,
    "start_time": "2024-12-03T18:14:11.481Z"
   },
   {
    "duration": 3,
    "start_time": "2024-12-03T18:15:00.587Z"
   },
   {
    "duration": 2,
    "start_time": "2024-12-03T18:15:04.428Z"
   },
   {
    "duration": 3,
    "start_time": "2024-12-03T18:15:53.863Z"
   },
   {
    "duration": 3,
    "start_time": "2024-12-03T18:16:09.016Z"
   },
   {
    "duration": 97,
    "start_time": "2024-12-03T18:16:53.719Z"
   },
   {
    "duration": 3,
    "start_time": "2024-12-03T18:16:58.096Z"
   },
   {
    "duration": 30,
    "start_time": "2024-12-03T18:16:58.389Z"
   },
   {
    "duration": 4,
    "start_time": "2024-12-03T18:25:23.242Z"
   },
   {
    "duration": 8,
    "start_time": "2024-12-03T18:25:24.687Z"
   },
   {
    "duration": 3,
    "start_time": "2024-12-03T18:25:25.780Z"
   },
   {
    "duration": 7,
    "start_time": "2024-12-03T18:25:26.396Z"
   },
   {
    "duration": 8,
    "start_time": "2024-12-03T18:25:27.088Z"
   },
   {
    "duration": 3,
    "start_time": "2024-12-03T18:25:27.481Z"
   },
   {
    "duration": 9,
    "start_time": "2024-12-03T18:25:28.926Z"
   },
   {
    "duration": 16,
    "start_time": "2024-12-03T18:25:29.505Z"
   },
   {
    "duration": 9,
    "start_time": "2024-12-03T18:25:30.584Z"
   },
   {
    "duration": 8,
    "start_time": "2024-12-03T18:25:31.062Z"
   },
   {
    "duration": 5,
    "start_time": "2024-12-03T18:25:32.313Z"
   },
   {
    "duration": 3,
    "start_time": "2024-12-03T18:25:33.144Z"
   },
   {
    "duration": 7,
    "start_time": "2024-12-03T18:25:34.828Z"
   },
   {
    "duration": 518,
    "start_time": "2024-12-03T18:26:24.573Z"
   },
   {
    "duration": 7,
    "start_time": "2024-12-03T18:26:25.145Z"
   },
   {
    "duration": 6,
    "start_time": "2024-12-03T18:26:26.383Z"
   },
   {
    "duration": 7,
    "start_time": "2024-12-03T18:26:27.206Z"
   },
   {
    "duration": 7,
    "start_time": "2024-12-03T18:26:27.878Z"
   },
   {
    "duration": 2557,
    "start_time": "2024-12-03T18:26:30.845Z"
   },
   {
    "duration": 2,
    "start_time": "2024-12-03T18:26:37.377Z"
   },
   {
    "duration": 3,
    "start_time": "2024-12-03T18:26:37.898Z"
   },
   {
    "duration": 3,
    "start_time": "2024-12-03T18:26:42.095Z"
   },
   {
    "duration": 8,
    "start_time": "2024-12-03T18:26:42.940Z"
   },
   {
    "duration": 7,
    "start_time": "2024-12-03T18:26:44.328Z"
   },
   {
    "duration": 2,
    "start_time": "2024-12-03T18:26:44.806Z"
   },
   {
    "duration": 11,
    "start_time": "2024-12-03T18:26:45.346Z"
   },
   {
    "duration": 11,
    "start_time": "2024-12-03T18:26:45.747Z"
   },
   {
    "duration": 17,
    "start_time": "2024-12-03T18:26:46.205Z"
   },
   {
    "duration": 18,
    "start_time": "2024-12-03T18:26:46.520Z"
   },
   {
    "duration": 4,
    "start_time": "2024-12-03T18:26:50.106Z"
   },
   {
    "duration": 5,
    "start_time": "2024-12-03T18:26:50.407Z"
   },
   {
    "duration": 6,
    "start_time": "2024-12-03T18:26:51.079Z"
   },
   {
    "duration": 3,
    "start_time": "2024-12-03T18:26:51.329Z"
   },
   {
    "duration": 3,
    "start_time": "2024-12-03T18:26:51.554Z"
   },
   {
    "duration": 12,
    "start_time": "2024-12-03T18:26:51.987Z"
   },
   {
    "duration": 3,
    "start_time": "2024-12-03T18:26:55.603Z"
   },
   {
    "duration": 3,
    "start_time": "2024-12-03T18:26:55.922Z"
   },
   {
    "duration": 11,
    "start_time": "2024-12-03T18:26:56.265Z"
   },
   {
    "duration": 3,
    "start_time": "2024-12-03T18:31:20.205Z"
   },
   {
    "duration": 6,
    "start_time": "2024-12-03T18:31:20.766Z"
   },
   {
    "duration": 4,
    "start_time": "2024-12-03T18:31:21.236Z"
   },
   {
    "duration": 8,
    "start_time": "2024-12-03T18:31:21.404Z"
   },
   {
    "duration": 8,
    "start_time": "2024-12-03T18:31:21.607Z"
   },
   {
    "duration": 3,
    "start_time": "2024-12-03T18:31:21.754Z"
   },
   {
    "duration": 8,
    "start_time": "2024-12-03T18:31:22.057Z"
   },
   {
    "duration": 17,
    "start_time": "2024-12-03T18:31:22.308Z"
   },
   {
    "duration": 10,
    "start_time": "2024-12-03T18:31:22.701Z"
   },
   {
    "duration": 8,
    "start_time": "2024-12-03T18:31:22.835Z"
   },
   {
    "duration": 6,
    "start_time": "2024-12-03T18:31:23.217Z"
   },
   {
    "duration": 2,
    "start_time": "2024-12-03T18:31:23.404Z"
   },
   {
    "duration": 5,
    "start_time": "2024-12-03T18:31:23.607Z"
   },
   {
    "duration": 343,
    "start_time": "2024-12-03T18:31:23.754Z"
   },
   {
    "duration": 15,
    "start_time": "2024-12-03T18:31:24.098Z"
   },
   {
    "duration": 6,
    "start_time": "2024-12-03T18:31:24.220Z"
   },
   {
    "duration": 7,
    "start_time": "2024-12-03T18:31:24.418Z"
   },
   {
    "duration": 6,
    "start_time": "2024-12-03T18:31:24.600Z"
   },
   {
    "duration": 2674,
    "start_time": "2024-12-03T18:31:25.374Z"
   },
   {
    "duration": 2,
    "start_time": "2024-12-03T18:31:28.051Z"
   },
   {
    "duration": 4,
    "start_time": "2024-12-03T18:31:28.054Z"
   },
   {
    "duration": 3,
    "start_time": "2024-12-03T18:31:28.061Z"
   },
   {
    "duration": 7,
    "start_time": "2024-12-03T18:31:28.066Z"
   },
   {
    "duration": 8,
    "start_time": "2024-12-03T18:31:28.074Z"
   },
   {
    "duration": 2,
    "start_time": "2024-12-03T18:31:28.083Z"
   },
   {
    "duration": 11,
    "start_time": "2024-12-03T18:31:28.483Z"
   },
   {
    "duration": 12,
    "start_time": "2024-12-03T18:31:28.805Z"
   },
   {
    "duration": 18,
    "start_time": "2024-12-03T18:31:29.178Z"
   },
   {
    "duration": 18,
    "start_time": "2024-12-03T18:31:29.503Z"
   },
   {
    "duration": 3,
    "start_time": "2024-12-03T18:31:32.021Z"
   },
   {
    "duration": 4,
    "start_time": "2024-12-03T18:31:32.369Z"
   },
   {
    "duration": 6,
    "start_time": "2024-12-03T18:31:33.078Z"
   },
   {
    "duration": 3,
    "start_time": "2024-12-03T18:31:33.353Z"
   },
   {
    "duration": 3,
    "start_time": "2024-12-03T18:31:33.925Z"
   },
   {
    "duration": 12,
    "start_time": "2024-12-03T18:31:34.261Z"
   },
   {
    "duration": 3,
    "start_time": "2024-12-03T18:31:36.241Z"
   },
   {
    "duration": 3,
    "start_time": "2024-12-03T18:31:36.471Z"
   },
   {
    "duration": 8,
    "start_time": "2024-12-03T18:31:36.750Z"
   },
   {
    "duration": 2117,
    "start_time": "2024-12-03T18:40:19.808Z"
   },
   {
    "duration": 6,
    "start_time": "2024-12-03T18:40:21.928Z"
   },
   {
    "duration": 8,
    "start_time": "2024-12-03T18:40:21.937Z"
   },
   {
    "duration": 4,
    "start_time": "2024-12-03T18:40:21.947Z"
   },
   {
    "duration": 8,
    "start_time": "2024-12-03T18:40:21.953Z"
   },
   {
    "duration": 10,
    "start_time": "2024-12-03T18:40:21.963Z"
   },
   {
    "duration": 3,
    "start_time": "2024-12-03T18:40:22.113Z"
   },
   {
    "duration": 9,
    "start_time": "2024-12-03T18:40:22.301Z"
   },
   {
    "duration": 16,
    "start_time": "2024-12-03T18:40:22.539Z"
   },
   {
    "duration": 9,
    "start_time": "2024-12-03T18:40:22.892Z"
   },
   {
    "duration": 9,
    "start_time": "2024-12-03T18:40:23.039Z"
   },
   {
    "duration": 6,
    "start_time": "2024-12-03T18:40:23.401Z"
   },
   {
    "duration": 2,
    "start_time": "2024-12-03T18:40:23.584Z"
   },
   {
    "duration": 4,
    "start_time": "2024-12-03T18:40:23.758Z"
   },
   {
    "duration": 370,
    "start_time": "2024-12-03T18:40:23.937Z"
   },
   {
    "duration": 7,
    "start_time": "2024-12-03T18:40:24.308Z"
   },
   {
    "duration": 6,
    "start_time": "2024-12-03T18:40:24.316Z"
   },
   {
    "duration": 8,
    "start_time": "2024-12-03T18:40:24.488Z"
   },
   {
    "duration": 6,
    "start_time": "2024-12-03T18:40:24.669Z"
   },
   {
    "duration": 2687,
    "start_time": "2024-12-03T18:40:25.427Z"
   },
   {
    "duration": 3,
    "start_time": "2024-12-03T18:40:28.116Z"
   },
   {
    "duration": 4,
    "start_time": "2024-12-03T18:40:28.120Z"
   },
   {
    "duration": 3,
    "start_time": "2024-12-03T18:40:28.127Z"
   },
   {
    "duration": 8,
    "start_time": "2024-12-03T18:40:28.132Z"
   },
   {
    "duration": 8,
    "start_time": "2024-12-03T18:40:28.141Z"
   },
   {
    "duration": 2,
    "start_time": "2024-12-03T18:40:28.150Z"
   },
   {
    "duration": 10,
    "start_time": "2024-12-03T18:40:28.154Z"
   },
   {
    "duration": 51,
    "start_time": "2024-12-03T18:40:28.166Z"
   },
   {
    "duration": 19,
    "start_time": "2024-12-03T18:40:28.305Z"
   },
   {
    "duration": 18,
    "start_time": "2024-12-03T18:40:28.468Z"
   },
   {
    "duration": 4,
    "start_time": "2024-12-03T18:40:29.900Z"
   },
   {
    "duration": 4,
    "start_time": "2024-12-03T18:40:30.067Z"
   },
   {
    "duration": 7,
    "start_time": "2024-12-03T18:40:30.410Z"
   },
   {
    "duration": 3,
    "start_time": "2024-12-03T18:40:30.572Z"
   },
   {
    "duration": 3,
    "start_time": "2024-12-03T18:40:30.736Z"
   },
   {
    "duration": 13,
    "start_time": "2024-12-03T18:40:30.938Z"
   },
   {
    "duration": 4,
    "start_time": "2024-12-03T18:40:32.654Z"
   },
   {
    "duration": 3,
    "start_time": "2024-12-03T18:40:32.857Z"
   },
   {
    "duration": 9,
    "start_time": "2024-12-03T18:40:33.055Z"
   },
   {
    "duration": 3,
    "start_time": "2024-12-03T18:40:33.801Z"
   },
   {
    "duration": 2,
    "start_time": "2024-12-03T18:40:33.970Z"
   },
   {
    "duration": 3,
    "start_time": "2024-12-03T18:40:34.449Z"
   },
   {
    "duration": 3,
    "start_time": "2024-12-04T17:31:35.050Z"
   },
   {
    "duration": 7,
    "start_time": "2024-12-04T17:31:35.675Z"
   },
   {
    "duration": 3,
    "start_time": "2024-12-04T17:31:36.122Z"
   },
   {
    "duration": 9,
    "start_time": "2024-12-04T17:31:36.422Z"
   },
   {
    "duration": 10,
    "start_time": "2024-12-04T17:31:36.719Z"
   },
   {
    "duration": 3,
    "start_time": "2024-12-04T17:31:36.906Z"
   },
   {
    "duration": 8,
    "start_time": "2024-12-04T17:31:37.247Z"
   },
   {
    "duration": 21,
    "start_time": "2024-12-04T17:31:37.556Z"
   },
   {
    "duration": 9,
    "start_time": "2024-12-04T17:31:37.901Z"
   },
   {
    "duration": 9,
    "start_time": "2024-12-04T17:31:38.171Z"
   },
   {
    "duration": 6,
    "start_time": "2024-12-04T17:31:38.602Z"
   },
   {
    "duration": 2,
    "start_time": "2024-12-04T17:31:38.802Z"
   },
   {
    "duration": 4,
    "start_time": "2024-12-04T17:31:39.003Z"
   },
   {
    "duration": 368,
    "start_time": "2024-12-04T17:31:39.187Z"
   },
   {
    "duration": 7,
    "start_time": "2024-12-04T17:31:39.558Z"
   },
   {
    "duration": 5,
    "start_time": "2024-12-04T17:31:39.567Z"
   },
   {
    "duration": 7,
    "start_time": "2024-12-04T17:31:39.734Z"
   },
   {
    "duration": 7,
    "start_time": "2024-12-04T17:31:39.933Z"
   },
   {
    "duration": 2736,
    "start_time": "2024-12-04T17:31:40.728Z"
   },
   {
    "duration": 4,
    "start_time": "2024-12-04T17:31:43.466Z"
   },
   {
    "duration": 4,
    "start_time": "2024-12-04T17:31:43.471Z"
   },
   {
    "duration": 4,
    "start_time": "2024-12-04T17:31:43.477Z"
   },
   {
    "duration": 8,
    "start_time": "2024-12-04T17:31:43.482Z"
   },
   {
    "duration": 7,
    "start_time": "2024-12-04T17:31:43.492Z"
   },
   {
    "duration": 2,
    "start_time": "2024-12-04T17:31:43.500Z"
   },
   {
    "duration": 12,
    "start_time": "2024-12-04T17:31:43.666Z"
   },
   {
    "duration": 11,
    "start_time": "2024-12-04T17:31:43.856Z"
   },
   {
    "duration": 18,
    "start_time": "2024-12-04T17:31:44.152Z"
   },
   {
    "duration": 19,
    "start_time": "2024-12-04T17:31:44.404Z"
   },
   {
    "duration": 3,
    "start_time": "2024-12-04T17:31:45.989Z"
   },
   {
    "duration": 4,
    "start_time": "2024-12-04T17:31:46.237Z"
   },
   {
    "duration": 7,
    "start_time": "2024-12-04T17:31:46.686Z"
   },
   {
    "duration": 4,
    "start_time": "2024-12-04T17:31:46.921Z"
   },
   {
    "duration": 3,
    "start_time": "2024-12-04T17:31:47.120Z"
   },
   {
    "duration": 12,
    "start_time": "2024-12-04T17:31:47.307Z"
   },
   {
    "duration": 4,
    "start_time": "2024-12-04T17:31:48.887Z"
   },
   {
    "duration": 3,
    "start_time": "2024-12-04T17:31:49.155Z"
   },
   {
    "duration": 8,
    "start_time": "2024-12-04T17:31:49.419Z"
   },
   {
    "duration": 3,
    "start_time": "2024-12-04T17:31:50.765Z"
   },
   {
    "duration": 3,
    "start_time": "2024-12-04T17:31:50.770Z"
   },
   {
    "duration": 3,
    "start_time": "2024-12-04T17:31:51.441Z"
   },
   {
    "duration": 3,
    "start_time": "2024-12-04T17:51:15.050Z"
   },
   {
    "duration": 2,
    "start_time": "2024-12-04T17:51:15.665Z"
   },
   {
    "duration": 3,
    "start_time": "2024-12-04T17:51:57.910Z"
   },
   {
    "duration": 2354,
    "start_time": "2024-12-04T20:28:21.130Z"
   },
   {
    "duration": 2682,
    "start_time": "2024-12-04T20:28:23.487Z"
   },
   {
    "duration": 13,
    "start_time": "2024-12-04T20:28:26.170Z"
   },
   {
    "duration": 5,
    "start_time": "2024-12-04T20:28:28.993Z"
   },
   {
    "duration": 12,
    "start_time": "2024-12-04T20:28:29.220Z"
   },
   {
    "duration": 9,
    "start_time": "2024-12-04T20:28:29.535Z"
   },
   {
    "duration": 4,
    "start_time": "2024-12-04T20:28:29.995Z"
   },
   {
    "duration": 9,
    "start_time": "2024-12-04T20:28:30.343Z"
   },
   {
    "duration": 17,
    "start_time": "2024-12-04T20:28:30.603Z"
   },
   {
    "duration": 11,
    "start_time": "2024-12-04T20:28:31.209Z"
   },
   {
    "duration": 8,
    "start_time": "2024-12-04T20:28:31.573Z"
   },
   {
    "duration": 6,
    "start_time": "2024-12-04T20:28:32.128Z"
   },
   {
    "duration": 3,
    "start_time": "2024-12-04T20:28:32.454Z"
   },
   {
    "duration": 6,
    "start_time": "2024-12-04T20:28:32.758Z"
   },
   {
    "duration": 395,
    "start_time": "2024-12-04T20:28:33.072Z"
   },
   {
    "duration": 8,
    "start_time": "2024-12-04T20:28:33.469Z"
   },
   {
    "duration": 6,
    "start_time": "2024-12-04T20:28:33.591Z"
   },
   {
    "duration": 7,
    "start_time": "2024-12-04T20:28:33.937Z"
   },
   {
    "duration": 6,
    "start_time": "2024-12-04T20:28:34.208Z"
   },
   {
    "duration": 2571,
    "start_time": "2024-12-04T20:28:35.686Z"
   },
   {
    "duration": 3,
    "start_time": "2024-12-04T20:28:41.039Z"
   },
   {
    "duration": 6,
    "start_time": "2024-12-04T20:28:41.251Z"
   },
   {
    "duration": 4,
    "start_time": "2024-12-04T20:28:41.700Z"
   },
   {
    "duration": 231,
    "start_time": "2024-12-04T20:28:41.886Z"
   },
   {
    "duration": 7,
    "start_time": "2024-12-04T20:28:42.295Z"
   },
   {
    "duration": 2,
    "start_time": "2024-12-04T20:28:42.589Z"
   },
   {
    "duration": 15,
    "start_time": "2024-12-04T20:28:42.791Z"
   },
   {
    "duration": 3,
    "start_time": "2024-12-04T20:28:50.286Z"
   },
   {
    "duration": 6,
    "start_time": "2024-12-04T20:28:50.798Z"
   },
   {
    "duration": 4,
    "start_time": "2024-12-04T20:28:51.167Z"
   },
   {
    "duration": 8,
    "start_time": "2024-12-04T20:28:51.374Z"
   },
   {
    "duration": 8,
    "start_time": "2024-12-04T20:28:51.554Z"
   },
   {
    "duration": 4,
    "start_time": "2024-12-04T20:28:51.754Z"
   },
   {
    "duration": 8,
    "start_time": "2024-12-04T20:28:51.935Z"
   },
   {
    "duration": 17,
    "start_time": "2024-12-04T20:28:52.134Z"
   },
   {
    "duration": 9,
    "start_time": "2024-12-04T20:28:52.533Z"
   },
   {
    "duration": 8,
    "start_time": "2024-12-04T20:28:52.735Z"
   },
   {
    "duration": 5,
    "start_time": "2024-12-04T20:28:53.147Z"
   },
   {
    "duration": 3,
    "start_time": "2024-12-04T20:28:53.332Z"
   },
   {
    "duration": 6,
    "start_time": "2024-12-04T20:28:53.534Z"
   },
   {
    "duration": 350,
    "start_time": "2024-12-04T20:28:53.753Z"
   },
   {
    "duration": 7,
    "start_time": "2024-12-04T20:28:54.105Z"
   },
   {
    "duration": 7,
    "start_time": "2024-12-04T20:28:54.173Z"
   },
   {
    "duration": 6,
    "start_time": "2024-12-04T20:28:54.370Z"
   },
   {
    "duration": 6,
    "start_time": "2024-12-04T20:28:54.565Z"
   },
   {
    "duration": 2533,
    "start_time": "2024-12-04T20:28:55.373Z"
   },
   {
    "duration": 3,
    "start_time": "2024-12-04T20:28:57.908Z"
   },
   {
    "duration": 4,
    "start_time": "2024-12-04T20:28:57.912Z"
   },
   {
    "duration": 4,
    "start_time": "2024-12-04T20:28:57.918Z"
   },
   {
    "duration": 8,
    "start_time": "2024-12-04T20:28:57.924Z"
   },
   {
    "duration": 10,
    "start_time": "2024-12-04T20:28:59.693Z"
   },
   {
    "duration": 3,
    "start_time": "2024-12-04T20:29:00.038Z"
   },
   {
    "duration": 10,
    "start_time": "2024-12-04T20:29:00.356Z"
   },
   {
    "duration": 11,
    "start_time": "2024-12-04T20:29:00.691Z"
   },
   {
    "duration": 19,
    "start_time": "2024-12-04T20:29:01.003Z"
   },
   {
    "duration": 20,
    "start_time": "2024-12-04T20:29:01.321Z"
   },
   {
    "duration": 3,
    "start_time": "2024-12-04T20:29:03.502Z"
   },
   {
    "duration": 5,
    "start_time": "2024-12-04T20:29:03.845Z"
   },
   {
    "duration": 6,
    "start_time": "2024-12-04T20:29:04.375Z"
   },
   {
    "duration": 3,
    "start_time": "2024-12-04T20:29:05.253Z"
   },
   {
    "duration": 2,
    "start_time": "2024-12-04T20:29:05.720Z"
   },
   {
    "duration": 15,
    "start_time": "2024-12-04T20:29:06.501Z"
   },
   {
    "duration": 3,
    "start_time": "2024-12-04T20:31:37.802Z"
   },
   {
    "duration": 3,
    "start_time": "2024-12-04T20:31:50.079Z"
   },
   {
    "duration": 12,
    "start_time": "2024-12-04T20:31:50.370Z"
   },
   {
    "duration": 4,
    "start_time": "2024-12-04T20:31:52.711Z"
   },
   {
    "duration": 2,
    "start_time": "2024-12-04T20:33:40.395Z"
   },
   {
    "duration": 2135,
    "start_time": "2024-12-04T20:42:14.807Z"
   },
   {
    "duration": 4,
    "start_time": "2024-12-04T20:42:16.945Z"
   },
   {
    "duration": 8,
    "start_time": "2024-12-04T20:42:16.950Z"
   },
   {
    "duration": 3,
    "start_time": "2024-12-04T20:42:18.034Z"
   },
   {
    "duration": 10,
    "start_time": "2024-12-04T20:42:18.215Z"
   },
   {
    "duration": 9,
    "start_time": "2024-12-04T20:42:18.488Z"
   },
   {
    "duration": 3,
    "start_time": "2024-12-04T20:42:18.665Z"
   },
   {
    "duration": 9,
    "start_time": "2024-12-04T20:42:18.847Z"
   },
   {
    "duration": 16,
    "start_time": "2024-12-04T20:42:19.014Z"
   },
   {
    "duration": 9,
    "start_time": "2024-12-04T20:42:19.365Z"
   },
   {
    "duration": 8,
    "start_time": "2024-12-04T20:42:19.550Z"
   },
   {
    "duration": 5,
    "start_time": "2024-12-04T20:42:19.904Z"
   },
   {
    "duration": 3,
    "start_time": "2024-12-04T20:42:20.081Z"
   },
   {
    "duration": 6,
    "start_time": "2024-12-04T20:42:20.267Z"
   },
   {
    "duration": 347,
    "start_time": "2024-12-04T20:42:20.431Z"
   },
   {
    "duration": 8,
    "start_time": "2024-12-04T20:42:20.780Z"
   },
   {
    "duration": 7,
    "start_time": "2024-12-04T20:42:20.815Z"
   },
   {
    "duration": 6,
    "start_time": "2024-12-04T20:42:21.003Z"
   },
   {
    "duration": 6,
    "start_time": "2024-12-04T20:42:21.181Z"
   },
   {
    "duration": 2729,
    "start_time": "2024-12-04T20:42:22.001Z"
   },
   {
    "duration": 4,
    "start_time": "2024-12-04T20:42:24.732Z"
   },
   {
    "duration": 4,
    "start_time": "2024-12-04T20:42:24.738Z"
   },
   {
    "duration": 3,
    "start_time": "2024-12-04T20:42:24.744Z"
   },
   {
    "duration": 8,
    "start_time": "2024-12-04T20:42:25.252Z"
   },
   {
    "duration": 7,
    "start_time": "2024-12-04T20:42:26.242Z"
   },
   {
    "duration": 2,
    "start_time": "2024-12-04T20:42:26.410Z"
   },
   {
    "duration": 11,
    "start_time": "2024-12-04T20:42:26.596Z"
   },
   {
    "duration": 11,
    "start_time": "2024-12-04T20:42:26.781Z"
   },
   {
    "duration": 18,
    "start_time": "2024-12-04T20:42:26.955Z"
   },
   {
    "duration": 19,
    "start_time": "2024-12-04T20:42:27.132Z"
   },
   {
    "duration": 4,
    "start_time": "2024-12-04T20:42:28.354Z"
   },
   {
    "duration": 5,
    "start_time": "2024-12-04T20:42:28.504Z"
   },
   {
    "duration": 7,
    "start_time": "2024-12-04T20:42:29.019Z"
   },
   {
    "duration": 3,
    "start_time": "2024-12-04T20:42:29.231Z"
   },
   {
    "duration": 3,
    "start_time": "2024-12-04T20:42:29.385Z"
   },
   {
    "duration": 12,
    "start_time": "2024-12-04T20:42:29.731Z"
   },
   {
    "duration": 6,
    "start_time": "2024-12-04T20:42:30.918Z"
   },
   {
    "duration": 3,
    "start_time": "2024-12-04T20:42:31.226Z"
   },
   {
    "duration": 12,
    "start_time": "2024-12-04T20:42:31.305Z"
   },
   {
    "duration": 3,
    "start_time": "2024-12-04T20:42:32.182Z"
   },
   {
    "duration": 4,
    "start_time": "2024-12-04T20:42:32.618Z"
   },
   {
    "duration": 3,
    "start_time": "2024-12-04T20:42:33.153Z"
   },
   {
    "duration": 167,
    "start_time": "2024-12-04T20:42:33.979Z"
   },
   {
    "duration": 3,
    "start_time": "2024-12-04T20:49:57.961Z"
   },
   {
    "duration": 4,
    "start_time": "2024-12-04T20:59:25.451Z"
   },
   {
    "duration": 2430,
    "start_time": "2024-12-04T21:30:36.034Z"
   },
   {
    "duration": 2840,
    "start_time": "2024-12-04T21:30:38.466Z"
   },
   {
    "duration": 13,
    "start_time": "2024-12-04T21:30:41.308Z"
   },
   {
    "duration": 3,
    "start_time": "2024-12-04T21:30:41.323Z"
   },
   {
    "duration": 13,
    "start_time": "2024-12-04T21:30:41.328Z"
   },
   {
    "duration": 9,
    "start_time": "2024-12-04T21:30:41.343Z"
   },
   {
    "duration": 3,
    "start_time": "2024-12-04T21:30:41.353Z"
   },
   {
    "duration": 7,
    "start_time": "2024-12-04T21:30:41.358Z"
   },
   {
    "duration": 17,
    "start_time": "2024-12-04T21:30:41.368Z"
   },
   {
    "duration": 45,
    "start_time": "2024-12-04T21:30:41.389Z"
   },
   {
    "duration": 9,
    "start_time": "2024-12-04T21:30:41.436Z"
   },
   {
    "duration": 6,
    "start_time": "2024-12-04T21:30:41.446Z"
   },
   {
    "duration": 3,
    "start_time": "2024-12-04T21:30:41.454Z"
   },
   {
    "duration": 6,
    "start_time": "2024-12-04T21:30:41.459Z"
   },
   {
    "duration": 468,
    "start_time": "2024-12-04T21:30:41.467Z"
   },
   {
    "duration": 8,
    "start_time": "2024-12-04T21:30:41.937Z"
   },
   {
    "duration": 14,
    "start_time": "2024-12-04T21:30:41.950Z"
   },
   {
    "duration": 10,
    "start_time": "2024-12-04T21:30:41.968Z"
   },
   {
    "duration": 8,
    "start_time": "2024-12-04T21:30:41.982Z"
   },
   {
    "duration": 2700,
    "start_time": "2024-12-04T21:30:41.992Z"
   },
   {
    "duration": 2,
    "start_time": "2024-12-04T21:30:44.695Z"
   },
   {
    "duration": 4,
    "start_time": "2024-12-04T21:30:44.699Z"
   },
   {
    "duration": 4,
    "start_time": "2024-12-04T21:30:44.704Z"
   },
   {
    "duration": 231,
    "start_time": "2024-12-04T21:30:44.709Z"
   },
   {
    "duration": 0,
    "start_time": "2024-12-04T21:30:44.942Z"
   },
   {
    "duration": 0,
    "start_time": "2024-12-04T21:30:44.944Z"
   },
   {
    "duration": 0,
    "start_time": "2024-12-04T21:30:44.945Z"
   },
   {
    "duration": 0,
    "start_time": "2024-12-04T21:30:44.946Z"
   },
   {
    "duration": 0,
    "start_time": "2024-12-04T21:30:44.948Z"
   },
   {
    "duration": 0,
    "start_time": "2024-12-04T21:30:44.950Z"
   },
   {
    "duration": 4,
    "start_time": "2024-12-04T21:30:45.870Z"
   },
   {
    "duration": 4,
    "start_time": "2024-12-04T21:30:46.065Z"
   },
   {
    "duration": 5,
    "start_time": "2024-12-04T21:30:46.429Z"
   },
   {
    "duration": 4,
    "start_time": "2024-12-04T21:30:46.617Z"
   },
   {
    "duration": 3,
    "start_time": "2024-12-04T21:30:46.803Z"
   },
   {
    "duration": 13,
    "start_time": "2024-12-04T21:30:46.978Z"
   },
   {
    "duration": 4,
    "start_time": "2024-12-04T21:30:48.048Z"
   },
   {
    "duration": 4,
    "start_time": "2024-12-04T21:30:48.235Z"
   },
   {
    "duration": 8,
    "start_time": "2024-12-04T21:30:48.616Z"
   },
   {
    "duration": 4,
    "start_time": "2024-12-04T21:30:49.525Z"
   },
   {
    "duration": 3,
    "start_time": "2024-12-04T21:30:49.748Z"
   },
   {
    "duration": 5,
    "start_time": "2024-12-04T21:30:50.313Z"
   },
   {
    "duration": 3,
    "start_time": "2024-12-04T21:30:50.803Z"
   },
   {
    "duration": 4,
    "start_time": "2024-12-04T21:30:51.691Z"
   },
   {
    "duration": 5,
    "start_time": "2024-12-04T21:33:03.587Z"
   },
   {
    "duration": 3,
    "start_time": "2024-12-04T21:33:09.542Z"
   },
   {
    "duration": 5,
    "start_time": "2024-12-04T21:38:27.507Z"
   },
   {
    "duration": 8,
    "start_time": "2024-12-04T21:38:51.928Z"
   },
   {
    "duration": 4,
    "start_time": "2024-12-04T21:38:53.050Z"
   },
   {
    "duration": 3,
    "start_time": "2024-12-04T21:53:51.978Z"
   },
   {
    "duration": 13,
    "start_time": "2024-12-04T21:53:52.241Z"
   },
   {
    "duration": 3,
    "start_time": "2024-12-04T21:53:59.683Z"
   },
   {
    "duration": 8,
    "start_time": "2024-12-04T21:54:00.095Z"
   },
   {
    "duration": 4,
    "start_time": "2024-12-04T21:54:00.372Z"
   },
   {
    "duration": 8,
    "start_time": "2024-12-04T21:54:00.878Z"
   },
   {
    "duration": 8,
    "start_time": "2024-12-04T21:54:01.058Z"
   },
   {
    "duration": 3,
    "start_time": "2024-12-04T21:54:01.239Z"
   },
   {
    "duration": 8,
    "start_time": "2024-12-04T21:54:01.407Z"
   },
   {
    "duration": 16,
    "start_time": "2024-12-04T21:54:01.593Z"
   },
   {
    "duration": 10,
    "start_time": "2024-12-04T21:54:01.983Z"
   },
   {
    "duration": 8,
    "start_time": "2024-12-04T21:54:02.161Z"
   },
   {
    "duration": 5,
    "start_time": "2024-12-04T21:54:02.548Z"
   },
   {
    "duration": 3,
    "start_time": "2024-12-04T21:54:02.771Z"
   },
   {
    "duration": 5,
    "start_time": "2024-12-04T21:54:02.922Z"
   },
   {
    "duration": 357,
    "start_time": "2024-12-04T21:54:03.123Z"
   },
   {
    "duration": 8,
    "start_time": "2024-12-04T21:54:03.482Z"
   },
   {
    "duration": 7,
    "start_time": "2024-12-04T21:54:03.524Z"
   },
   {
    "duration": 7,
    "start_time": "2024-12-04T21:54:03.738Z"
   },
   {
    "duration": 7,
    "start_time": "2024-12-04T21:54:04.305Z"
   },
   {
    "duration": 2581,
    "start_time": "2024-12-04T21:54:04.672Z"
   },
   {
    "duration": 3,
    "start_time": "2024-12-04T21:54:07.256Z"
   },
   {
    "duration": 4,
    "start_time": "2024-12-04T21:54:07.260Z"
   },
   {
    "duration": 3,
    "start_time": "2024-12-04T21:54:07.267Z"
   },
   {
    "duration": 14,
    "start_time": "2024-12-04T21:54:07.271Z"
   },
   {
    "duration": 3,
    "start_time": "2024-12-04T21:54:10.752Z"
   },
   {
    "duration": 3,
    "start_time": "2024-12-04T21:54:11.228Z"
   },
   {
    "duration": 12,
    "start_time": "2024-12-04T21:54:11.622Z"
   },
   {
    "duration": 9,
    "start_time": "2024-12-04T21:54:12.808Z"
   },
   {
    "duration": 2,
    "start_time": "2024-12-04T21:54:13.465Z"
   },
   {
    "duration": 11,
    "start_time": "2024-12-04T21:54:14.415Z"
   },
   {
    "duration": 2175,
    "start_time": "2024-12-04T21:54:34.263Z"
   },
   {
    "duration": 3,
    "start_time": "2024-12-04T21:54:36.441Z"
   },
   {
    "duration": 8,
    "start_time": "2024-12-04T21:54:36.446Z"
   },
   {
    "duration": 3,
    "start_time": "2024-12-04T21:54:36.456Z"
   },
   {
    "duration": 8,
    "start_time": "2024-12-04T21:54:36.461Z"
   },
   {
    "duration": 9,
    "start_time": "2024-12-04T21:54:36.471Z"
   },
   {
    "duration": 2,
    "start_time": "2024-12-04T21:54:36.482Z"
   },
   {
    "duration": 7,
    "start_time": "2024-12-04T21:54:36.486Z"
   },
   {
    "duration": 17,
    "start_time": "2024-12-04T21:54:36.756Z"
   },
   {
    "duration": 9,
    "start_time": "2024-12-04T21:54:37.382Z"
   },
   {
    "duration": 9,
    "start_time": "2024-12-04T21:54:37.678Z"
   },
   {
    "duration": 6,
    "start_time": "2024-12-04T21:54:38.063Z"
   },
   {
    "duration": 4,
    "start_time": "2024-12-04T21:54:38.256Z"
   },
   {
    "duration": 4,
    "start_time": "2024-12-04T21:54:38.427Z"
   },
   {
    "duration": 368,
    "start_time": "2024-12-04T21:54:38.608Z"
   },
   {
    "duration": 7,
    "start_time": "2024-12-04T21:54:38.979Z"
   },
   {
    "duration": 7,
    "start_time": "2024-12-04T21:54:39.040Z"
   },
   {
    "duration": 7,
    "start_time": "2024-12-04T21:54:39.238Z"
   },
   {
    "duration": 7,
    "start_time": "2024-12-04T21:54:39.456Z"
   },
   {
    "duration": 2838,
    "start_time": "2024-12-04T21:54:40.630Z"
   },
   {
    "duration": 3,
    "start_time": "2024-12-04T21:54:43.470Z"
   },
   {
    "duration": 5,
    "start_time": "2024-12-04T21:54:43.475Z"
   },
   {
    "duration": 4,
    "start_time": "2024-12-04T21:54:43.482Z"
   },
   {
    "duration": 8,
    "start_time": "2024-12-04T21:54:43.487Z"
   },
   {
    "duration": 2,
    "start_time": "2024-12-04T21:54:43.497Z"
   },
   {
    "duration": 40,
    "start_time": "2024-12-04T21:54:43.501Z"
   },
   {
    "duration": 12,
    "start_time": "2024-12-04T21:54:43.543Z"
   },
   {
    "duration": 19,
    "start_time": "2024-12-04T21:54:43.641Z"
   },
   {
    "duration": 18,
    "start_time": "2024-12-04T21:54:43.839Z"
   },
   {
    "duration": 4,
    "start_time": "2024-12-04T21:54:45.459Z"
   },
   {
    "duration": 4,
    "start_time": "2024-12-04T21:54:45.662Z"
   },
   {
    "duration": 7,
    "start_time": "2024-12-04T21:54:46.022Z"
   },
   {
    "duration": 3,
    "start_time": "2024-12-04T21:54:46.347Z"
   },
   {
    "duration": 3,
    "start_time": "2024-12-04T21:54:46.541Z"
   },
   {
    "duration": 13,
    "start_time": "2024-12-04T21:54:47.045Z"
   },
   {
    "duration": 4,
    "start_time": "2024-12-04T21:54:48.568Z"
   },
   {
    "duration": 3,
    "start_time": "2024-12-04T21:54:49.104Z"
   },
   {
    "duration": 8,
    "start_time": "2024-12-04T21:54:49.292Z"
   },
   {
    "duration": 3,
    "start_time": "2024-12-04T21:54:50.115Z"
   },
   {
    "duration": 3,
    "start_time": "2024-12-04T21:54:50.291Z"
   },
   {
    "duration": 3,
    "start_time": "2024-12-04T21:54:50.771Z"
   },
   {
    "duration": 3,
    "start_time": "2024-12-04T21:54:51.267Z"
   },
   {
    "duration": 4,
    "start_time": "2024-12-04T21:54:51.848Z"
   },
   {
    "duration": 5,
    "start_time": "2024-12-04T21:54:52.780Z"
   },
   {
    "duration": 6,
    "start_time": "2024-12-04T21:54:53.405Z"
   },
   {
    "duration": 2170,
    "start_time": "2024-12-04T22:04:01.406Z"
   },
   {
    "duration": 4,
    "start_time": "2024-12-04T22:04:03.579Z"
   },
   {
    "duration": 8,
    "start_time": "2024-12-04T22:04:03.585Z"
   },
   {
    "duration": 3,
    "start_time": "2024-12-04T22:04:03.595Z"
   },
   {
    "duration": 8,
    "start_time": "2024-12-04T22:04:03.600Z"
   },
   {
    "duration": 8,
    "start_time": "2024-12-04T22:04:03.610Z"
   },
   {
    "duration": 3,
    "start_time": "2024-12-04T22:04:03.620Z"
   },
   {
    "duration": 9,
    "start_time": "2024-12-04T22:04:04.813Z"
   },
   {
    "duration": 17,
    "start_time": "2024-12-04T22:04:04.985Z"
   },
   {
    "duration": 11,
    "start_time": "2024-12-04T22:04:05.619Z"
   },
   {
    "duration": 12,
    "start_time": "2024-12-04T22:04:05.817Z"
   },
   {
    "duration": 6,
    "start_time": "2024-12-04T22:04:06.303Z"
   },
   {
    "duration": 3,
    "start_time": "2024-12-04T22:04:06.748Z"
   },
   {
    "duration": 5,
    "start_time": "2024-12-04T22:04:07.272Z"
   },
   {
    "duration": 403,
    "start_time": "2024-12-04T22:04:07.452Z"
   },
   {
    "duration": 7,
    "start_time": "2024-12-04T22:04:07.858Z"
   },
   {
    "duration": 8,
    "start_time": "2024-12-04T22:04:07.867Z"
   },
   {
    "duration": 8,
    "start_time": "2024-12-04T22:04:08.017Z"
   },
   {
    "duration": 7,
    "start_time": "2024-12-04T22:04:08.641Z"
   },
   {
    "duration": 2692,
    "start_time": "2024-12-04T22:04:09.382Z"
   },
   {
    "duration": 2,
    "start_time": "2024-12-04T22:04:12.077Z"
   },
   {
    "duration": 4,
    "start_time": "2024-12-04T22:04:12.081Z"
   },
   {
    "duration": 4,
    "start_time": "2024-12-04T22:04:12.087Z"
   },
   {
    "duration": 7,
    "start_time": "2024-12-04T22:04:12.294Z"
   },
   {
    "duration": 2,
    "start_time": "2024-12-04T22:04:12.491Z"
   },
   {
    "duration": 12,
    "start_time": "2024-12-04T22:04:12.972Z"
   },
   {
    "duration": 12,
    "start_time": "2024-12-04T22:04:13.221Z"
   },
   {
    "duration": 19,
    "start_time": "2024-12-04T22:04:13.451Z"
   },
   {
    "duration": 20,
    "start_time": "2024-12-04T22:04:13.684Z"
   },
   {
    "duration": 4,
    "start_time": "2024-12-04T22:04:15.483Z"
   },
   {
    "duration": 5,
    "start_time": "2024-12-04T22:04:15.736Z"
   },
   {
    "duration": 7,
    "start_time": "2024-12-04T22:04:16.487Z"
   },
   {
    "duration": 3,
    "start_time": "2024-12-04T22:04:17.063Z"
   },
   {
    "duration": 5,
    "start_time": "2024-12-04T22:04:17.478Z"
   },
   {
    "duration": 12,
    "start_time": "2024-12-04T22:04:17.759Z"
   },
   {
    "duration": 4,
    "start_time": "2024-12-04T22:04:19.637Z"
   },
   {
    "duration": 3,
    "start_time": "2024-12-04T22:04:19.871Z"
   },
   {
    "duration": 12,
    "start_time": "2024-12-04T22:04:20.103Z"
   },
   {
    "duration": 3,
    "start_time": "2024-12-04T22:04:21.610Z"
   },
   {
    "duration": 3,
    "start_time": "2024-12-04T22:04:21.853Z"
   },
   {
    "duration": 3,
    "start_time": "2024-12-04T22:04:22.619Z"
   },
   {
    "duration": 3,
    "start_time": "2024-12-04T22:04:23.057Z"
   },
   {
    "duration": 3,
    "start_time": "2024-12-04T22:04:23.943Z"
   },
   {
    "duration": 11,
    "start_time": "2024-12-04T22:04:25.031Z"
   },
   {
    "duration": 5,
    "start_time": "2024-12-04T22:04:25.772Z"
   },
   {
    "duration": 2459,
    "start_time": "2024-12-05T00:17:12.854Z"
   },
   {
    "duration": 2685,
    "start_time": "2024-12-05T00:17:15.316Z"
   },
   {
    "duration": 13,
    "start_time": "2024-12-05T00:17:18.003Z"
   },
   {
    "duration": 4,
    "start_time": "2024-12-05T00:17:18.018Z"
   },
   {
    "duration": 11,
    "start_time": "2024-12-05T00:17:18.024Z"
   },
   {
    "duration": 10,
    "start_time": "2024-12-05T00:17:18.043Z"
   },
   {
    "duration": 3,
    "start_time": "2024-12-05T00:17:18.055Z"
   },
   {
    "duration": 8,
    "start_time": "2024-12-05T00:17:18.060Z"
   },
   {
    "duration": 16,
    "start_time": "2024-12-05T00:17:18.070Z"
   },
   {
    "duration": 10,
    "start_time": "2024-12-05T00:17:19.355Z"
   },
   {
    "duration": 9,
    "start_time": "2024-12-05T00:17:19.523Z"
   },
   {
    "duration": 5,
    "start_time": "2024-12-05T00:17:20.094Z"
   },
   {
    "duration": 3,
    "start_time": "2024-12-05T00:17:20.782Z"
   },
   {
    "duration": 5,
    "start_time": "2024-12-05T00:17:21.175Z"
   },
   {
    "duration": 433,
    "start_time": "2024-12-05T00:17:21.391Z"
   },
   {
    "duration": 7,
    "start_time": "2024-12-05T00:17:21.827Z"
   },
   {
    "duration": 23,
    "start_time": "2024-12-05T00:17:21.843Z"
   },
   {
    "duration": 7,
    "start_time": "2024-12-05T00:17:22.013Z"
   },
   {
    "duration": 7,
    "start_time": "2024-12-05T00:17:22.288Z"
   },
   {
    "duration": 2586,
    "start_time": "2024-12-05T00:17:23.453Z"
   },
   {
    "duration": 3,
    "start_time": "2024-12-05T00:17:26.041Z"
   },
   {
    "duration": 4,
    "start_time": "2024-12-05T00:17:26.045Z"
   },
   {
    "duration": 3,
    "start_time": "2024-12-05T00:17:26.051Z"
   },
   {
    "duration": 7,
    "start_time": "2024-12-05T00:17:26.625Z"
   },
   {
    "duration": 2,
    "start_time": "2024-12-05T00:17:26.945Z"
   },
   {
    "duration": 11,
    "start_time": "2024-12-05T00:17:27.298Z"
   },
   {
    "duration": 12,
    "start_time": "2024-12-05T00:17:27.547Z"
   },
   {
    "duration": 18,
    "start_time": "2024-12-05T00:17:27.831Z"
   },
   {
    "duration": 21,
    "start_time": "2024-12-05T00:17:28.079Z"
   },
   {
    "duration": 3,
    "start_time": "2024-12-05T00:17:29.628Z"
   },
   {
    "duration": 5,
    "start_time": "2024-12-05T00:17:29.836Z"
   },
   {
    "duration": 6,
    "start_time": "2024-12-05T00:17:30.254Z"
   },
   {
    "duration": 5,
    "start_time": "2024-12-05T00:17:30.455Z"
   },
   {
    "duration": 2,
    "start_time": "2024-12-05T00:17:30.676Z"
   },
   {
    "duration": 12,
    "start_time": "2024-12-05T00:17:30.906Z"
   },
   {
    "duration": 4,
    "start_time": "2024-12-05T00:17:32.677Z"
   },
   {
    "duration": 3,
    "start_time": "2024-12-05T00:17:32.932Z"
   },
   {
    "duration": 16,
    "start_time": "2024-12-05T00:17:33.140Z"
   },
   {
    "duration": 4,
    "start_time": "2024-12-05T00:17:34.508Z"
   },
   {
    "duration": 3,
    "start_time": "2024-12-05T00:17:34.931Z"
   },
   {
    "duration": 3,
    "start_time": "2024-12-05T00:17:35.445Z"
   },
   {
    "duration": 3,
    "start_time": "2024-12-05T00:17:36.035Z"
   },
   {
    "duration": 4,
    "start_time": "2024-12-05T00:17:37.247Z"
   },
   {
    "duration": 4,
    "start_time": "2024-12-05T00:17:38.333Z"
   },
   {
    "duration": 5,
    "start_time": "2024-12-05T00:17:39.171Z"
   },
   {
    "duration": 7,
    "start_time": "2024-12-05T00:32:43.357Z"
   },
   {
    "duration": 7,
    "start_time": "2024-12-05T00:35:14.745Z"
   },
   {
    "duration": 8,
    "start_time": "2024-12-05T00:35:20.736Z"
   },
   {
    "duration": 7,
    "start_time": "2024-12-05T00:35:24.032Z"
   },
   {
    "duration": 4,
    "start_time": "2024-12-05T00:35:31.069Z"
   },
   {
    "duration": 3,
    "start_time": "2024-12-05T00:35:31.222Z"
   },
   {
    "duration": 2,
    "start_time": "2024-12-05T00:35:31.630Z"
   },
   {
    "duration": 3,
    "start_time": "2024-12-05T00:35:32.175Z"
   },
   {
    "duration": 3,
    "start_time": "2024-12-05T00:35:32.692Z"
   },
   {
    "duration": 7,
    "start_time": "2024-12-05T00:35:33.829Z"
   },
   {
    "duration": 4,
    "start_time": "2024-12-05T00:35:34.294Z"
   },
   {
    "duration": 4,
    "start_time": "2024-12-05T00:40:23.226Z"
   },
   {
    "duration": 235,
    "start_time": "2024-12-05T00:41:32.931Z"
   },
   {
    "duration": 4,
    "start_time": "2024-12-05T00:41:38.778Z"
   },
   {
    "duration": 19,
    "start_time": "2024-12-05T00:42:10.663Z"
   },
   {
    "duration": 4,
    "start_time": "2024-12-05T00:42:15.588Z"
   },
   {
    "duration": 19,
    "start_time": "2024-12-05T00:47:33.099Z"
   },
   {
    "duration": 3,
    "start_time": "2024-12-05T00:50:27.891Z"
   },
   {
    "duration": 8,
    "start_time": "2024-12-05T00:50:28.518Z"
   },
   {
    "duration": 3,
    "start_time": "2024-12-05T00:50:28.905Z"
   },
   {
    "duration": 8,
    "start_time": "2024-12-05T00:50:29.126Z"
   },
   {
    "duration": 9,
    "start_time": "2024-12-05T00:50:29.342Z"
   },
   {
    "duration": 3,
    "start_time": "2024-12-05T00:50:29.558Z"
   },
   {
    "duration": 9,
    "start_time": "2024-12-05T00:50:29.772Z"
   },
   {
    "duration": 17,
    "start_time": "2024-12-05T00:50:29.976Z"
   },
   {
    "duration": 9,
    "start_time": "2024-12-05T00:50:30.305Z"
   },
   {
    "duration": 9,
    "start_time": "2024-12-05T00:50:30.487Z"
   },
   {
    "duration": 6,
    "start_time": "2024-12-05T00:50:30.928Z"
   },
   {
    "duration": 3,
    "start_time": "2024-12-05T00:50:31.172Z"
   },
   {
    "duration": 5,
    "start_time": "2024-12-05T00:50:31.353Z"
   },
   {
    "duration": 364,
    "start_time": "2024-12-05T00:50:31.540Z"
   },
   {
    "duration": 7,
    "start_time": "2024-12-05T00:50:31.906Z"
   },
   {
    "duration": 6,
    "start_time": "2024-12-05T00:50:31.978Z"
   },
   {
    "duration": 7,
    "start_time": "2024-12-05T00:50:32.342Z"
   },
   {
    "duration": 7,
    "start_time": "2024-12-05T00:50:32.423Z"
   },
   {
    "duration": 2626,
    "start_time": "2024-12-05T00:50:33.163Z"
   },
   {
    "duration": 2,
    "start_time": "2024-12-05T00:50:35.792Z"
   },
   {
    "duration": 4,
    "start_time": "2024-12-05T00:50:35.796Z"
   },
   {
    "duration": 3,
    "start_time": "2024-12-05T00:50:35.802Z"
   },
   {
    "duration": 8,
    "start_time": "2024-12-05T00:50:35.807Z"
   },
   {
    "duration": 26,
    "start_time": "2024-12-05T00:50:35.816Z"
   },
   {
    "duration": 12,
    "start_time": "2024-12-05T00:50:35.844Z"
   },
   {
    "duration": 10,
    "start_time": "2024-12-05T00:50:35.857Z"
   },
   {
    "duration": 17,
    "start_time": "2024-12-05T00:50:35.990Z"
   },
   {
    "duration": 19,
    "start_time": "2024-12-05T00:50:36.189Z"
   },
   {
    "duration": 4,
    "start_time": "2024-12-05T00:50:37.572Z"
   },
   {
    "duration": 4,
    "start_time": "2024-12-05T00:50:37.756Z"
   },
   {
    "duration": 6,
    "start_time": "2024-12-05T00:50:38.170Z"
   },
   {
    "duration": 4,
    "start_time": "2024-12-05T00:50:38.373Z"
   },
   {
    "duration": 4,
    "start_time": "2024-12-05T00:50:38.703Z"
   },
   {
    "duration": 13,
    "start_time": "2024-12-05T00:50:38.738Z"
   },
   {
    "duration": 4,
    "start_time": "2024-12-05T00:50:40.040Z"
   },
   {
    "duration": 3,
    "start_time": "2024-12-05T00:50:40.603Z"
   },
   {
    "duration": 13,
    "start_time": "2024-12-05T00:50:40.794Z"
   },
   {
    "duration": 4,
    "start_time": "2024-12-05T00:50:41.711Z"
   },
   {
    "duration": 3,
    "start_time": "2024-12-05T00:50:41.887Z"
   },
   {
    "duration": 2,
    "start_time": "2024-12-05T00:50:42.534Z"
   },
   {
    "duration": 4,
    "start_time": "2024-12-05T00:50:43.116Z"
   },
   {
    "duration": 3,
    "start_time": "2024-12-05T00:50:44.206Z"
   },
   {
    "duration": 7,
    "start_time": "2024-12-05T00:50:44.871Z"
   },
   {
    "duration": 4,
    "start_time": "2024-12-05T00:50:45.478Z"
   },
   {
    "duration": 3,
    "start_time": "2024-12-05T00:50:48.087Z"
   },
   {
    "duration": 9,
    "start_time": "2024-12-05T00:50:48.372Z"
   },
   {
    "duration": 5,
    "start_time": "2024-12-05T00:51:27.374Z"
   },
   {
    "duration": 4,
    "start_time": "2024-12-05T00:52:40.065Z"
   },
   {
    "duration": 2342,
    "start_time": "2024-12-05T07:26:51.194Z"
   },
   {
    "duration": 2740,
    "start_time": "2024-12-05T07:26:53.538Z"
   },
   {
    "duration": 12,
    "start_time": "2024-12-05T07:26:56.282Z"
   },
   {
    "duration": 3,
    "start_time": "2024-12-05T07:26:56.296Z"
   },
   {
    "duration": 12,
    "start_time": "2024-12-05T07:26:57.082Z"
   },
   {
    "duration": 10,
    "start_time": "2024-12-05T07:26:57.283Z"
   },
   {
    "duration": 4,
    "start_time": "2024-12-05T07:26:57.485Z"
   },
   {
    "duration": 9,
    "start_time": "2024-12-05T07:26:57.684Z"
   },
   {
    "duration": 17,
    "start_time": "2024-12-05T07:26:57.851Z"
   },
   {
    "duration": 10,
    "start_time": "2024-12-05T07:26:58.151Z"
   },
   {
    "duration": 9,
    "start_time": "2024-12-05T07:26:58.401Z"
   },
   {
    "duration": 6,
    "start_time": "2024-12-05T07:26:59.026Z"
   },
   {
    "duration": 3,
    "start_time": "2024-12-05T07:26:59.182Z"
   },
   {
    "duration": 5,
    "start_time": "2024-12-05T07:26:59.370Z"
   },
   {
    "duration": 376,
    "start_time": "2024-12-05T07:26:59.653Z"
   },
   {
    "duration": 7,
    "start_time": "2024-12-05T07:27:00.031Z"
   },
   {
    "duration": 6,
    "start_time": "2024-12-05T07:27:00.040Z"
   },
   {
    "duration": 7,
    "start_time": "2024-12-05T07:27:00.218Z"
   },
   {
    "duration": 7,
    "start_time": "2024-12-05T07:27:00.415Z"
   },
   {
    "duration": 2622,
    "start_time": "2024-12-05T07:27:01.186Z"
   },
   {
    "duration": 2,
    "start_time": "2024-12-05T07:27:03.811Z"
   },
   {
    "duration": 4,
    "start_time": "2024-12-05T07:27:03.815Z"
   },
   {
    "duration": 3,
    "start_time": "2024-12-05T07:27:03.824Z"
   },
   {
    "duration": 8,
    "start_time": "2024-12-05T07:27:03.829Z"
   },
   {
    "duration": 2,
    "start_time": "2024-12-05T07:27:03.838Z"
   },
   {
    "duration": 11,
    "start_time": "2024-12-05T07:27:03.978Z"
   },
   {
    "duration": 11,
    "start_time": "2024-12-05T07:27:04.152Z"
   },
   {
    "duration": 20,
    "start_time": "2024-12-05T07:27:04.349Z"
   },
   {
    "duration": 19,
    "start_time": "2024-12-05T07:27:04.565Z"
   },
   {
    "duration": 4,
    "start_time": "2024-12-05T07:27:06.436Z"
   },
   {
    "duration": 4,
    "start_time": "2024-12-05T07:27:06.619Z"
   },
   {
    "duration": 6,
    "start_time": "2024-12-05T07:27:06.999Z"
   },
   {
    "duration": 3,
    "start_time": "2024-12-05T07:27:07.201Z"
   },
   {
    "duration": 3,
    "start_time": "2024-12-05T07:27:07.437Z"
   },
   {
    "duration": 12,
    "start_time": "2024-12-05T07:27:07.779Z"
   },
   {
    "duration": 4,
    "start_time": "2024-12-05T07:27:09.353Z"
   },
   {
    "duration": 3,
    "start_time": "2024-12-05T07:27:09.586Z"
   },
   {
    "duration": 13,
    "start_time": "2024-12-05T07:27:09.803Z"
   },
   {
    "duration": 3,
    "start_time": "2024-12-05T07:27:10.670Z"
   },
   {
    "duration": 2,
    "start_time": "2024-12-05T07:27:10.978Z"
   },
   {
    "duration": 3,
    "start_time": "2024-12-05T07:27:11.512Z"
   },
   {
    "duration": 3,
    "start_time": "2024-12-05T07:27:12.698Z"
   },
   {
    "duration": 4,
    "start_time": "2024-12-05T07:27:13.625Z"
   },
   {
    "duration": 4,
    "start_time": "2024-12-05T07:27:15.227Z"
   },
   {
    "duration": 9,
    "start_time": "2024-12-05T07:27:17.521Z"
   },
   {
    "duration": 3,
    "start_time": "2024-12-05T07:27:26.821Z"
   },
   {
    "duration": 5,
    "start_time": "2024-12-05T07:27:27.388Z"
   },
   {
    "duration": 7,
    "start_time": "2024-12-05T07:27:27.725Z"
   },
   {
    "duration": 4,
    "start_time": "2024-12-05T07:29:49.184Z"
   },
   {
    "duration": 2,
    "start_time": "2024-12-05T07:32:43.605Z"
   },
   {
    "duration": 2,
    "start_time": "2024-12-05T07:34:19.700Z"
   },
   {
    "duration": 5,
    "start_time": "2024-12-05T07:35:12.813Z"
   },
   {
    "duration": 2546,
    "start_time": "2024-12-06T00:36:03.450Z"
   },
   {
    "duration": 2836,
    "start_time": "2024-12-06T00:36:05.998Z"
   },
   {
    "duration": 68,
    "start_time": "2024-12-06T00:36:13.809Z"
   },
   {
    "duration": 4,
    "start_time": "2024-12-06T00:36:27.632Z"
   },
   {
    "duration": 12,
    "start_time": "2024-12-06T00:36:28.231Z"
   },
   {
    "duration": 10,
    "start_time": "2024-12-06T00:36:28.982Z"
   },
   {
    "duration": 4,
    "start_time": "2024-12-06T00:36:29.340Z"
   },
   {
    "duration": 12,
    "start_time": "2024-12-06T00:36:34.020Z"
   },
   {
    "duration": 19,
    "start_time": "2024-12-06T00:36:34.256Z"
   },
   {
    "duration": 10,
    "start_time": "2024-12-06T00:36:42.936Z"
   },
   {
    "duration": 11,
    "start_time": "2024-12-06T00:36:43.634Z"
   },
   {
    "duration": 5,
    "start_time": "2024-12-06T00:37:04.724Z"
   },
   {
    "duration": 5,
    "start_time": "2024-12-06T00:37:04.902Z"
   },
   {
    "duration": 6,
    "start_time": "2024-12-06T00:37:05.225Z"
   },
   {
    "duration": 396,
    "start_time": "2024-12-06T00:37:05.541Z"
   },
   {
    "duration": 7,
    "start_time": "2024-12-06T00:37:06.408Z"
   },
   {
    "duration": 7,
    "start_time": "2024-12-06T00:37:10.185Z"
   },
   {
    "duration": 8,
    "start_time": "2024-12-06T00:37:10.393Z"
   },
   {
    "duration": 7,
    "start_time": "2024-12-06T00:37:10.594Z"
   },
   {
    "duration": 2690,
    "start_time": "2024-12-06T00:37:17.281Z"
   },
   {
    "duration": 3,
    "start_time": "2024-12-06T00:37:21.014Z"
   },
   {
    "duration": 4,
    "start_time": "2024-12-06T00:37:24.453Z"
   },
   {
    "duration": 4,
    "start_time": "2024-12-06T00:37:25.497Z"
   },
   {
    "duration": 8,
    "start_time": "2024-12-06T00:37:35.480Z"
   },
   {
    "duration": 3,
    "start_time": "2024-12-06T00:37:35.691Z"
   },
   {
    "duration": 14,
    "start_time": "2024-12-06T00:37:36.023Z"
   },
   {
    "duration": 12,
    "start_time": "2024-12-06T00:37:36.386Z"
   },
   {
    "duration": 18,
    "start_time": "2024-12-06T00:37:36.974Z"
   },
   {
    "duration": 28,
    "start_time": "2024-12-06T00:37:37.507Z"
   },
   {
    "duration": 4,
    "start_time": "2024-12-06T00:37:42.663Z"
   },
   {
    "duration": 10,
    "start_time": "2024-12-06T00:37:43.289Z"
   },
   {
    "duration": 7,
    "start_time": "2024-12-06T00:37:46.230Z"
   },
   {
    "duration": 3,
    "start_time": "2024-12-06T00:37:50.177Z"
   },
   {
    "duration": 3,
    "start_time": "2024-12-06T00:37:50.896Z"
   },
   {
    "duration": 19,
    "start_time": "2024-12-06T00:37:51.520Z"
   },
   {
    "duration": 4,
    "start_time": "2024-12-06T00:37:56.218Z"
   },
   {
    "duration": 4,
    "start_time": "2024-12-06T00:37:59.833Z"
   },
   {
    "duration": 14,
    "start_time": "2024-12-06T00:38:00.298Z"
   },
   {
    "duration": 3,
    "start_time": "2024-12-06T00:38:04.539Z"
   },
   {
    "duration": 3,
    "start_time": "2024-12-06T00:38:04.545Z"
   },
   {
    "duration": 2,
    "start_time": "2024-12-06T00:38:05.111Z"
   },
   {
    "duration": 4,
    "start_time": "2024-12-06T00:38:05.372Z"
   },
   {
    "duration": 3,
    "start_time": "2024-12-06T00:38:15.376Z"
   },
   {
    "duration": 10,
    "start_time": "2024-12-06T00:38:16.444Z"
   },
   {
    "duration": 5,
    "start_time": "2024-12-06T00:38:18.140Z"
   },
   {
    "duration": 4,
    "start_time": "2024-12-06T00:38:33.087Z"
   },
   {
    "duration": 6,
    "start_time": "2024-12-06T00:38:33.388Z"
   },
   {
    "duration": 4,
    "start_time": "2024-12-06T00:38:33.605Z"
   },
   {
    "duration": 3,
    "start_time": "2024-12-06T00:38:33.811Z"
   },
   {
    "duration": 6,
    "start_time": "2024-12-06T00:38:34.056Z"
   },
   {
    "duration": 6,
    "start_time": "2024-12-06T01:11:26.366Z"
   },
   {
    "duration": 7,
    "start_time": "2024-12-06T01:11:30.224Z"
   },
   {
    "duration": 7,
    "start_time": "2024-12-06T01:11:32.138Z"
   },
   {
    "duration": 7,
    "start_time": "2024-12-06T01:11:33.291Z"
   },
   {
    "duration": 3501,
    "start_time": "2024-12-06T01:11:36.589Z"
   },
   {
    "duration": 3,
    "start_time": "2024-12-06T01:30:46.994Z"
   },
   {
    "duration": 5,
    "start_time": "2024-12-06T01:30:48.594Z"
   },
   {
    "duration": 397,
    "start_time": "2024-12-06T01:30:50.092Z"
   },
   {
    "duration": 8,
    "start_time": "2024-12-06T01:30:58.014Z"
   },
   {
    "duration": 8,
    "start_time": "2024-12-06T01:31:00.003Z"
   },
   {
    "duration": 8,
    "start_time": "2024-12-06T01:31:00.204Z"
   },
   {
    "duration": 8,
    "start_time": "2024-12-06T01:31:00.485Z"
   },
   {
    "duration": 3828,
    "start_time": "2024-12-06T01:31:02.193Z"
   },
   {
    "duration": 2,
    "start_time": "2024-12-06T01:31:35.812Z"
   },
   {
    "duration": 4,
    "start_time": "2024-12-06T01:31:37.223Z"
   },
   {
    "duration": 3,
    "start_time": "2024-12-06T01:32:22.867Z"
   },
   {
    "duration": 8,
    "start_time": "2024-12-06T01:32:45.378Z"
   },
   {
    "duration": 2,
    "start_time": "2024-12-06T01:32:45.977Z"
   },
   {
    "duration": 16,
    "start_time": "2024-12-06T01:32:48.108Z"
   },
   {
    "duration": 13,
    "start_time": "2024-12-06T01:32:49.012Z"
   },
   {
    "duration": 19,
    "start_time": "2024-12-06T01:32:51.156Z"
   },
   {
    "duration": 18,
    "start_time": "2024-12-06T01:33:00.382Z"
   },
   {
    "duration": 3,
    "start_time": "2024-12-06T01:33:09.194Z"
   },
   {
    "duration": 5,
    "start_time": "2024-12-06T01:33:09.808Z"
   },
   {
    "duration": 6,
    "start_time": "2024-12-06T01:33:11.090Z"
   },
   {
    "duration": 3,
    "start_time": "2024-12-06T01:33:11.898Z"
   },
   {
    "duration": 2,
    "start_time": "2024-12-06T01:33:12.507Z"
   },
   {
    "duration": 13,
    "start_time": "2024-12-06T01:33:12.811Z"
   },
   {
    "duration": 5,
    "start_time": "2024-12-06T01:33:40.400Z"
   },
   {
    "duration": 3,
    "start_time": "2024-12-06T01:33:42.000Z"
   },
   {
    "duration": 17,
    "start_time": "2024-12-06T01:33:42.634Z"
   },
   {
    "duration": 2379,
    "start_time": "2024-12-12T13:52:46.170Z"
   },
   {
    "duration": 2623,
    "start_time": "2024-12-12T13:52:48.551Z"
   },
   {
    "duration": 13,
    "start_time": "2024-12-12T13:54:05.173Z"
   },
   {
    "duration": 3,
    "start_time": "2024-12-12T13:54:35.247Z"
   },
   {
    "duration": 11,
    "start_time": "2024-12-12T13:54:35.567Z"
   },
   {
    "duration": 9,
    "start_time": "2024-12-12T13:54:36.135Z"
   },
   {
    "duration": 4,
    "start_time": "2024-12-12T13:54:37.357Z"
   },
   {
    "duration": 9,
    "start_time": "2024-12-12T13:56:18.134Z"
   },
   {
    "duration": 17,
    "start_time": "2024-12-12T13:56:18.432Z"
   },
   {
    "duration": 2315,
    "start_time": "2024-12-12T15:34:58.577Z"
   },
   {
    "duration": 2928,
    "start_time": "2024-12-12T15:35:00.895Z"
   },
   {
    "duration": 12,
    "start_time": "2024-12-12T15:35:03.825Z"
   },
   {
    "duration": 4,
    "start_time": "2024-12-12T15:35:07.144Z"
   },
   {
    "duration": 11,
    "start_time": "2024-12-12T15:35:07.357Z"
   },
   {
    "duration": 10,
    "start_time": "2024-12-12T15:35:07.996Z"
   },
   {
    "duration": 4,
    "start_time": "2024-12-12T15:35:08.546Z"
   },
   {
    "duration": 8,
    "start_time": "2024-12-12T15:35:08.849Z"
   },
   {
    "duration": 16,
    "start_time": "2024-12-12T15:35:09.043Z"
   },
   {
    "duration": 9,
    "start_time": "2024-12-12T15:35:09.294Z"
   },
   {
    "duration": 8,
    "start_time": "2024-12-12T15:35:09.576Z"
   },
   {
    "duration": 7,
    "start_time": "2024-12-12T15:35:10.288Z"
   },
   {
    "duration": 3,
    "start_time": "2024-12-12T15:35:10.767Z"
   },
   {
    "duration": 5,
    "start_time": "2024-12-12T15:35:11.842Z"
   },
   {
    "duration": 429,
    "start_time": "2024-12-12T15:35:12.352Z"
   },
   {
    "duration": 7,
    "start_time": "2024-12-12T15:35:13.325Z"
   },
   {
    "duration": 6,
    "start_time": "2024-12-12T15:35:14.545Z"
   },
   {
    "duration": 7,
    "start_time": "2024-12-12T15:35:17.565Z"
   },
   {
    "duration": 7,
    "start_time": "2024-12-12T15:35:23.911Z"
   },
   {
    "duration": 2558,
    "start_time": "2024-12-12T15:37:31.227Z"
   },
   {
    "duration": 2,
    "start_time": "2024-12-12T15:42:16.901Z"
   },
   {
    "duration": 3,
    "start_time": "2024-12-12T15:44:18.620Z"
   },
   {
    "duration": 8,
    "start_time": "2024-12-12T15:44:52.485Z"
   },
   {
    "duration": 2,
    "start_time": "2024-12-12T15:44:53.235Z"
   },
   {
    "duration": 228,
    "start_time": "2024-12-12T15:46:21.217Z"
   },
   {
    "duration": 3,
    "start_time": "2024-12-12T15:46:33.553Z"
   },
   {
    "duration": 3,
    "start_time": "2024-12-12T15:46:33.931Z"
   },
   {
    "duration": 7,
    "start_time": "2024-12-12T15:46:34.329Z"
   },
   {
    "duration": 6,
    "start_time": "2024-12-12T15:46:34.544Z"
   },
   {
    "duration": 11,
    "start_time": "2024-12-12T15:46:34.744Z"
   },
   {
    "duration": 11,
    "start_time": "2024-12-12T15:46:34.960Z"
   },
   {
    "duration": 11,
    "start_time": "2024-12-12T15:47:00.742Z"
   },
   {
    "duration": 18,
    "start_time": "2024-12-12T15:47:33.266Z"
   },
   {
    "duration": 18,
    "start_time": "2024-12-12T15:47:58.181Z"
   },
   {
    "duration": 469,
    "start_time": "2024-12-12T15:54:24.131Z"
   },
   {
    "duration": 4,
    "start_time": "2024-12-12T15:54:27.812Z"
   },
   {
    "duration": 5,
    "start_time": "2024-12-12T15:54:28.400Z"
   },
   {
    "duration": 5,
    "start_time": "2024-12-12T15:55:06.290Z"
   },
   {
    "duration": 3,
    "start_time": "2024-12-12T15:55:16.937Z"
   },
   {
    "duration": 3,
    "start_time": "2024-12-12T15:55:17.657Z"
   },
   {
    "duration": 2,
    "start_time": "2024-12-12T15:55:26.873Z"
   },
   {
    "duration": 13,
    "start_time": "2024-12-12T15:55:27.255Z"
   },
   {
    "duration": 13,
    "start_time": "2024-12-12T15:57:48.521Z"
   },
   {
    "duration": 2,
    "start_time": "2024-12-12T15:57:50.556Z"
   },
   {
    "duration": 2,
    "start_time": "2024-12-12T15:57:50.764Z"
   },
   {
    "duration": 12,
    "start_time": "2024-12-12T15:57:50.964Z"
   },
   {
    "duration": 2105,
    "start_time": "2024-12-12T15:59:59.205Z"
   },
   {
    "duration": 3,
    "start_time": "2024-12-12T16:00:01.313Z"
   },
   {
    "duration": 9,
    "start_time": "2024-12-12T16:00:01.318Z"
   },
   {
    "duration": 3,
    "start_time": "2024-12-12T16:00:01.330Z"
   },
   {
    "duration": 10,
    "start_time": "2024-12-12T16:00:01.335Z"
   },
   {
    "duration": 10,
    "start_time": "2024-12-12T16:00:01.347Z"
   },
   {
    "duration": 5,
    "start_time": "2024-12-12T16:00:01.358Z"
   },
   {
    "duration": 8,
    "start_time": "2024-12-12T16:00:01.366Z"
   },
   {
    "duration": 46,
    "start_time": "2024-12-12T16:00:01.375Z"
   },
   {
    "duration": 8,
    "start_time": "2024-12-12T16:00:01.424Z"
   },
   {
    "duration": 7,
    "start_time": "2024-12-12T16:00:01.435Z"
   },
   {
    "duration": 5,
    "start_time": "2024-12-12T16:00:01.646Z"
   },
   {
    "duration": 2,
    "start_time": "2024-12-12T16:00:01.913Z"
   },
   {
    "duration": 5,
    "start_time": "2024-12-12T16:00:02.203Z"
   },
   {
    "duration": 365,
    "start_time": "2024-12-12T16:00:02.370Z"
   },
   {
    "duration": 8,
    "start_time": "2024-12-12T16:00:02.832Z"
   },
   {
    "duration": 7,
    "start_time": "2024-12-12T16:00:02.997Z"
   },
   {
    "duration": 7,
    "start_time": "2024-12-12T16:00:03.154Z"
   },
   {
    "duration": 6,
    "start_time": "2024-12-12T16:00:03.314Z"
   },
   {
    "duration": 2594,
    "start_time": "2024-12-12T16:00:04.168Z"
   },
   {
    "duration": 4,
    "start_time": "2024-12-12T16:00:06.765Z"
   },
   {
    "duration": 4,
    "start_time": "2024-12-12T16:00:06.770Z"
   },
   {
    "duration": 4,
    "start_time": "2024-12-12T16:00:06.776Z"
   },
   {
    "duration": 28,
    "start_time": "2024-12-12T16:00:06.782Z"
   },
   {
    "duration": 2,
    "start_time": "2024-12-12T16:00:06.812Z"
   },
   {
    "duration": 11,
    "start_time": "2024-12-12T16:00:06.816Z"
   },
   {
    "duration": 10,
    "start_time": "2024-12-12T16:00:06.829Z"
   },
   {
    "duration": 16,
    "start_time": "2024-12-12T16:00:06.842Z"
   },
   {
    "duration": 45,
    "start_time": "2024-12-12T16:00:06.861Z"
   },
   {
    "duration": 3,
    "start_time": "2024-12-12T16:00:08.029Z"
   },
   {
    "duration": 4,
    "start_time": "2024-12-12T16:00:08.285Z"
   },
   {
    "duration": 5,
    "start_time": "2024-12-12T16:00:08.781Z"
   },
   {
    "duration": 3,
    "start_time": "2024-12-12T16:00:08.969Z"
   },
   {
    "duration": 2,
    "start_time": "2024-12-12T16:00:09.149Z"
   },
   {
    "duration": 13,
    "start_time": "2024-12-12T16:00:09.367Z"
   },
   {
    "duration": 4,
    "start_time": "2024-12-12T16:03:23.068Z"
   },
   {
    "duration": 3,
    "start_time": "2024-12-12T16:03:31.584Z"
   },
   {
    "duration": 7,
    "start_time": "2024-12-12T16:03:32.834Z"
   },
   {
    "duration": 3,
    "start_time": "2024-12-12T16:05:34.490Z"
   },
   {
    "duration": 2,
    "start_time": "2024-12-12T16:05:34.960Z"
   },
   {
    "duration": 75,
    "start_time": "2024-12-12T16:09:11.319Z"
   },
   {
    "duration": 4,
    "start_time": "2024-12-12T16:09:15.792Z"
   },
   {
    "duration": 3,
    "start_time": "2024-12-12T16:09:15.950Z"
   },
   {
    "duration": 3,
    "start_time": "2024-12-12T16:09:16.299Z"
   },
   {
    "duration": 3,
    "start_time": "2024-12-12T16:09:16.641Z"
   },
   {
    "duration": 4,
    "start_time": "2024-12-12T16:10:50.776Z"
   },
   {
    "duration": 11,
    "start_time": "2024-12-12T16:15:46.261Z"
   },
   {
    "duration": 4,
    "start_time": "2024-12-12T16:36:00.061Z"
   },
   {
    "duration": 3,
    "start_time": "2024-12-12T16:54:03.215Z"
   },
   {
    "duration": 4,
    "start_time": "2024-12-12T16:55:11.515Z"
   },
   {
    "duration": 4,
    "start_time": "2024-12-12T16:55:11.885Z"
   },
   {
    "duration": 4,
    "start_time": "2024-12-12T16:55:12.272Z"
   },
   {
    "duration": 3,
    "start_time": "2024-12-12T16:55:12.685Z"
   },
   {
    "duration": 5,
    "start_time": "2024-12-12T16:55:13.203Z"
   },
   {
    "duration": 3,
    "start_time": "2024-12-12T16:56:58.786Z"
   },
   {
    "duration": 5,
    "start_time": "2024-12-12T16:58:23.785Z"
   },
   {
    "duration": 5,
    "start_time": "2024-12-12T16:59:05.414Z"
   }
  ],
  "kernelspec": {
   "display_name": "Python 3 (ipykernel)",
   "language": "python",
   "name": "python3"
  },
  "language_info": {
   "codemirror_mode": {
    "name": "ipython",
    "version": 3
   },
   "file_extension": ".py",
   "mimetype": "text/x-python",
   "name": "python",
   "nbconvert_exporter": "python",
   "pygments_lexer": "ipython3",
   "version": "3.9.19"
  },
  "toc": {
   "base_numbering": 1,
   "nav_menu": {},
   "number_sections": true,
   "sideBar": true,
   "skip_h1_title": true,
   "title_cell": "Table of Contents",
   "title_sidebar": "Contents",
   "toc_cell": false,
   "toc_position": {},
   "toc_section_display": true,
   "toc_window_display": false
  }
 },
 "nbformat": 4,
 "nbformat_minor": 4
}
